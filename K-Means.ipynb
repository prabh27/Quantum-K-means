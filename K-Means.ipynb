{
 "cells": [
  {
   "cell_type": "markdown",
   "metadata": {},
   "source": [
    "### K-Means: Combinatorial Optimization Problem"
   ]
  },
  {
   "cell_type": "code",
   "execution_count": 21,
   "metadata": {},
   "outputs": [],
   "source": [
    "import numpy as np"
   ]
  },
  {
   "cell_type": "code",
   "execution_count": 22,
   "metadata": {},
   "outputs": [],
   "source": [
    "dataset = [(1, 2), (3, 4), (-1, -2), (-3, -4)]"
   ]
  },
  {
   "cell_type": "code",
   "execution_count": 31,
   "metadata": {},
   "outputs": [
    {
     "data": {
      "text/plain": [
       "[array([0.4472136 , 0.89442719]),\n",
       " array([0.6, 0.8]),\n",
       " array([-0.4472136 , -0.89442719]),\n",
       " array([-0.6, -0.8])]"
      ]
     },
     "execution_count": 31,
     "metadata": {},
     "output_type": "execute_result"
    }
   ],
   "source": [
    "new_dataset = []\n",
    "for d in dataset:\n",
    "    d = d/np.linalg.norm(d)\n",
    "    new_dataset.append(d)\n",
    "\n",
    "new_dataset\n",
    "# dataset[0]/np.linalg.norm(dataset[0])"
   ]
  },
  {
   "cell_type": "code",
   "execution_count": 32,
   "metadata": {},
   "outputs": [],
   "source": [
    "dataset = [(0.4472136 , 0.89442719), (0.6, 0.8), (-0.4472136 , -0.89442719), (-0.6, -0.8)]"
   ]
  },
  {
   "cell_type": "markdown",
   "metadata": {},
   "source": [
    "#### Number of clusters (K) = 2"
   ]
  },
  {
   "cell_type": "code",
   "execution_count": 37,
   "metadata": {},
   "outputs": [],
   "source": [
    "def dot(v1, v2):\n",
    "    return v1[0]*v2[0] + v1[1]*v2[1]\n",
    "\n",
    "def single_dataset_obj(dataset):\n",
    "    obj = 0\n",
    "    \n",
    "    if (len(dataset)) == 0:\n",
    "        return 0\n",
    "    \n",
    "    for v in dataset:\n",
    "        obj += dot(v, v)\n",
    "    \n",
    "    subtract_term = 0\n",
    "    for v1 in dataset:\n",
    "        for v2 in dataset:\n",
    "            subtract_term += dot(v1, v2)\n",
    "    subtract_term = subtract_term/len(dataset)\n",
    "    obj -= subtract_term\n",
    "    \n",
    "    return obj\n",
    "\n",
    "# negative of obj and remove constants, \n",
    "# prob of getting the correct cluster should be highest for the cluster with min objective\n",
    "def prob_clusters(dataset):\n",
    "    prob = 0\n",
    "    \n",
    "    if (len(dataset)) == 0:\n",
    "        return 0\n",
    "    \n",
    "#     for v in dataset:\n",
    "#         obj += dot(v, v)\n",
    "    \n",
    "    subtract_term = 0\n",
    "    for v1 in dataset:\n",
    "        for v2 in dataset:\n",
    "            subtract_term += dot(v1, v2)\n",
    "    subtract_term = subtract_term/len(dataset)\n",
    "    prob += subtract_term\n",
    "    \n",
    "    return prob\n",
    "\n",
    "def objective(dataset1, dataset2):\n",
    "    return single_dataset_obj(dataset1) + single_dataset_obj(dataset2)\n",
    "\n",
    "def prob(dataset1, dataset2):\n",
    "    return prob_clusters(dataset1) + prob_clusters(dataset2)"
   ]
  },
  {
   "cell_type": "code",
   "execution_count": 46,
   "metadata": {},
   "outputs": [
    {
     "name": "stdout",
     "output_type": "stream",
     "text": [
      "Cluster division: 0\n",
      "Objective: 4.000000004472512\n",
      "Probability: 0.0\n",
      "\n",
      "\n",
      "Cluster division: 1\n",
      "Objective: 2.666666668157504\n",
      "Probability: 1.3333333363150082\n",
      "\n",
      "\n",
      "Cluster division: 2\n",
      "Objective: 2.6666666711391787\n",
      "Probability: 1.3333333333333333\n",
      "\n",
      "\n",
      "Cluster division: 3\n",
      "Objective: 0.03226017823625593\n",
      "Probability: 3.967739826236256\n",
      "\n",
      "\n",
      "Cluster division: 4\n",
      "Objective: 2.666666668157504\n",
      "Probability: 1.333333336315008\n",
      "\n",
      "\n",
      "Cluster division: 5\n",
      "Objective: 4.000000004472512\n",
      "Probability: 0.0\n",
      "\n",
      "\n",
      "Cluster division: 6\n",
      "Objective: 3.967739826236256\n",
      "Probability: 0.03226017823625593\n",
      "\n",
      "\n",
      "Cluster division: 7\n",
      "Objective: 2.6666666711391787\n",
      "Probability: 1.3333333333333333\n",
      "\n",
      "\n"
     ]
    }
   ],
   "source": [
    "for i in range(8):\n",
    "    dataset1 = []\n",
    "    dataset2 = []\n",
    "    for j in range(4):\n",
    "        if i & pow(2,j):\n",
    "            dataset1.append(dataset[j])\n",
    "        else:\n",
    "            dataset2.append(dataset[j])\n",
    "\n",
    "    print (\"Cluster division: {}\".format(i))\n",
    "    print (\"Objective: {}\".format(objective(dataset1, dataset2)))\n",
    "    print (\"Probability: {}\".format(prob(dataset1, dataset2)))\n",
    "    print (\"\\n\")"
   ]
  },
  {
   "cell_type": "code",
   "execution_count": 35,
   "metadata": {},
   "outputs": [
    {
     "name": "stdout",
     "output_type": "stream",
     "text": [
      "1.000000002236256\n",
      "0.9838699120000001\n",
      "-1.000000002236256\n",
      "-0.9838699120000001\n",
      "0.9838699120000001\n",
      "1.0\n",
      "-0.9838699120000001\n",
      "-1.0\n",
      "-1.000000002236256\n",
      "-0.9838699120000001\n",
      "1.000000002236256\n",
      "0.9838699120000001\n",
      "-0.9838699120000001\n",
      "-1.0\n",
      "0.9838699120000001\n",
      "1.0\n"
     ]
    }
   ],
   "source": [
    "for d1 in dataset:\n",
    "    for d2 in dataset: \n",
    "        print (dot(d1, d2))"
   ]
  },
  {
   "cell_type": "code",
   "execution_count": 36,
   "metadata": {},
   "outputs": [
    {
     "data": {
      "text/plain": [
       "0.9838699120000001"
      ]
     },
     "execution_count": 36,
     "metadata": {},
     "output_type": "execute_result"
    }
   ],
   "source": [
    "dot(dataset[0], dataset[1])"
   ]
  },
  {
   "cell_type": "markdown",
   "metadata": {},
   "source": [
    "### Unitary Matrix Construction"
   ]
  },
  {
   "cell_type": "code",
   "execution_count": 148,
   "metadata": {},
   "outputs": [],
   "source": [
    "a = np.array([\n",
    "        [1,  0.5, 1, -0.5],\n",
    "        [0.5, 0, 0,  1],\n",
    "        [1,   0, 1,  0],\n",
    "        [-0.5,   1, 0,  1]\n",
    "             ])"
   ]
  },
  {
   "cell_type": "code",
   "execution_count": 149,
   "metadata": {},
   "outputs": [],
   "source": [
    "a_t = a.T"
   ]
  },
  {
   "cell_type": "code",
   "execution_count": 150,
   "metadata": {},
   "outputs": [
    {
     "data": {
      "text/plain": [
       "array([[ 1. ,  0.5,  1. , -0.5],\n",
       "       [ 0.5,  0. ,  0. ,  1. ],\n",
       "       [ 1. ,  0. ,  1. ,  0. ],\n",
       "       [-0.5,  1. ,  0. ,  1. ]])"
      ]
     },
     "execution_count": 150,
     "metadata": {},
     "output_type": "execute_result"
    }
   ],
   "source": [
    "a_t"
   ]
  },
  {
   "cell_type": "code",
   "execution_count": 151,
   "metadata": {},
   "outputs": [],
   "source": [
    "a_i = np.linalg.inv(a)"
   ]
  },
  {
   "cell_type": "code",
   "execution_count": 152,
   "metadata": {
    "scrolled": true
   },
   "outputs": [
    {
     "data": {
      "text/plain": [
       "array([[ 1.33333333,  1.33333333, -1.33333333, -0.66666667],\n",
       "       [ 1.33333333,  0.33333333, -1.33333333,  0.33333333],\n",
       "       [-1.33333333, -1.33333333,  2.33333333,  0.66666667],\n",
       "       [-0.66666667,  0.33333333,  0.66666667,  0.33333333]])"
      ]
     },
     "execution_count": 152,
     "metadata": {},
     "output_type": "execute_result"
    }
   ],
   "source": [
    "a_i"
   ]
  },
  {
   "cell_type": "code",
   "execution_count": 153,
   "metadata": {},
   "outputs": [
    {
     "data": {
      "text/plain": [
       "False"
      ]
     },
     "execution_count": 153,
     "metadata": {},
     "output_type": "execute_result"
    }
   ],
   "source": [
    "np.allclose(a_i, a_t)"
   ]
  },
  {
   "cell_type": "code",
   "execution_count": 154,
   "metadata": {},
   "outputs": [
    {
     "data": {
      "text/plain": [
       "array([[ 2.5 ,  0.  ,  2.  , -0.5 ],\n",
       "       [ 0.  ,  1.25,  0.5 ,  0.75],\n",
       "       [ 2.  ,  0.5 ,  2.  , -0.5 ],\n",
       "       [-0.5 ,  0.75, -0.5 ,  2.25]])"
      ]
     },
     "execution_count": 154,
     "metadata": {},
     "output_type": "execute_result"
    }
   ],
   "source": [
    "np.matmul(a, a_t)"
   ]
  },
  {
   "cell_type": "code",
   "execution_count": null,
   "metadata": {},
   "outputs": [],
   "source": []
  }
 ],
 "metadata": {
  "kernelspec": {
   "display_name": "Python 3 (ipykernel)",
   "language": "python",
   "name": "python3"
  },
  "language_info": {
   "codemirror_mode": {
    "name": "ipython",
    "version": 3
   },
   "file_extension": ".py",
   "mimetype": "text/x-python",
   "name": "python",
   "nbconvert_exporter": "python",
   "pygments_lexer": "ipython3",
   "version": "3.9.6"
  }
 },
 "nbformat": 4,
 "nbformat_minor": 4
}
