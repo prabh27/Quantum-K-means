{
 "cells": [
  {
   "cell_type": "code",
   "execution_count": 3,
   "metadata": {},
   "outputs": [],
   "source": [
    "from sympy.solvers import solve\n",
    "from sympy import Symbol, I\n",
    "import numpy as np\n",
    "import sympy as sp\n",
    "from sympy.physics.quantum.dagger import Dagger"
   ]
  },
  {
   "cell_type": "code",
   "execution_count": 15,
   "metadata": {},
   "outputs": [],
   "source": [
    "b = sympy.symarray('b', 41)\n",
    "alpha = sympy.Symbol('alpha')"
   ]
  },
  {
   "cell_type": "code",
   "execution_count": 16,
   "metadata": {},
   "outputs": [],
   "source": [
    "I = sp.eye(8)"
   ]
  },
  {
   "cell_type": "code",
   "execution_count": 17,
   "metadata": {},
   "outputs": [
    {
     "data": {
      "text/plain": [
       "[0, 0, 0, 0, 1, 0, 0, 0]"
      ]
     },
     "execution_count": 17,
     "metadata": {},
     "output_type": "execute_result"
    }
   ],
   "source": [
    "I[32:40]"
   ]
  },
  {
   "cell_type": "code",
   "execution_count": 24,
   "metadata": {},
   "outputs": [],
   "source": [
    "U = sympy.Matrix([\n",
    "        [1/3, 2/3, 2/3, 1/3, 2/3, 1/3, b[1], b[2]],\n",
    "        [1/2, 2/2, 0,   1/2,  0,  1,   b[3], b[4]],\n",
    "        [1/2, 0,   2/2,  1,   0,  1/2, b[5], b[6]],\n",
    "        [1,   0,    0,  1/2, 2/2, 1/2, b[7], b[8]],\n",
    "        I[32:40],\n",
    "        I[40:48],\n",
    "        I[48:56],\n",
    "        I[56:64]\n",
    "])\n",
    "U = U/alpha"
   ]
  },
  {
   "cell_type": "code",
   "execution_count": 25,
   "metadata": {},
   "outputs": [
    {
     "data": {
      "text/latex": [
       "$\\displaystyle \\left[\\begin{matrix}\\frac{0.333333333333333}{\\overline{\\alpha}} & \\frac{0.5}{\\overline{\\alpha}} & \\frac{0.5}{\\overline{\\alpha}} & \\frac{1}{\\overline{\\alpha}} & 0 & 0 & 0 & 0\\\\\\frac{0.666666666666667}{\\overline{\\alpha}} & \\frac{1.0}{\\overline{\\alpha}} & 0 & 0 & 0 & 0 & 0 & 0\\\\\\frac{0.666666666666667}{\\overline{\\alpha}} & 0 & \\frac{1.0}{\\overline{\\alpha}} & 0 & 0 & 0 & 0 & 0\\\\\\frac{0.333333333333333}{\\overline{\\alpha}} & \\frac{0.5}{\\overline{\\alpha}} & \\frac{1}{\\overline{\\alpha}} & \\frac{0.5}{\\overline{\\alpha}} & 0 & 0 & 0 & 0\\\\\\frac{0.666666666666667}{\\overline{\\alpha}} & 0 & 0 & \\frac{1.0}{\\overline{\\alpha}} & \\frac{1}{\\overline{\\alpha}} & 0 & 0 & 0\\\\\\frac{0.333333333333333}{\\overline{\\alpha}} & \\frac{1}{\\overline{\\alpha}} & \\frac{0.5}{\\overline{\\alpha}} & \\frac{0.5}{\\overline{\\alpha}} & 0 & \\frac{1}{\\overline{\\alpha}} & 0 & 0\\\\\\frac{\\overline{b_{1}}}{\\overline{\\alpha}} & \\frac{\\overline{b_{3}}}{\\overline{\\alpha}} & \\frac{\\overline{b_{5}}}{\\overline{\\alpha}} & \\frac{\\overline{b_{7}}}{\\overline{\\alpha}} & 0 & 0 & \\frac{1}{\\overline{\\alpha}} & 0\\\\\\frac{\\overline{b_{2}}}{\\overline{\\alpha}} & \\frac{\\overline{b_{4}}}{\\overline{\\alpha}} & \\frac{\\overline{b_{6}}}{\\overline{\\alpha}} & \\frac{\\overline{b_{8}}}{\\overline{\\alpha}} & 0 & 0 & 0 & \\frac{1}{\\overline{\\alpha}}\\end{matrix}\\right]$"
      ],
      "text/plain": [
       "Matrix([\n",
       "[0.333333333333333/conjugate(alpha),            0.5/conjugate(alpha),            0.5/conjugate(alpha),              1/conjugate(alpha),                  0,                  0,                  0,                  0],\n",
       "[0.666666666666667/conjugate(alpha),            1.0/conjugate(alpha),                               0,                               0,                  0,                  0,                  0,                  0],\n",
       "[0.666666666666667/conjugate(alpha),                               0,            1.0/conjugate(alpha),                               0,                  0,                  0,                  0,                  0],\n",
       "[0.333333333333333/conjugate(alpha),            0.5/conjugate(alpha),              1/conjugate(alpha),            0.5/conjugate(alpha),                  0,                  0,                  0,                  0],\n",
       "[0.666666666666667/conjugate(alpha),                               0,                               0,            1.0/conjugate(alpha), 1/conjugate(alpha),                  0,                  0,                  0],\n",
       "[0.333333333333333/conjugate(alpha),              1/conjugate(alpha),            0.5/conjugate(alpha),            0.5/conjugate(alpha),                  0, 1/conjugate(alpha),                  0,                  0],\n",
       "[   conjugate(b_1)/conjugate(alpha), conjugate(b_3)/conjugate(alpha), conjugate(b_5)/conjugate(alpha), conjugate(b_7)/conjugate(alpha),                  0,                  0, 1/conjugate(alpha),                  0],\n",
       "[   conjugate(b_2)/conjugate(alpha), conjugate(b_4)/conjugate(alpha), conjugate(b_6)/conjugate(alpha), conjugate(b_8)/conjugate(alpha),                  0,                  0,                  0, 1/conjugate(alpha)]])"
      ]
     },
     "execution_count": 25,
     "metadata": {},
     "output_type": "execute_result"
    }
   ],
   "source": [
    "Dagger(U)"
   ]
  },
  {
   "cell_type": "code",
   "execution_count": 26,
   "metadata": {},
   "outputs": [
    {
     "data": {
      "text/plain": [
       "[]"
      ]
     },
     "execution_count": 26,
     "metadata": {},
     "output_type": "execute_result"
    }
   ],
   "source": [
    "solve (Dagger(U) - U, dict=True)"
   ]
  },
  {
   "cell_type": "code",
   "execution_count": 27,
   "metadata": {},
   "outputs": [],
   "source": [
    "mul = Dagger(U) * U"
   ]
  },
  {
   "cell_type": "code",
   "execution_count": 28,
   "metadata": {},
   "outputs": [],
   "source": [
    "ans = solve(mul - I, dict=True)"
   ]
  },
  {
   "cell_type": "code",
   "execution_count": 29,
   "metadata": {},
   "outputs": [
    {
     "data": {
      "text/plain": [
       "[]"
      ]
     },
     "execution_count": 29,
     "metadata": {},
     "output_type": "execute_result"
    }
   ],
   "source": [
    "ans"
   ]
  },
  {
   "cell_type": "code",
   "execution_count": null,
   "metadata": {},
   "outputs": [],
   "source": []
  }
 ],
 "metadata": {
  "kernelspec": {
   "display_name": "Python 3 (ipykernel)",
   "language": "python",
   "name": "python3"
  },
  "language_info": {
   "codemirror_mode": {
    "name": "ipython",
    "version": 3
   },
   "file_extension": ".py",
   "mimetype": "text/x-python",
   "name": "python",
   "nbconvert_exporter": "python",
   "pygments_lexer": "ipython3",
   "version": "3.9.6"
  }
 },
 "nbformat": 4,
 "nbformat_minor": 4
}
