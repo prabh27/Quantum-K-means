{
 "cells": [
  {
   "cell_type": "code",
   "execution_count": 89,
   "metadata": {},
   "outputs": [],
   "source": [
    "import networkx as nx\n",
    "from sklearn.cluster import KMeans\n",
    "import numpy as np\n",
    "import matplotlib.pyplot as plt\n",
    "import matplotlib\n",
    "from qc_grader.graph_util import display_maxcut_widget, QAOA_widget, graphs\n",
    "from qiskit import QuantumCircuit\n",
    "from qiskit.circuit import Parameter, ParameterVector\n",
    "from qiskit_optimization import QuadraticProgram\n",
    "from typing import List\n",
    "import plotly.graph_objects as go\n",
    "import matplotlib as mpl\n",
    "import pandas as pd\n",
    "from IPython.display import clear_output\n",
    "from plotly.subplots import make_subplots\n",
    "from matplotlib import pyplot as plt\n",
    "from qiskit import Aer\n",
    "from qiskit import QuantumCircuit\n",
    "from qiskit.visualization import plot_state_city\n",
    "from qiskit.algorithms.optimizers import COBYLA, SLSQP, ADAM\n",
    "from qiskit.algorithms import QAOA\n",
    "from qiskit_optimization.algorithms import MinimumEigenOptimizer\n",
    "from time import time\n",
    "from copy import copy\n",
    "from qc_grader.graph_util import display_maxcut_widget, QAOA_widget, graphs\n",
    "import math\n",
    "from qiskit.visualization import plot_histogram\n",
    "import operator\n",
    "from collections import Counter\n",
    "from qiskit.circuit.add_control import add_control\n",
    "import numpy as np\n",
    "\n",
    "\n",
    "\n",
    "matplotlib.rcParams['figure.dpi'] = 100"
   ]
  },
  {
   "cell_type": "markdown",
   "metadata": {},
   "source": [
    "### Testing how cirq works"
   ]
  },
  {
   "cell_type": "code",
   "execution_count": 92,
   "metadata": {},
   "outputs": [
    {
     "data": {
      "text/plain": [
       "<qiskit.circuit.instructionset.InstructionSet at 0x7f939408cf40>"
      ]
     },
     "execution_count": 92,
     "metadata": {},
     "output_type": "execute_result"
    }
   ],
   "source": [
    "from qiskit import QuantumCircuit, QuantumRegister\n",
    "from qiskit.quantum_info.operators import Operator\n",
    "\n",
    "controls = QuantumRegister(2)\n",
    "circuit = QuantumCircuit(controls)\n",
    "\n",
    "cx = Operator([\n",
    "    [1, 0, 0, 0],\n",
    "    [0, 0, 0, 1],\n",
    "    [0, 0, 1, 0],\n",
    "    [0, 1, 0, 0]\n",
    "])\n",
    "circuit.unitary(cx, [0, 1], label='cx')"
   ]
  },
  {
   "cell_type": "code",
   "execution_count": 93,
   "metadata": {},
   "outputs": [
    {
     "name": "stdout",
     "output_type": "stream",
     "text": [
      "Circuit:\n",
      "(0, 0): ───X^0.5───M('m')───\n",
      "Results:\n",
      "m=00000100101011001111\n"
     ]
    }
   ],
   "source": [
    "import cirq\n",
    "\n",
    "# Pick a qubit.\n",
    "qubit = cirq.GridQubit(0, 0)\n",
    "\n",
    "# Create a circuit\n",
    "circuit = cirq.Circuit(\n",
    "  cirq.X(qubit)**0.5,  # Square root of NOT.\n",
    "  cirq.measure(qubit, key='m')  # Measurement.\n",
    ")\n",
    "print(\"Circuit:\")\n",
    "print(circuit)\n",
    "\n",
    "# Simulate the circuit several times.\n",
    "simulator = cirq.Simulator()\n",
    "result = simulator.run(circuit, repetitions=20)\n",
    "print(\"Results:\")\n",
    "print(result)"
   ]
  },
  {
   "cell_type": "markdown",
   "metadata": {},
   "source": [
    "### Binary clustering objective function - classical"
   ]
  },
  {
   "cell_type": "code",
   "execution_count": 94,
   "metadata": {},
   "outputs": [],
   "source": [
    "def dot(v1, v2):\n",
    "    return v1[0]*v2[0] + v1[1]*v2[1]\n",
    "\n",
    "def single_dataset_obj(dataset):\n",
    "    obj = 0\n",
    "    \n",
    "    if (len(dataset)) == 0:\n",
    "        return 0\n",
    "    \n",
    "    for v in dataset:\n",
    "        obj += dot(v, v)\n",
    "    \n",
    "    subtract_term = 0\n",
    "    for v1 in dataset:\n",
    "        for v2 in dataset:\n",
    "            subtract_term += dot(v1, v2)\n",
    "    subtract_term = subtract_term/len(dataset)\n",
    "    obj -= subtract_term\n",
    "    \n",
    "    return obj\n",
    "\n",
    "# negative of obj and remove constants, \n",
    "# prob of getting the correct cluster should be highest for the cluster with min objective\n",
    "def prob_clusters(dataset):\n",
    "    prob = 0\n",
    "    \n",
    "    if (len(dataset)) == 0:\n",
    "        return 0\n",
    "    \n",
    "#     for v in dataset:\n",
    "#         obj += dot(v, v)\n",
    "    \n",
    "    subtract_term = 0\n",
    "    for v1 in dataset:\n",
    "        for v2 in dataset:\n",
    "            subtract_term += dot(v1, v2)\n",
    "    subtract_term = subtract_term/len(dataset)\n",
    "    prob += subtract_term\n",
    "    \n",
    "    return prob\n",
    "\n",
    "def objective(dataset1, dataset2):\n",
    "    return single_dataset_obj(dataset1) + single_dataset_obj(dataset2)\n",
    "\n",
    "def prob(dataset1, dataset2):\n",
    "    return prob_clusters(dataset1) + prob_clusters(dataset2)"
   ]
  },
  {
   "cell_type": "code",
   "execution_count": 95,
   "metadata": {},
   "outputs": [],
   "source": [
    "dataset = [(1, 2), (3, 4), (-1, -2), (-3, -4)]"
   ]
  },
  {
   "cell_type": "markdown",
   "metadata": {},
   "source": [
    "### Let's test if binary clustering algo runs for 2 datapoints"
   ]
  },
  {
   "cell_type": "code",
   "execution_count": 96,
   "metadata": {},
   "outputs": [],
   "source": [
    "\"\"\"Define a custom single-qubit gate.\"\"\"\n",
    "class BinaryClusterGateTwoDatapoints(cirq.TwoQubitGate):\n",
    "    def __init__(self):\n",
    "        super(BinaryClusterGateTwoDatapoints, self)\n",
    "\n",
    "    def _num_qubits_(self):\n",
    "        return 2\n",
    "\n",
    "    def _unitary_(self):\n",
    "        return np.array([\n",
    "           [ 0.29983821,  0.59967641,  0.29983821,  0.67866214],\n",
    "           [ 0.59967641,  0.        ,  0.59967641, -0.52988339],\n",
    "           [ 0.29983821,  0.59967641, -0.63658818, -0.38110464],\n",
    "           [ 0.67866214, -0.52988339, -0.38110464,  0.33674997]\n",
    "        ])\n",
    "\n",
    "    def _circuit_diagram_info_(self, args):\n",
    "        return \"U1\", \"U1\"\n",
    "    \n",
    "\"\"\"Define a custom single-qubit gate.\"\"\"\n",
    "class StatePreparationGate(cirq.TwoQubitGate):\n",
    "    def __init__(self):\n",
    "        super(StatePreparationGate, self)\n",
    "\n",
    "    def _num_qubits_(self):\n",
    "        return 2\n",
    "\n",
    "    def _unitary_(self):\n",
    "        return np.array([\n",
    "           [ 0.29983821,  0.59967641,  0.29983821,  0.67866214],\n",
    "           [ 0.59967641,  0.        ,  0.59967641, -0.52988339],\n",
    "           [ 0.29983821,  0.59967641, -0.63658818, -0.38110464],\n",
    "           [ 0.67866214, -0.52988339, -0.38110464,  0.33674997]\n",
    "        ])\n",
    "\n",
    "    def _circuit_diagram_info_(self, args):\n",
    "        return \"U1\", \"U1\"\n",
    "\n",
    "my_gate = BinaryClusterGateTwoDatapoints()"
   ]
  },
  {
   "cell_type": "code",
   "execution_count": 97,
   "metadata": {},
   "outputs": [
    {
     "name": "stdout",
     "output_type": "stream",
     "text": [
      "Circuit with custom two-qubit gate:\n",
      "0: ───U1───\n",
      "      │\n",
      "1: ───U1───\n"
     ]
    }
   ],
   "source": [
    "\"\"\"Use the custom two-qubit gate in a circuit.\"\"\"\n",
    "circ = cirq.Circuit(\n",
    "    my_gate.on(*cirq.LineQubit.range(2))\n",
    ")\n",
    "\n",
    "print(\"Circuit with custom two-qubit gate:\")\n",
    "print(circ)"
   ]
  },
  {
   "cell_type": "code",
   "execution_count": 98,
   "metadata": {},
   "outputs": [
    {
     "name": "stdout",
     "output_type": "stream",
     "text": [
      "Circuit:\n",
      "0: ───U1───\n",
      "      │\n",
      "1: ───U1───\n"
     ]
    }
   ],
   "source": [
    "qreg = cirq.LineQubit.range(2)\n",
    "circ = cirq.Circuit(\n",
    "#     cirq.H(qreg[0]),\n",
    "#     cirq.H(qreg[1]),\n",
    "#     cirq.H(qreg[0]),\n",
    "#     cirq.H(qreg[1]),\n",
    "    my_gate.on(*qreg)\n",
    ")\n",
    "\n",
    "print(\"Circuit:\")\n",
    "print(circ)"
   ]
  },
  {
   "cell_type": "markdown",
   "metadata": {},
   "source": [
    "#### Initial state = [x0.x0, x0.x1, x1.x1, 0] (normalized)"
   ]
  },
  {
   "cell_type": "code",
   "execution_count": 120,
   "metadata": {},
   "outputs": [],
   "source": [
    "def create_initial_state(point1, point2):\n",
    "    initial_state = [dot(point1, point1), \n",
    "                 dot(point1, point2),\n",
    "                 dot(point2, point2),\n",
    "                 0]\n",
    "    initial_state = initial_state/np.linalg.norm(initial_state)\n",
    "    return initial_state"
   ]
  },
  {
   "cell_type": "code",
   "execution_count": 125,
   "metadata": {},
   "outputs": [
    {
     "name": "stdout",
     "output_type": "stream",
     "text": [
      "measurements: (no measurements)\n",
      "output vector: 0.562|00⟩ + 0.648|01⟩ - 0.282|10⟩ - 0.431|11⟩\n"
     ]
    }
   ],
   "source": [
    "initial_state = create_initial_state(dataset[0], dataset[1])\n",
    "\n",
    "\"\"\"Simulate a circuit with a custom gate.\"\"\"\n",
    "sim = cirq.Simulator()\n",
    "\n",
    "res = sim.simulate(circ, initial_state=initial_state)\n",
    "print(res)"
   ]
  },
  {
   "cell_type": "markdown",
   "metadata": {},
   "source": [
    "### Out of probability 00, 01 we see that 01 is higher -> 01 is the most optimal cluster"
   ]
  },
  {
   "cell_type": "markdown",
   "metadata": {},
   "source": [
    "### Lets see the classical results"
   ]
  },
  {
   "cell_type": "code",
   "execution_count": 127,
   "metadata": {},
   "outputs": [],
   "source": [
    "dataset1 = np.array([dataset[0]])\n",
    "dataset2 = np.array([dataset[1]])"
   ]
  },
  {
   "cell_type": "code",
   "execution_count": 128,
   "metadata": {},
   "outputs": [
    {
     "name": "stdout",
     "output_type": "stream",
     "text": [
      "Objective for 01 clustering:  0.0\n",
      "Inverse Objective for 01 clustering:  30.0\n"
     ]
    }
   ],
   "source": [
    "print (\"Objective for 01 clustering: \" , objective(dataset1, dataset2))\n",
    "print (\"Inverse Objective for 01 clustering: \", prob(dataset1, dataset2))"
   ]
  },
  {
   "cell_type": "code",
   "execution_count": 129,
   "metadata": {},
   "outputs": [],
   "source": [
    "dataset1 = np.array([dataset[0], dataset[1]])\n",
    "dataset2 = np.array([])"
   ]
  },
  {
   "cell_type": "code",
   "execution_count": 130,
   "metadata": {},
   "outputs": [
    {
     "name": "stdout",
     "output_type": "stream",
     "text": [
      "Objective for 00 clustering:  4.0\n",
      "Inverse Objective for 00 clustering:  26.0\n"
     ]
    }
   ],
   "source": [
    "print (\"Objective for 00 clustering: \" , objective(dataset1, dataset2))\n",
    "print (\"Inverse Objective for 00 clustering: \", prob(dataset1, dataset2))"
   ]
  },
  {
   "cell_type": "markdown",
   "metadata": {},
   "source": [
    "### Lets test other data points"
   ]
  },
  {
   "cell_type": "code",
   "execution_count": 131,
   "metadata": {},
   "outputs": [
    {
     "name": "stdout",
     "output_type": "stream",
     "text": [
      "measurements: (no measurements)\n",
      "output vector: 0.692|01⟩ - 0.541|10⟩ + 0.478|11⟩\n"
     ]
    }
   ],
   "source": [
    "initial_state = create_initial_state(dataset[0], dataset[2])\n",
    "\n",
    "\"\"\"Simulate a circuit with a custom gate.\"\"\"\n",
    "sim = cirq.Simulator()\n",
    "\n",
    "res = sim.simulate(circ, initial_state=initial_state)\n",
    "print(res)"
   ]
  },
  {
   "cell_type": "code",
   "execution_count": 132,
   "metadata": {},
   "outputs": [
    {
     "name": "stdout",
     "output_type": "stream",
     "text": [
      "measurements: (no measurements)\n",
      "output vector: 0.086|00⟩ + 0.648|01⟩ - 0.757|10⟩ - 0.011|11⟩\n"
     ]
    }
   ],
   "source": [
    "initial_state = create_initial_state(dataset[0], dataset[3])\n",
    "\n",
    "\"\"\"Simulate a circuit with a custom gate.\"\"\"\n",
    "sim = cirq.Simulator()\n",
    "\n",
    "res = sim.simulate(circ, initial_state=initial_state)\n",
    "print(res)"
   ]
  },
  {
   "cell_type": "code",
   "execution_count": 133,
   "metadata": {},
   "outputs": [
    {
     "name": "stdout",
     "output_type": "stream",
     "text": [
      "measurements: (no measurements)\n",
      "output vector: 0.692|01⟩ - 0.541|10⟩ + 0.478|11⟩\n"
     ]
    }
   ],
   "source": [
    "initial_state = create_initial_state(dataset[1], dataset[3])\n",
    "\n",
    "\"\"\"Simulate a circuit with a custom gate.\"\"\"\n",
    "sim = cirq.Simulator()\n",
    "\n",
    "res = sim.simulate(circ, initial_state=initial_state)\n",
    "print(res)"
   ]
  },
  {
   "cell_type": "code",
   "execution_count": 134,
   "metadata": {},
   "outputs": [
    {
     "name": "stdout",
     "output_type": "stream",
     "text": [
      "measurements: (no measurements)\n",
      "output vector: 0.086|00⟩ + 0.648|01⟩ - 0.082|10⟩ + 0.752|11⟩\n"
     ]
    }
   ],
   "source": [
    "initial_state = create_initial_state(dataset[1], dataset[2])\n",
    "\n",
    "\"\"\"Simulate a circuit with a custom gate.\"\"\"\n",
    "sim = cirq.Simulator()\n",
    "\n",
    "res = sim.simulate(circ, initial_state=initial_state)\n",
    "print(res)"
   ]
  },
  {
   "cell_type": "code",
   "execution_count": 135,
   "metadata": {},
   "outputs": [
    {
     "name": "stdout",
     "output_type": "stream",
     "text": [
      "measurements: (no measurements)\n",
      "output vector: 0.562|00⟩ + 0.648|01⟩ - 0.282|10⟩ - 0.431|11⟩\n"
     ]
    }
   ],
   "source": [
    "initial_state = create_initial_state(dataset[2], dataset[3])\n",
    "\n",
    "\"\"\"Simulate a circuit with a custom gate.\"\"\"\n",
    "sim = cirq.Simulator()\n",
    "\n",
    "res = sim.simulate(circ, initial_state=initial_state)\n",
    "print(res)"
   ]
  },
  {
   "cell_type": "code",
   "execution_count": null,
   "metadata": {},
   "outputs": [],
   "source": []
  }
 ],
 "metadata": {
  "kernelspec": {
   "display_name": "Python 3 (ipykernel)",
   "language": "python",
   "name": "python3"
  },
  "language_info": {
   "codemirror_mode": {
    "name": "ipython",
    "version": 3
   },
   "file_extension": ".py",
   "mimetype": "text/x-python",
   "name": "python",
   "nbconvert_exporter": "python",
   "pygments_lexer": "ipython3",
   "version": "3.9.6"
  }
 },
 "nbformat": 4,
 "nbformat_minor": 4
}
