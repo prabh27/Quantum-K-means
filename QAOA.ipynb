{
 "cells": [
  {
   "cell_type": "code",
   "execution_count": 1,
   "id": "7d4a280f",
   "metadata": {},
   "outputs": [],
   "source": [
    "import networkx as nx\n",
    "from sklearn.cluster import KMeans\n",
    "import numpy as np\n",
    "import matplotlib.pyplot as plt\n",
    "import matplotlib\n",
    "from qc_grader.graph_util import display_maxcut_widget, QAOA_widget, graphs\n",
    "from qiskit import QuantumCircuit\n",
    "from qiskit.circuit import Parameter, ParameterVector\n",
    "from qiskit_optimization import QuadraticProgram\n",
    "from typing import List\n",
    "import plotly.graph_objects as go\n",
    "import matplotlib as mpl\n",
    "import pandas as pd\n",
    "from IPython.display import clear_output\n",
    "from plotly.subplots import make_subplots\n",
    "from matplotlib import pyplot as plt\n",
    "from qiskit import Aer\n",
    "from qiskit import QuantumCircuit\n",
    "from qiskit.visualization import plot_state_city\n",
    "from qiskit.algorithms.optimizers import COBYLA, SLSQP, ADAM\n",
    "from qiskit.algorithms import QAOA\n",
    "from qiskit_optimization.algorithms import MinimumEigenOptimizer\n",
    "from time import time\n",
    "from copy import copy\n",
    "from qc_grader.graph_util import display_maxcut_widget, QAOA_widget, graphs\n",
    "import math\n",
    "from qiskit.visualization import plot_histogram\n",
    "import operator\n",
    "from collections import Counter\n",
    "\n",
    "\n",
    "\n",
    "matplotlib.rcParams['figure.dpi'] = 100"
   ]
  },
  {
   "cell_type": "code",
   "execution_count": 2,
   "id": "a7b7e9c6",
   "metadata": {
    "scrolled": true
   },
   "outputs": [
    {
     "data": {
      "text/plain": [
       "Text(0.5, 1.0, 'dataset')"
      ]
     },
     "execution_count": 2,
     "metadata": {},
     "output_type": "execute_result"
    },
    {
     "data": {
      "image/png": "[encoded data removed]",
      "text/plain": [
       "<Figure size 600x400 with 1 Axes>"
      ]
     },
     "metadata": {
      "needs_background": "light"
     },
     "output_type": "display_data"
    }
   ],
   "source": [
    "X = np.array([[1, 2], [1, 4], [1, 0],\n",
    "            [10, 2], [10, 4], [10, 0]])\n",
    "plt.subplot(221)\n",
    "plt.scatter(X[:, 0], X[:, 1])\n",
    "plt.title(\"dataset\")"
   ]
  },
  {
   "cell_type": "code",
   "execution_count": 3,
   "id": "b19d0681",
   "metadata": {},
   "outputs": [],
   "source": [
    "### Each point has an id\n",
    "def get_points_dict(X):\n",
    "    points = {}\n",
    "    i = 0\n",
    "    for p in X:\n",
    "        points[i] = p\n",
    "        i += 1\n",
    "    num_points = i - 1\n",
    "    return points"
   ]
  },
  {
   "cell_type": "code",
   "execution_count": 4,
   "id": "9af5f580",
   "metadata": {},
   "outputs": [],
   "source": [
    "points = get_points_dict(X)"
   ]
  },
  {
   "cell_type": "markdown",
   "id": "ec97a158",
   "metadata": {},
   "source": [
    "### Classical K-means"
   ]
  },
  {
   "cell_type": "code",
   "execution_count": 5,
   "id": "e889c9bf",
   "metadata": {},
   "outputs": [
    {
     "data": {
      "text/plain": [
       "array([1, 1, 1, 0, 0, 0], dtype=int32)"
      ]
     },
     "execution_count": 5,
     "metadata": {},
     "output_type": "execute_result"
    }
   ],
   "source": [
    "kmeans = KMeans(n_clusters=2, random_state=0).fit(X)\n",
    "kmeans.labels_"
   ]
  },
  {
   "cell_type": "code",
   "execution_count": 6,
   "id": "42be03d5",
   "metadata": {},
   "outputs": [],
   "source": [
    "y_pred = KMeans(n_clusters=2, random_state=0).fit_predict(X)"
   ]
  },
  {
   "cell_type": "code",
   "execution_count": 7,
   "id": "f4c2d2a7",
   "metadata": {},
   "outputs": [
    {
     "data": {
      "text/plain": [
       "Text(0.5, 1.0, 'Classical Prediction')"
      ]
     },
     "execution_count": 7,
     "metadata": {},
     "output_type": "execute_result"
    },
    {
     "data": {
      "image/png": "[encoded data removed]",
      "text/plain": [
       "<Figure size 600x400 with 1 Axes>"
      ]
     },
     "metadata": {
      "needs_background": "light"
     },
     "output_type": "display_data"
    }
   ],
   "source": [
    "plt.subplot(221)\n",
    "plt.scatter(X[:, 0], X[:, 1], c=y_pred)\n",
    "plt.title(\"Classical Prediction\")"
   ]
  },
  {
   "cell_type": "markdown",
   "id": "3a3df2e3",
   "metadata": {},
   "source": [
    "### Quantum K-means"
   ]
  },
  {
   "cell_type": "markdown",
   "id": "dec0fc2b",
   "metadata": {},
   "source": [
    "#### Generate a graph from the points in the array\n",
    "\n",
    "Each vertex representing a point on x-y plane and weights between the vertices is the distance between them"
   ]
  },
  {
   "cell_type": "code",
   "execution_count": 8,
   "id": "0368b73f",
   "metadata": {},
   "outputs": [],
   "source": [
    "def graph_from_points(points):\n",
    "    num_points = len(points)\n",
    "    G = nx.Graph()\n",
    "    edges = []\n",
    "    for i in range(num_points):\n",
    "        G.add_node(i, pos=tuple(points[i]))\n",
    "        for j in range(num_points):\n",
    "            if i == j: \n",
    "                continue\n",
    "            edges.append((i, j, np.linalg.norm(points[i] - points[j])))\n",
    "\n",
    "    G.add_weighted_edges_from(edges)\n",
    "    return G"
   ]
  },
  {
   "cell_type": "code",
   "execution_count": 9,
   "id": "562e9b28",
   "metadata": {},
   "outputs": [],
   "source": [
    "G = graph_from_points(points)"
   ]
  },
  {
   "cell_type": "code",
   "execution_count": 15,
   "metadata": {},
   "outputs": [
    {
     "data": {
      "text/plain": [
       "\\ This file has been generated by DOcplex\n",
       "\\ ENCODING=ISO-8859-1\n",
       "\\Problem name: CPLEX\n",
       "\n",
       "Maximize\n",
       " obj: 31.439088914586 x_0 + 34.068402259089 x_1 + 34.068402259089 x_2\n",
       "      + 31.439088914586 x_3 + 34.068402259089 x_4 + 34.068402259089 x_5 + [\n",
       "      - 8 x_0*x_1 - 8 x_0*x_2 - 36 x_0*x_3 - 36.878177829172 x_0*x_4\n",
       "      - 36.878177829172 x_0*x_5 - 16 x_1*x_2 - 36.878177829172 x_1*x_3\n",
       "      - 36 x_1*x_4 - 39.395431207184 x_1*x_5 - 36.878177829172 x_2*x_3\n",
       "      - 39.395431207184 x_2*x_4 - 36 x_2*x_5 - 8 x_3*x_4 - 8 x_3*x_5\n",
       "      - 16 x_4*x_5 ]/2\n",
       "Subject To\n",
       "\n",
       "Bounds\n",
       " 0 <= x_0 <= 1\n",
       " 0 <= x_1 <= 1\n",
       " 0 <= x_2 <= 1\n",
       " 0 <= x_3 <= 1\n",
       " 0 <= x_4 <= 1\n",
       " 0 <= x_5 <= 1\n",
       "\n",
       "Binaries\n",
       " x_0 x_1 x_2 x_3 x_4 x_5\n",
       "End"
      ]
     },
     "execution_count": 15,
     "metadata": {},
     "output_type": "execute_result"
    }
   ],
   "source": [
    "quadratic_program_from_graph(G)"
   ]
  },
  {
   "cell_type": "code",
   "execution_count": 11,
   "id": "cec4b8f5",
   "metadata": {},
   "outputs": [],
   "source": [
    "pos=nx.get_node_attributes(G,'pos')\n",
    "labels = nx.get_edge_attributes(G,'weight')"
   ]
  },
  {
   "cell_type": "code",
   "execution_count": 12,
   "id": "f2d1893d",
   "metadata": {},
   "outputs": [
    {
     "data": {
      "image/png": "[encoded data removed]",
      "text/plain": [
       "<Figure size 600x400 with 1 Axes>"
      ]
     },
     "metadata": {},
     "output_type": "display_data"
    }
   ],
   "source": [
    "nx.draw(G,pos)"
   ]
  },
  {
   "cell_type": "code",
   "execution_count": 13,
   "id": "b0d55b90",
   "metadata": {},
   "outputs": [],
   "source": [
    "# nx.draw_networkx_edge_labels(G, pos, edge_labels=labels)"
   ]
  },
  {
   "cell_type": "code",
   "execution_count": 14,
   "metadata": {},
   "outputs": [],
   "source": [
    "def maxcut_cost_fn(graph: nx.Graph, bitstring: List[int]) -> float:\n",
    "    \"\"\"\n",
    "    Computes the maxcut cost function value for a given graph and cut represented by some bitstring\n",
    "    Args:\n",
    "        graph: The graph to compute cut values for\n",
    "        bitstring: A list of integer values '0' or '1' specifying a cut of the graph\n",
    "    Returns:\n",
    "        The value of the cut\n",
    "    \"\"\"\n",
    "    #Get the weight matrix of the graph\n",
    "    weight_matrix = nx.adjacency_matrix(graph).toarray()\n",
    "    size = weight_matrix.shape[0]\n",
    "    value = 0.\n",
    "\n",
    "    #INSERT YOUR CODE TO COMPUTE THE CUT VALUE HERE\n",
    "    set_zero = []\n",
    "    set_one = []\n",
    "    for i, bit_value in enumerate(bitstring):\n",
    "        if (bit_value == 0):\n",
    "            set_zero.append(i)\n",
    "        else:\n",
    "            set_one.append(i)\n",
    "    for i in set_zero:\n",
    "        for j in set_one:\n",
    "            value += weight_matrix[i, j]\n",
    "    return value\n",
    "\n",
    "def plot_maxcut_histogram(graph: nx.Graph) -> None:\n",
    "    \"\"\"\n",
    "    Plots a bar diagram with the values for all possible cuts of a given graph.\n",
    "    Args:\n",
    "        graph: The graph to compute cut values for\n",
    "    \"\"\"\n",
    "    num_vars = graph.number_of_nodes()\n",
    "    #Create list of bitstrings and corresponding cut values\n",
    "    bitstrings = ['{:b}'.format(i).rjust(num_vars, '0')[::-1] for i in range(2**num_vars)]\n",
    "    values = [maxcut_cost_fn(graph = graph, bitstring = [int(x) for x in bitstring]) for bitstring in bitstrings]\n",
    "    #Sort both lists by largest cut value\n",
    "    values, bitstrings = zip(*sorted(zip(values, bitstrings)))\n",
    "    #Plot bar diagram\n",
    "    bar_plot = go.Bar(x = bitstrings, y = values, marker=dict(color=values, colorscale = 'plasma', colorbar=dict(title='Cut Value')))\n",
    "    fig = go.Figure(data=bar_plot, layout = dict(xaxis=dict(type = 'category'), width = 1500, height = 600))\n",
    "    fig.show()\n",
    "    \n",
    "def qaoa_circuit(qubo: QuadraticProgram, p: int = 1):\n",
    "    \"\"\"\n",
    "    Given a QUBO instance and the number of layers p, constructs the corresponding parameterized QAOA circuit with p layers.\n",
    "    Args:\n",
    "        qubo: The quadratic program instance\n",
    "        p: The number of layers in the QAOA circuit\n",
    "    Returns:\n",
    "        The parameterized QAOA circuit\n",
    "    \"\"\"\n",
    "    size = len(qubo.variables)\n",
    "    qubo_matrix = qubo.objective.quadratic.to_array(symmetric=True)\n",
    "    qubo_linearity = qubo.objective.linear.to_array()\n",
    "\n",
    "    #Prepare the quantum and classical registers\n",
    "    qaoa_circuit = QuantumCircuit(size,size)\n",
    "    #Apply the initial layer of Hadamard gates to all qubits\n",
    "    qaoa_circuit.h(range(size))\n",
    "\n",
    "    #Create the parameters to be used in the circuit\n",
    "    gammas = ParameterVector('gamma', p)\n",
    "    betas = ParameterVector('beta', p)\n",
    "\n",
    "    #Outer loop to create each layer\n",
    "    for i in range(p):\n",
    "\n",
    "        #Apply R_Z rotational gates from cost layer\n",
    "        #INSERT YOUR CODE HERE\n",
    "        # The rz gates below can be commented out as well. As mentioned above, for Maxcut, single rz gate angle is 0.\n",
    "        for j in range(size):\n",
    "            qaoa_circuit.rz((qubo_linearity[j] + sum(qubo_matrix[j]))*1.0*gammas[i], j)\n",
    "\n",
    "        #Apply R_ZZ rotational gates for entangled qubit rotations from cost layer\n",
    "        #INSERT YOUR CODE HERE\n",
    "        for j in range(size):\n",
    "            for k in range(size):\n",
    "                if (j == k):\n",
    "                    continue\n",
    "                qaoa_circuit.rzz(0.5*qubo_matrix[j,k]*gammas[i], j, k)\n",
    "\n",
    "        # Apply single qubit X - rotations with angle 2*beta_i to all qubits\n",
    "        #INSERT YOUR CODE HERE\n",
    "        for j in range(size):\n",
    "            qaoa_circuit.rx(2.*betas[i], j)\n",
    "\n",
    "    return qaoa_circuit\n",
    "\n",
    "def quadratic_program_from_graph(graph: nx.Graph) -> QuadraticProgram:\n",
    "    \"\"\"Constructs a quadratic program from a given graph for a MaxCut problem instance.\n",
    "    Args:\n",
    "        graph: Underlying graph of the problem.\n",
    "    Returns:\n",
    "        QuadraticProgram\n",
    "    \"\"\"\n",
    "    #Get weight matrix of graph\n",
    "    weight_matrix = nx.adjacency_matrix(graph)\n",
    "    shape = weight_matrix.shape\n",
    "    size = shape[0]\n",
    "    #Build qubo matrix Q from weight matrix W\n",
    "    qubo_matrix = np.zeros((size, size))\n",
    "    qubo_vector = np.zeros(size)\n",
    "    for i in range(size):\n",
    "        for j in range(size):\n",
    "            qubo_matrix[i, j] -= weight_matrix[i, j]\n",
    "    for i in range(size):\n",
    "        for j in range(size):\n",
    "            qubo_vector[i] += weight_matrix[i,j]\n",
    "\n",
    "    #INSERT YOUR CODE HERE\n",
    "    quadratic_program = QuadraticProgram('')\n",
    "    for i in range(size):\n",
    "        name = 'x_' + str(i)\n",
    "        quadratic_program.binary_var(name = name)\n",
    "#     print(qubo_vector)\n",
    "    quadratic_program.maximize(quadratic = qubo_matrix, linear = qubo_vector.T, constant=0)\n",
    "    \n",
    "    \n",
    "    return quadratic_program\n",
    "\n",
    "def get_qoao_result(G, simulator='statevector_simulator'):\n",
    "    backend = Aer.get_backend(simulator)\n",
    "    qaoa = QAOA(optimizer = ADAM(), quantum_instance = backend, reps=1, initial_point = [0.1,0.1])\n",
    "    eigen_optimizer = MinimumEigenOptimizer(min_eigen_solver = qaoa)\n",
    "    quadratic_program = quadratic_program_from_graph(G)\n",
    "    print(\"succesfully created a quadratic program\")\n",
    "    start_time = time()\n",
    "    result = eigen_optimizer.solve(quadratic_program)\n",
    "    end_time = time()\n",
    "    print(\"Time taken: \", end_time - start_time)\n",
    "    print(result)\n",
    "    return result\n",
    "\n",
    "def plot_qaoa_energy_landscape(graph: nx.Graph, p, cvar: float = None):\n",
    "    start_time = time()\n",
    "    num_shots = 1000\n",
    "    seed = 42\n",
    "    simulator = Aer.get_backend('qasm_simulator')\n",
    "    simulator.set_options(seed_simulator = 42)\n",
    "\n",
    "    #Generate circuit\n",
    "    circuit = qaoa_circuit(qubo = quadratic_program_from_graph(graph), p=p)\n",
    "    circuit.measure(range(graph.number_of_nodes()),range(graph.number_of_nodes()))\n",
    "\n",
    "    #Create dictionary with precomputed cut values for all bitstrings \n",
    "    cut_values = {}\n",
    "    size = graph.number_of_nodes()\n",
    "    for i in range(2**size):\n",
    "        bitstr = '{:b}'.format(i).rjust(size, '0')[::-1]\n",
    "        x = [int(bit) for bit in bitstr]\n",
    "        cut_values[bitstr] = maxcut_cost_fn(graph, x)\n",
    "\n",
    "    #Perform grid search over all parameters\n",
    "    data_points = []\n",
    "    max_energy = None\n",
    "    for beta in np.linspace(0,np.pi, 50):\n",
    "        for gamma in np.linspace(0, 4*np.pi, 50):\n",
    "            bound_circuit = circuit.assign_parameters([beta, gamma])\n",
    "            result = simulator.run(bound_circuit, shots = num_shots).result()\n",
    "            statevector = result.get_counts(bound_circuit)\n",
    "            energy = 0\n",
    "            measured_cuts = []\n",
    "            for bitstring, count in statevector.items():\n",
    "                measured_cuts =  measured_cuts + [cut_values[bitstring]]*count\n",
    "\n",
    "            if cvar is None:\n",
    "                #Calculate the mean of all cut values\n",
    "                energy = sum(measured_cuts)/num_shots\n",
    "            else:\n",
    "                energy = 0\n",
    "                cvar_measured_cuts = sorted(measured_cuts, reverse=True)\n",
    "                cvar_ceil = np.math.ceil(cvar*num_shots)\n",
    "                for i in range(cvar_ceil):\n",
    "                    energy += cvar_measured_cuts[i]\n",
    "                energy /= cvar_ceil\n",
    "\n",
    "            #Update optimal parameters\n",
    "            if max_energy is None or energy > max_energy:\n",
    "                max_energy = energy\n",
    "                optimum = {'beta': beta, 'gamma': gamma, 'energy': energy}\n",
    "\n",
    "            #Update data\n",
    "            data_points.append({'beta': beta, 'gamma': gamma, 'energy': energy})\n",
    "\n",
    "\n",
    "    #Create and display surface plot from data_points\n",
    "#     df = pd.DataFrame(data_points)\n",
    "#     df = df.pivot(index='beta', columns='gamma', values='energy')\n",
    "#     matrix = df.to_numpy()\n",
    "#     beta_values = df.index.tolist()\n",
    "#     gamma_values = df.columns.tolist()\n",
    "\n",
    "#     surface_plot = go.Surface(\n",
    "#         x=gamma_values, \n",
    "#         y=beta_values,\n",
    "#         z=matrix,\n",
    "#         coloraxis = 'coloraxis'\n",
    "#     )\n",
    "#     fig = go.Figure(data = surface_plot)\n",
    "#     fig.show()\n",
    "    end_time = time()\n",
    "    print (\"time taken: \", end_time - start_time)\n",
    "    #Return optimum\n",
    "    return optimum\n",
    "\n",
    "def get_top_5_bitstrings(backend, G, p):\n",
    "    \n",
    "    backend.shots = 1000\n",
    "\n",
    "    circuit = qaoa_circuit(qubo = quadratic_program_from_graph(G), p=p)\n",
    "    circuit.measure(range(G.number_of_nodes()),range(G.number_of_nodes()))\n",
    "    bound_circuit = circuit.assign_parameters([result['beta'], result['gamma']])\n",
    "\n",
    "    counts = backend.run(bound_circuit, seed_simulator=10).result().get_counts()\n",
    "\n",
    "    k = Counter(counts)\n",
    "    top_5 = k.most_common(5)\n",
    "    return top_5"
   ]
  },
  {
   "cell_type": "code",
   "execution_count": 160,
   "metadata": {
    "scrolled": true
   },
   "outputs": [
    {
     "name": "stdout",
     "output_type": "stream",
     "text": [
      "time taken:  12.190848112106323\n",
      "{'beta': 0.5770272220879211, 'gamma': 0.2564565431501872, 'energy': 67.43477608651823}\n"
     ]
    }
   ],
   "source": [
    "result = plot_qaoa_energy_landscape(G, p=1)\n",
    "print(result)"
   ]
  },
  {
   "cell_type": "code",
   "execution_count": 162,
   "metadata": {},
   "outputs": [
    {
     "data": {
      "text/plain": [
       "[('111000', 286),\n",
       " ('000111', 268),\n",
       " ('111110', 24),\n",
       " ('001000', 22),\n",
       " ('000001', 22)]"
      ]
     },
     "execution_count": 162,
     "metadata": {},
     "output_type": "execute_result"
    }
   ],
   "source": [
    "backend = Aer.get_backend('qasm_simulator')\n",
    "top_5 = get_top_5_bitstrings(backend, G, p=1)\n",
    "top_5"
   ]
  },
  {
   "cell_type": "code",
   "execution_count": 163,
   "id": "0922862f",
   "metadata": {
    "scrolled": false
   },
   "outputs": [
    {
     "name": "stdout",
     "output_type": "stream",
     "text": [
      "[1, 1, 1, 0, 0, 0]\n"
     ]
    },
    {
     "data": {
      "text/plain": [
       "Text(0.5, 1.0, 'Quantum Prediction')"
      ]
     },
     "execution_count": 163,
     "metadata": {},
     "output_type": "execute_result"
    },
    {
     "data": {
      "image/png": "[encoded data removed]",
      "text/plain": [
       "<Figure size 600x400 with 1 Axes>"
      ]
     },
     "metadata": {
      "needs_background": "light"
     },
     "output_type": "display_data"
    }
   ],
   "source": [
    "y_pred = list(map(int, top_5[0][0]))\n",
    "print(y_pred)\n",
    "plt.subplot(221)\n",
    "plt.scatter(X[:, 0], X[:, 1], c=y_pred)\n",
    "plt.title(\"Quantum Prediction\")"
   ]
  },
  {
   "cell_type": "markdown",
   "id": "fff2a3d5",
   "metadata": {},
   "source": [
    "### Performance on Blobs dataset - 2 centers"
   ]
  },
  {
   "cell_type": "code",
   "execution_count": 164,
   "id": "9e970457",
   "metadata": {},
   "outputs": [],
   "source": [
    "from sklearn.datasets import make_blobs"
   ]
  },
  {
   "cell_type": "code",
   "execution_count": 165,
   "id": "5cb2d4a6",
   "metadata": {},
   "outputs": [],
   "source": [
    "n_samples = 10\n",
    "random_state = 170\n",
    "X, y = make_blobs(n_samples=n_samples, random_state=random_state, centers=2)"
   ]
  },
  {
   "cell_type": "code",
   "execution_count": 166,
   "id": "f50d61f2",
   "metadata": {},
   "outputs": [
    {
     "data": {
      "text/plain": [
       "Text(0.5, 1.0, 'Classical K-means')"
      ]
     },
     "execution_count": 166,
     "metadata": {},
     "output_type": "execute_result"
    },
    {
     "data": {
      "image/png": "[encoded data removed]",
      "text/plain": [
       "<Figure size 600x400 with 1 Axes>"
      ]
     },
     "metadata": {
      "needs_background": "light"
     },
     "output_type": "display_data"
    }
   ],
   "source": [
    "y_pred = KMeans(n_clusters=2, random_state=random_state).fit_predict(X)\n",
    "\n",
    "plt.subplot(221)\n",
    "plt.scatter(X[:, 0], X[:, 1], c=y_pred)\n",
    "plt.title(\"Classical K-means\")"
   ]
  },
  {
   "cell_type": "markdown",
   "id": "17c58c28",
   "metadata": {},
   "source": [
    "### Quantum K-means"
   ]
  },
  {
   "cell_type": "code",
   "execution_count": 167,
   "id": "a927f00f",
   "metadata": {},
   "outputs": [
    {
     "name": "stdout",
     "output_type": "stream",
     "text": [
      "time taken:  25.138373851776123\n",
      "{'beta': 1.4105109873260295, 'gamma': 0.5129130863003744, 'energy': 100.2811484107987}\n",
      "[('0011110011', 9), ('1110100000', 8), ('0011111001', 8), ('1010000110', 7), ('1000011110', 7)]\n"
     ]
    },
    {
     "data": {
      "text/plain": [
       "Text(0.5, 1.0, 'Quantum Prediction')"
      ]
     },
     "execution_count": 167,
     "metadata": {},
     "output_type": "execute_result"
    },
    {
     "data": {
      "image/png": "[encoded data removed]",
      "text/plain": [
       "<Figure size 600x400 with 1 Axes>"
      ]
     },
     "metadata": {
      "needs_background": "light"
     },
     "output_type": "display_data"
    }
   ],
   "source": [
    "points = get_points_dict(X)\n",
    "G = graph_from_points(points)\n",
    "result = plot_qaoa_energy_landscape(G, p=1)\n",
    "print(result)\n",
    "backend = Aer.get_backend('qasm_simulator')\n",
    "top_5 = get_top_5_bitstrings(backend, G, p=1)\n",
    "print(top_5)\n",
    "plt.subplot(221)\n",
    "plt.scatter(X[:, 0], X[:, 1], c=y_pred)\n",
    "plt.title(\"Quantum Prediction\")"
   ]
  },
  {
   "cell_type": "markdown",
   "metadata": {},
   "source": [
    "### 30 data points"
   ]
  },
  {
   "cell_type": "code",
   "execution_count": 168,
   "metadata": {},
   "outputs": [],
   "source": [
    "n_samples = 30\n",
    "random_state = 170\n",
    "X, y = make_blobs(n_samples=n_samples, random_state=random_state, centers=2)"
   ]
  },
  {
   "cell_type": "code",
   "execution_count": 169,
   "metadata": {},
   "outputs": [
    {
     "ename": "KeyboardInterrupt",
     "evalue": "",
     "output_type": "error",
     "traceback": [
      "\u001b[0;31m---------------------------------------------------------------------------\u001b[0m",
      "\u001b[0;31mKeyboardInterrupt\u001b[0m                         Traceback (most recent call last)",
      "\u001b[0;32m/var/folders/nt/8wyvd3vn1h9740sd60xl688w0000gn/T/ipykernel_2613/554863784.py\u001b[0m in \u001b[0;36m<module>\u001b[0;34m\u001b[0m\n\u001b[1;32m      1\u001b[0m \u001b[0mpoints\u001b[0m \u001b[0;34m=\u001b[0m \u001b[0mget_points_dict\u001b[0m\u001b[0;34m(\u001b[0m\u001b[0mX\u001b[0m\u001b[0;34m)\u001b[0m\u001b[0;34m\u001b[0m\u001b[0;34m\u001b[0m\u001b[0m\n\u001b[1;32m      2\u001b[0m \u001b[0mG\u001b[0m \u001b[0;34m=\u001b[0m \u001b[0mgraph_from_points\u001b[0m\u001b[0;34m(\u001b[0m\u001b[0mpoints\u001b[0m\u001b[0;34m)\u001b[0m\u001b[0;34m\u001b[0m\u001b[0;34m\u001b[0m\u001b[0m\n\u001b[0;32m----> 3\u001b[0;31m \u001b[0mresult\u001b[0m \u001b[0;34m=\u001b[0m \u001b[0mplot_qaoa_energy_landscape\u001b[0m\u001b[0;34m(\u001b[0m\u001b[0mG\u001b[0m\u001b[0;34m,\u001b[0m \u001b[0mp\u001b[0m\u001b[0;34m=\u001b[0m\u001b[0;36m1\u001b[0m\u001b[0;34m)\u001b[0m\u001b[0;34m\u001b[0m\u001b[0;34m\u001b[0m\u001b[0m\n\u001b[0m\u001b[1;32m      4\u001b[0m \u001b[0mprint\u001b[0m\u001b[0;34m(\u001b[0m\u001b[0mresult\u001b[0m\u001b[0;34m)\u001b[0m\u001b[0;34m\u001b[0m\u001b[0;34m\u001b[0m\u001b[0m\n\u001b[1;32m      5\u001b[0m \u001b[0mbackend\u001b[0m \u001b[0;34m=\u001b[0m \u001b[0mAer\u001b[0m\u001b[0;34m.\u001b[0m\u001b[0mget_backend\u001b[0m\u001b[0;34m(\u001b[0m\u001b[0;34m'qasm_simulator'\u001b[0m\u001b[0;34m)\u001b[0m\u001b[0;34m\u001b[0m\u001b[0;34m\u001b[0m\u001b[0m\n",
      "\u001b[0;32m/var/folders/nt/8wyvd3vn1h9740sd60xl688w0000gn/T/ipykernel_2613/4084779332.py\u001b[0m in \u001b[0;36mplot_qaoa_energy_landscape\u001b[0;34m(graph, p, cvar)\u001b[0m\n\u001b[1;32m    151\u001b[0m         \u001b[0mbitstr\u001b[0m \u001b[0;34m=\u001b[0m \u001b[0;34m'{:b}'\u001b[0m\u001b[0;34m.\u001b[0m\u001b[0mformat\u001b[0m\u001b[0;34m(\u001b[0m\u001b[0mi\u001b[0m\u001b[0;34m)\u001b[0m\u001b[0;34m.\u001b[0m\u001b[0mrjust\u001b[0m\u001b[0;34m(\u001b[0m\u001b[0msize\u001b[0m\u001b[0;34m,\u001b[0m \u001b[0;34m'0'\u001b[0m\u001b[0;34m)\u001b[0m\u001b[0;34m[\u001b[0m\u001b[0;34m:\u001b[0m\u001b[0;34m:\u001b[0m\u001b[0;34m-\u001b[0m\u001b[0;36m1\u001b[0m\u001b[0;34m]\u001b[0m\u001b[0;34m\u001b[0m\u001b[0;34m\u001b[0m\u001b[0m\n\u001b[1;32m    152\u001b[0m         \u001b[0mx\u001b[0m \u001b[0;34m=\u001b[0m \u001b[0;34m[\u001b[0m\u001b[0mint\u001b[0m\u001b[0;34m(\u001b[0m\u001b[0mbit\u001b[0m\u001b[0;34m)\u001b[0m \u001b[0;32mfor\u001b[0m \u001b[0mbit\u001b[0m \u001b[0;32min\u001b[0m \u001b[0mbitstr\u001b[0m\u001b[0;34m]\u001b[0m\u001b[0;34m\u001b[0m\u001b[0;34m\u001b[0m\u001b[0m\n\u001b[0;32m--> 153\u001b[0;31m         \u001b[0mcut_values\u001b[0m\u001b[0;34m[\u001b[0m\u001b[0mbitstr\u001b[0m\u001b[0;34m]\u001b[0m \u001b[0;34m=\u001b[0m \u001b[0mmaxcut_cost_fn\u001b[0m\u001b[0;34m(\u001b[0m\u001b[0mgraph\u001b[0m\u001b[0;34m,\u001b[0m \u001b[0mx\u001b[0m\u001b[0;34m)\u001b[0m\u001b[0;34m\u001b[0m\u001b[0;34m\u001b[0m\u001b[0m\n\u001b[0m\u001b[1;32m    154\u001b[0m \u001b[0;34m\u001b[0m\u001b[0m\n\u001b[1;32m    155\u001b[0m     \u001b[0;31m#Perform grid search over all parameters\u001b[0m\u001b[0;34m\u001b[0m\u001b[0;34m\u001b[0m\u001b[0;34m\u001b[0m\u001b[0m\n",
      "\u001b[0;32m/var/folders/nt/8wyvd3vn1h9740sd60xl688w0000gn/T/ipykernel_2613/4084779332.py\u001b[0m in \u001b[0;36mmaxcut_cost_fn\u001b[0;34m(graph, bitstring)\u001b[0m\n\u001b[1;32m      9\u001b[0m     \"\"\"\n\u001b[1;32m     10\u001b[0m     \u001b[0;31m#Get the weight matrix of the graph\u001b[0m\u001b[0;34m\u001b[0m\u001b[0;34m\u001b[0m\u001b[0;34m\u001b[0m\u001b[0m\n\u001b[0;32m---> 11\u001b[0;31m     \u001b[0mweight_matrix\u001b[0m \u001b[0;34m=\u001b[0m \u001b[0mnx\u001b[0m\u001b[0;34m.\u001b[0m\u001b[0madjacency_matrix\u001b[0m\u001b[0;34m(\u001b[0m\u001b[0mgraph\u001b[0m\u001b[0;34m)\u001b[0m\u001b[0;34m.\u001b[0m\u001b[0mtoarray\u001b[0m\u001b[0;34m(\u001b[0m\u001b[0;34m)\u001b[0m\u001b[0;34m\u001b[0m\u001b[0;34m\u001b[0m\u001b[0m\n\u001b[0m\u001b[1;32m     12\u001b[0m     \u001b[0msize\u001b[0m \u001b[0;34m=\u001b[0m \u001b[0mweight_matrix\u001b[0m\u001b[0;34m.\u001b[0m\u001b[0mshape\u001b[0m\u001b[0;34m[\u001b[0m\u001b[0;36m0\u001b[0m\u001b[0;34m]\u001b[0m\u001b[0;34m\u001b[0m\u001b[0;34m\u001b[0m\u001b[0m\n\u001b[1;32m     13\u001b[0m     \u001b[0mvalue\u001b[0m \u001b[0;34m=\u001b[0m \u001b[0;36m0.\u001b[0m\u001b[0;34m\u001b[0m\u001b[0;34m\u001b[0m\u001b[0m\n",
      "\u001b[0;32m~/opt/miniconda3/envs/qkmeans/lib/python3.9/site-packages/networkx/linalg/graphmatrix.py\u001b[0m in \u001b[0;36madjacency_matrix\u001b[0;34m(G, nodelist, dtype, weight)\u001b[0m\n\u001b[1;32m    155\u001b[0m     \u001b[0madjacency_spectrum\u001b[0m\u001b[0;34m\u001b[0m\u001b[0;34m\u001b[0m\u001b[0m\n\u001b[1;32m    156\u001b[0m     \"\"\"\n\u001b[0;32m--> 157\u001b[0;31m     \u001b[0;32mreturn\u001b[0m \u001b[0mnx\u001b[0m\u001b[0;34m.\u001b[0m\u001b[0mto_scipy_sparse_matrix\u001b[0m\u001b[0;34m(\u001b[0m\u001b[0mG\u001b[0m\u001b[0;34m,\u001b[0m \u001b[0mnodelist\u001b[0m\u001b[0;34m=\u001b[0m\u001b[0mnodelist\u001b[0m\u001b[0;34m,\u001b[0m \u001b[0mdtype\u001b[0m\u001b[0;34m=\u001b[0m\u001b[0mdtype\u001b[0m\u001b[0;34m,\u001b[0m \u001b[0mweight\u001b[0m\u001b[0;34m=\u001b[0m\u001b[0mweight\u001b[0m\u001b[0;34m)\u001b[0m\u001b[0;34m\u001b[0m\u001b[0;34m\u001b[0m\u001b[0m\n\u001b[0m\u001b[1;32m    158\u001b[0m \u001b[0;34m\u001b[0m\u001b[0m\n\u001b[1;32m    159\u001b[0m \u001b[0;34m\u001b[0m\u001b[0m\n",
      "\u001b[0;32m~/opt/miniconda3/envs/qkmeans/lib/python3.9/site-packages/networkx/convert_matrix.py\u001b[0m in \u001b[0;36mto_scipy_sparse_matrix\u001b[0;34m(G, nodelist, dtype, weight, format)\u001b[0m\n\u001b[1;32m    856\u001b[0m \u001b[0;34m\u001b[0m\u001b[0m\n\u001b[1;32m    857\u001b[0m     \u001b[0;32mif\u001b[0m \u001b[0mnodelist\u001b[0m \u001b[0;32mis\u001b[0m \u001b[0;32mNone\u001b[0m\u001b[0;34m:\u001b[0m\u001b[0;34m\u001b[0m\u001b[0;34m\u001b[0m\u001b[0m\n\u001b[0;32m--> 858\u001b[0;31m         \u001b[0mnodelist\u001b[0m \u001b[0;34m=\u001b[0m \u001b[0mlist\u001b[0m\u001b[0;34m(\u001b[0m\u001b[0mG\u001b[0m\u001b[0;34m)\u001b[0m\u001b[0;34m\u001b[0m\u001b[0;34m\u001b[0m\u001b[0m\n\u001b[0m\u001b[1;32m    859\u001b[0m         \u001b[0mnlen\u001b[0m \u001b[0;34m=\u001b[0m \u001b[0mlen\u001b[0m\u001b[0;34m(\u001b[0m\u001b[0mG\u001b[0m\u001b[0;34m)\u001b[0m\u001b[0;34m\u001b[0m\u001b[0;34m\u001b[0m\u001b[0m\n\u001b[1;32m    860\u001b[0m     \u001b[0;32melse\u001b[0m\u001b[0;34m:\u001b[0m\u001b[0;34m\u001b[0m\u001b[0;34m\u001b[0m\u001b[0m\n",
      "\u001b[0;32m~/opt/miniconda3/envs/qkmeans/lib/python3.9/site-packages/networkx/classes/graph.py\u001b[0m in \u001b[0;36m__iter__\u001b[0;34m(self)\u001b[0m\n\u001b[1;32m    412\u001b[0m         \u001b[0;34m[\u001b[0m\u001b[0;36m0\u001b[0m\u001b[0;34m,\u001b[0m \u001b[0;36m1\u001b[0m\u001b[0;34m,\u001b[0m \u001b[0;36m2\u001b[0m\u001b[0;34m,\u001b[0m \u001b[0;36m3\u001b[0m\u001b[0;34m]\u001b[0m\u001b[0;34m\u001b[0m\u001b[0;34m\u001b[0m\u001b[0m\n\u001b[1;32m    413\u001b[0m         \"\"\"\n\u001b[0;32m--> 414\u001b[0;31m         \u001b[0;32mreturn\u001b[0m \u001b[0miter\u001b[0m\u001b[0;34m(\u001b[0m\u001b[0mself\u001b[0m\u001b[0;34m.\u001b[0m\u001b[0m_node\u001b[0m\u001b[0;34m)\u001b[0m\u001b[0;34m\u001b[0m\u001b[0;34m\u001b[0m\u001b[0m\n\u001b[0m\u001b[1;32m    415\u001b[0m \u001b[0;34m\u001b[0m\u001b[0m\n\u001b[1;32m    416\u001b[0m     \u001b[0;32mdef\u001b[0m \u001b[0m__contains__\u001b[0m\u001b[0;34m(\u001b[0m\u001b[0mself\u001b[0m\u001b[0;34m,\u001b[0m \u001b[0mn\u001b[0m\u001b[0;34m)\u001b[0m\u001b[0;34m:\u001b[0m\u001b[0;34m\u001b[0m\u001b[0;34m\u001b[0m\u001b[0m\n",
      "\u001b[0;31mKeyboardInterrupt\u001b[0m: "
     ]
    }
   ],
   "source": [
    "points = get_points_dict(X)\n",
    "G = graph_from_points(points)\n",
    "result = plot_qaoa_energy_landscape(G, p=1)\n",
    "print(result)\n",
    "backend = Aer.get_backend('qasm_simulator')\n",
    "top_5 = get_top_5_bitstrings(backend, G, p=1)\n",
    "print(top_5)\n",
    "plt.subplot(221)\n",
    "plt.scatter(X[:, 0], X[:, 1], c=y_pred)\n",
    "plt.title(\"Quantum Prediction\")"
   ]
  },
  {
   "cell_type": "markdown",
   "id": "08ac9b0b",
   "metadata": {},
   "source": [
    "### Performance on blobs dataset - 3 centers"
   ]
  },
  {
   "cell_type": "code",
   "execution_count": 119,
   "id": "c8d1322a",
   "metadata": {},
   "outputs": [],
   "source": [
    "n_samples = 10\n",
    "random_state = 170\n",
    "X, y = make_blobs(n_samples=n_samples, random_state=random_state, centers=3)"
   ]
  },
  {
   "cell_type": "code",
   "execution_count": 120,
   "id": "80f06436",
   "metadata": {},
   "outputs": [
    {
     "data": {
      "text/plain": [
       "Text(0.5, 1.0, 'Incorrect Number of Blobs')"
      ]
     },
     "execution_count": 120,
     "metadata": {},
     "output_type": "execute_result"
    },
    {
     "data": {
      "image/png": "[encoded data removed]",
      "text/plain": [
       "<Figure size 600x400 with 1 Axes>"
      ]
     },
     "metadata": {
      "needs_background": "light"
     },
     "output_type": "display_data"
    }
   ],
   "source": [
    "y_pred = KMeans(n_clusters=2, random_state=random_state).fit_predict(X)\n",
    "plt.subplot(221)\n",
    "plt.scatter(X[:, 0], X[:, 1], c=y_pred)\n",
    "plt.title(\"Incorrect Number of Blobs\")"
   ]
  },
  {
   "cell_type": "code",
   "execution_count": 121,
   "id": "22e3a102",
   "metadata": {},
   "outputs": [
    {
     "data": {
      "text/plain": [
       "Text(0.5, 1.0, 'Correct Number of Blobs')"
      ]
     },
     "execution_count": 121,
     "metadata": {},
     "output_type": "execute_result"
    },
    {
     "data": {
      "image/png": "[encoded data removed]",
      "text/plain": [
       "<Figure size 600x400 with 1 Axes>"
      ]
     },
     "metadata": {
      "needs_background": "light"
     },
     "output_type": "display_data"
    }
   ],
   "source": [
    "y_pred = KMeans(n_clusters=3, random_state=random_state).fit_predict(X)\n",
    "plt.subplot(221)\n",
    "plt.scatter(X[:, 0], X[:, 1], c=y_pred)\n",
    "plt.title(\"Correct Number of Blobs\")"
   ]
  },
  {
   "cell_type": "markdown",
   "id": "d48cd81d",
   "metadata": {},
   "source": [
    "### Quantum Prediction"
   ]
  },
  {
   "cell_type": "code",
   "execution_count": 122,
   "id": "70a0ce0a",
   "metadata": {
    "scrolled": true
   },
   "outputs": [
    {
     "name": "stdout",
     "output_type": "stream",
     "text": [
      "succesfully created a quadratic program\n",
      "Time taken:  21.87635087966919\n",
      "optimal function value: 233.18212870888854\n",
      "optimal value: [1. 1. 1. 1. 1. 0. 0. 0. 0. 0.]\n",
      "status: SUCCESS\n"
     ]
    },
    {
     "data": {
      "text/plain": [
       "Text(0.5, 1.0, 'Quantum Prediction')"
      ]
     },
     "execution_count": 122,
     "metadata": {},
     "output_type": "execute_result"
    },
    {
     "data": {
      "image/png": "[encoded data removed]",
      "text/plain": [
       "<Figure size 600x400 with 1 Axes>"
      ]
     },
     "metadata": {
      "needs_background": "light"
     },
     "output_type": "display_data"
    }
   ],
   "source": [
    "points = get_points_dict(X)\n",
    "G = graph_from_points(points)\n",
    "result = get_qoao_result(G, simulator='statevector_simulator')\n",
    "y_pred = result.x\n",
    "plt.subplot(221)\n",
    "plt.scatter(X[:, 0], X[:, 1], c=y_pred)\n",
    "plt.title(\"Quantum Prediction\")"
   ]
  },
  {
   "cell_type": "markdown",
   "id": "6ce80ee3",
   "metadata": {},
   "source": [
    "### Run quantum algo on real quantum devices and qasm simulator"
   ]
  },
  {
   "cell_type": "code",
   "execution_count": 190,
   "id": "b3b98855",
   "metadata": {},
   "outputs": [],
   "source": [
    "def maxcut_obj(x, G):\n",
    "    \"\"\"\n",
    "    Given a bitstring as a solution, this function returns\n",
    "    the number of edges shared between the two partitions\n",
    "    of the graph.\n",
    "    \n",
    "    Args:\n",
    "        x: str\n",
    "           solution bitstring\n",
    "           \n",
    "        G: networkx graph\n",
    "        \n",
    "    Returns:\n",
    "        obj: float\n",
    "             Objective\n",
    "    \"\"\"\n",
    "    obj = 0\n",
    "    for i, j in G.edges():\n",
    "        if x[i] != x[j]:\n",
    "            obj -= 1\n",
    "            \n",
    "    return obj\n",
    "\n",
    "def compute_expectation(counts, G):\n",
    "    \n",
    "    \"\"\"\n",
    "    Computes expectation value based on measurement results\n",
    "    \n",
    "    Args:\n",
    "        counts: dict\n",
    "                key as bitstring, val as count\n",
    "           \n",
    "        G: networkx graph\n",
    "        \n",
    "    Returns:\n",
    "        avg: float\n",
    "             expectation value\n",
    "    \"\"\"\n",
    "    \n",
    "    avg = 0\n",
    "    sum_count = 0\n",
    "    for bitstring, count in counts.items():\n",
    "        \n",
    "        obj = maxcut_obj(bitstring, G)\n",
    "        avg += obj * count\n",
    "        sum_count += count\n",
    "        \n",
    "    return avg/sum_count\n",
    "\n",
    "def create_qaoa_circ(G, theta):\n",
    "    \n",
    "    \"\"\"\n",
    "    Creates a parametrized qaoa circuit\n",
    "    \n",
    "    Args:  \n",
    "        G: networkx graph\n",
    "        theta: list\n",
    "               unitary parameters\n",
    "                     \n",
    "    Returns:\n",
    "        qc: qiskit circuit\n",
    "    \"\"\"\n",
    "    \n",
    "    nqubits = len(G.nodes())\n",
    "    p = len(theta)//2  # number of alternating unitaries\n",
    "    qc = QuantumCircuit(nqubits)\n",
    "    \n",
    "    beta = theta[:p]\n",
    "    gamma = theta[p:]\n",
    "    \n",
    "    # initial_state\n",
    "    for i in range(0, nqubits):\n",
    "        qc.h(i)\n",
    "    \n",
    "    for irep in range(0, p):\n",
    "        \n",
    "        # problem unitary\n",
    "        for pair in list(G.edges()):\n",
    "            qc.rzz(2 * gamma[irep], pair[0], pair[1])\n",
    "\n",
    "        # mixer unitary\n",
    "        for i in range(0, nqubits):\n",
    "            qc.rx(2 * beta[irep], i)\n",
    "            \n",
    "    qc.measure_all()\n",
    "        \n",
    "    return qc\n",
    "\n",
    "# Finally we write a function that executes the circuit on the chosen backend\n",
    "def get_expectation(G, p, shots=1000):\n",
    "    \n",
    "    \"\"\"\n",
    "    Runs parametrized circuit\n",
    "    \n",
    "    Args:\n",
    "        G: networkx graph\n",
    "        p: int,\n",
    "           Number of repetitions of unitaries\n",
    "    \"\"\"\n",
    "    \n",
    "    backend = Aer.get_backend('qasm_simulator')\n",
    "    backend.shots = shots\n",
    "    \n",
    "    def execute_circ(theta):\n",
    "        \n",
    "        qc = create_qaoa_circ(G, theta)\n",
    "        counts = backend.run(qc, seed_simulator=10, \n",
    "                             nshots=512).result().get_counts()\n",
    "        \n",
    "        return compute_expectation(counts, G)\n",
    "    \n",
    "    return execute_circ"
   ]
  },
  {
   "cell_type": "code",
   "execution_count": 191,
   "id": "2b6f2c73",
   "metadata": {},
   "outputs": [
    {
     "data": {
      "text/plain": [
       "     fun: -8.59375\n",
       "   maxcv: 0.0\n",
       " message: 'Optimization terminated successfully.'\n",
       "    nfev: 37\n",
       "  status: 1\n",
       " success: True\n",
       "       x: array([1.33934913, 0.20752812])"
      ]
     },
     "execution_count": 191,
     "metadata": {},
     "output_type": "execute_result"
    }
   ],
   "source": [
    "from scipy.optimize import minimize\n",
    "\n",
    "expectation = get_expectation(G, p=1)\n",
    "\n",
    "res = minimize(expectation, [0.1,0.1], method='COBYLA')\n",
    "res"
   ]
  },
  {
   "cell_type": "code",
   "execution_count": 192,
   "id": "1b870fea",
   "metadata": {},
   "outputs": [],
   "source": [
    "backend = Aer.get_backend('qasm_simulator')\n",
    "backend.shots = 1000\n",
    "\n",
    "qc_res = create_qaoa_circ(G, res.x)\n",
    "\n",
    "counts = backend.run(qc_res, seed_simulator=10).result().get_counts()\n"
   ]
  },
  {
   "cell_type": "code",
   "execution_count": 193,
   "id": "2e45e6ea",
   "metadata": {},
   "outputs": [
    {
     "data": {
      "text/plain": [
       "'101010'"
      ]
     },
     "execution_count": 193,
     "metadata": {},
     "output_type": "execute_result"
    }
   ],
   "source": [
    "max(counts.items(), key=operator.itemgetter(1))[0]"
   ]
  },
  {
   "cell_type": "code",
   "execution_count": 194,
   "id": "8482407e",
   "metadata": {},
   "outputs": [
    {
     "data": {
      "text/plain": [
       "50"
      ]
     },
     "execution_count": 194,
     "metadata": {},
     "output_type": "execute_result"
    }
   ],
   "source": [
    "counts['101010']"
   ]
  },
  {
   "cell_type": "code",
   "execution_count": 176,
   "metadata": {},
   "outputs": [],
   "source": [
    "a = np.sqrt(0.85**2 + 0.36**2)"
   ]
  },
  {
   "cell_type": "code",
   "execution_count": 179,
   "metadata": {},
   "outputs": [
    {
     "data": {
      "text/plain": [
       "0.38999336475266994"
      ]
     },
     "execution_count": 179,
     "metadata": {},
     "output_type": "execute_result"
    }
   ],
   "source": [
    "0.36/a"
   ]
  },
  {
   "cell_type": "code",
   "execution_count": 182,
   "metadata": {},
   "outputs": [
    {
     "data": {
      "text/plain": [
       "0.8085372499999999"
      ]
     },
     "execution_count": 182,
     "metadata": {},
     "output_type": "execute_result"
    }
   ],
   "source": [
    "a = 0.141 + 0.866\n",
    "b = 0.990 + 0.500\n",
    "(a**2 + b**2)/4"
   ]
  },
  {
   "cell_type": "code",
   "execution_count": 183,
   "metadata": {},
   "outputs": [
    {
     "data": {
      "text/plain": [
       "0.8085687500000001"
      ]
     },
     "execution_count": 183,
     "metadata": {},
     "output_type": "execute_result"
    }
   ],
   "source": [
    "a = 0.141 - 0.866\n",
    "b = 0.990 - 0.500\n",
    "1 - (a**2 + b**2)/4"
   ]
  },
  {
   "cell_type": "code",
   "execution_count": null,
   "metadata": {},
   "outputs": [],
   "source": []
  }
 ],
 "metadata": {
  "kernelspec": {
   "display_name": "Python 3 (ipykernel)",
   "language": "python",
   "name": "python3"
  },
  "language_info": {
   "codemirror_mode": {
    "name": "ipython",
    "version": 3
   },
   "file_extension": ".py",
   "mimetype": "text/x-python",
   "name": "python",
   "nbconvert_exporter": "python",
   "pygments_lexer": "ipython3",
   "version": "3.9.6"
  }
 },
 "nbformat": 4,
 "nbformat_minor": 5
}
