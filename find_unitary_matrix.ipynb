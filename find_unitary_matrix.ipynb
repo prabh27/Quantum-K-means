{
 "cells": [
  {
   "cell_type": "code",
   "execution_count": 1,
   "metadata": {},
   "outputs": [],
   "source": [
    "from sympy.solvers import solve\n",
    "from sympy import Symbol, I\n",
    "import numpy as np\n",
    "import sympy\n",
    "from sympy.physics.quantum.dagger import Dagger"
   ]
  },
  {
   "cell_type": "markdown",
   "metadata": {},
   "source": [
    "### Unitary Matrix for 2 data points (4x4) "
   ]
  },
  {
   "cell_type": "code",
   "execution_count": 2,
   "metadata": {},
   "outputs": [],
   "source": [
    "r1 = Symbol('r1')\n",
    "r2 = Symbol('r2')\n",
    "r3 = Symbol('r3')\n",
    "r4 = Symbol('r4')\n",
    "r5 = Symbol('r5')\n",
    "r6 = Symbol('r6')\n",
    "r7 = Symbol('r7')\n",
    "r8 = Symbol('r8')\n",
    "r9 = Symbol('r9')\n",
    "r10 = Symbol('r10')\n",
    "\n",
    "i1 = Symbol('i1')\n",
    "i2 = Symbol('i2')\n",
    "i3 = Symbol('i3')\n",
    "i4 = Symbol('i4')\n",
    "i5 = Symbol('i5')\n",
    "i6 = Symbol('i6')\n",
    "i7 = Symbol('i7')\n",
    "i8 = Symbol('i8')\n",
    "i9 = Symbol('i9')\n",
    "i10 = Symbol('i10')\n",
    "\n",
    "c1 = r1 + I*i1\n",
    "c2 = r2 + I*i2\n",
    "c3 = r3 + I*i3\n",
    "c4 = r4 + I*i4\n",
    "c5 = r5 + I*i5\n",
    "c6 = r6 + I*i6\n",
    "c7 = r7 + I*i7\n",
    "c8 = r8 + I*i8\n",
    "c9 = r9 + I*i9\n",
    "c10 = r10 + I*i10\n",
    "alpha = Symbol('alpha')"
   ]
  },
  {
   "cell_type": "code",
   "execution_count": 6,
   "metadata": {},
   "outputs": [],
   "source": [
    "U = sympy.Matrix([\n",
    "        [0.5,           1,    0.5,      r1],\n",
    "        [1,             0,     1,       r2],\n",
    "        [0.5,           1,     r5,      r6],\n",
    "        [r1,            r2,    r6,      r10]\n",
    "])\n"
   ]
  },
  {
   "cell_type": "code",
   "execution_count": 7,
   "metadata": {},
   "outputs": [],
   "source": [
    "U = U/alpha"
   ]
  },
  {
   "cell_type": "code",
   "execution_count": 8,
   "metadata": {},
   "outputs": [
    {
     "data": {
      "text/latex": [
       "$\\displaystyle \\left[\\begin{matrix}\\frac{0.5}{\\alpha} & \\frac{1}{\\alpha} & \\frac{0.5}{\\alpha} & \\frac{r_{1}}{\\alpha}\\\\\\frac{1}{\\alpha} & 0 & \\frac{1}{\\alpha} & \\frac{r_{2}}{\\alpha}\\\\\\frac{0.5}{\\alpha} & \\frac{1}{\\alpha} & \\frac{r_{5}}{\\alpha} & \\frac{r_{6}}{\\alpha}\\\\\\frac{r_{1}}{\\alpha} & \\frac{r_{2}}{\\alpha} & \\frac{r_{6}}{\\alpha} & \\frac{r_{10}}{\\alpha}\\end{matrix}\\right]$"
      ],
      "text/plain": [
       "Matrix([\n",
       "[0.5/alpha,  1/alpha, 0.5/alpha,  r1/alpha],\n",
       "[  1/alpha,        0,   1/alpha,  r2/alpha],\n",
       "[0.5/alpha,  1/alpha,  r5/alpha,  r6/alpha],\n",
       "[ r1/alpha, r2/alpha,  r6/alpha, r10/alpha]])"
      ]
     },
     "execution_count": 8,
     "metadata": {},
     "output_type": "execute_result"
    }
   ],
   "source": [
    "U"
   ]
  },
  {
   "cell_type": "code",
   "execution_count": 9,
   "metadata": {},
   "outputs": [
    {
     "data": {
      "text/latex": [
       "$\\displaystyle \\left[\\begin{matrix}\\frac{0.5}{\\overline{\\alpha}} & \\frac{1}{\\overline{\\alpha}} & \\frac{0.5}{\\overline{\\alpha}} & \\frac{\\overline{r_{1}}}{\\overline{\\alpha}}\\\\\\frac{1}{\\overline{\\alpha}} & 0 & \\frac{1}{\\overline{\\alpha}} & \\frac{\\overline{r_{2}}}{\\overline{\\alpha}}\\\\\\frac{0.5}{\\overline{\\alpha}} & \\frac{1}{\\overline{\\alpha}} & \\frac{\\overline{r_{5}}}{\\overline{\\alpha}} & \\frac{\\overline{r_{6}}}{\\overline{\\alpha}}\\\\\\frac{\\overline{r_{1}}}{\\overline{\\alpha}} & \\frac{\\overline{r_{2}}}{\\overline{\\alpha}} & \\frac{\\overline{r_{6}}}{\\overline{\\alpha}} & \\frac{\\overline{r_{10}}}{\\overline{\\alpha}}\\end{matrix}\\right]$"
      ],
      "text/plain": [
       "Matrix([\n",
       "[          0.5/conjugate(alpha),             1/conjugate(alpha),           0.5/conjugate(alpha),  conjugate(r1)/conjugate(alpha)],\n",
       "[            1/conjugate(alpha),                              0,             1/conjugate(alpha),  conjugate(r2)/conjugate(alpha)],\n",
       "[          0.5/conjugate(alpha),             1/conjugate(alpha), conjugate(r5)/conjugate(alpha),  conjugate(r6)/conjugate(alpha)],\n",
       "[conjugate(r1)/conjugate(alpha), conjugate(r2)/conjugate(alpha), conjugate(r6)/conjugate(alpha), conjugate(r10)/conjugate(alpha)]])"
      ]
     },
     "execution_count": 9,
     "metadata": {},
     "output_type": "execute_result"
    }
   ],
   "source": [
    "Dagger(U)"
   ]
  },
  {
   "cell_type": "code",
   "execution_count": 10,
   "metadata": {},
   "outputs": [],
   "source": [
    "mul = Dagger(U) * U"
   ]
  },
  {
   "cell_type": "code",
   "execution_count": 11,
   "metadata": {},
   "outputs": [],
   "source": [
    "ans = solve([mul[0] - 1,\n",
    "             mul[1],\n",
    "             mul[2],\n",
    "             mul[3],\n",
    "             mul[5] - 1,\n",
    "             mul[6],\n",
    "             mul[7],\n",
    "             mul[10] -1,\n",
    "             mul[11],\n",
    "             mul[15] - 1], dict=True)"
   ]
  },
  {
   "cell_type": "code",
   "execution_count": 12,
   "metadata": {},
   "outputs": [
    {
     "data": {
      "text/plain": [
       "[{r1: 1.13171392427787,\n",
       "  alpha: 1.66756601260772,\n",
       "  r2: -0.883615530875513,\n",
       "  r5: -1.06155281280883,\n",
       "  r6: -0.635517137473157,\n",
       "  r10: 0.561552812808830}]"
      ]
     },
     "execution_count": 12,
     "metadata": {},
     "output_type": "execute_result"
    }
   ],
   "source": [
    "ans"
   ]
  },
  {
   "cell_type": "code",
   "execution_count": 14,
   "metadata": {},
   "outputs": [
    {
     "data": {
      "text/latex": [
       "$\\displaystyle 1.13171392427787$"
      ],
      "text/plain": [
       "1.13171392427787"
      ]
     },
     "execution_count": 14,
     "metadata": {},
     "output_type": "execute_result"
    }
   ],
   "source": [
    "ans[0][r1]"
   ]
  },
  {
   "cell_type": "code",
   "execution_count": 16,
   "metadata": {},
   "outputs": [],
   "source": [
    "i = 0"
   ]
  },
  {
   "cell_type": "code",
   "execution_count": 23,
   "metadata": {},
   "outputs": [],
   "source": [
    "U_ans = sympy.Matrix([\n",
    "        [0.5,           1,           0.5,          ans[i][r1]],\n",
    "        [1,             0,            1,           ans[i][r2]],\n",
    "        [0.5,           1,          ans[i][r5],    ans[i][r6]],\n",
    "        [ans[i][r1],   ans[i][r2], ans[i][r6],     ans[i][r10]]\n",
    "])\n",
    "U_ans = U_ans/ans[i][alpha]"
   ]
  },
  {
   "cell_type": "code",
   "execution_count": 24,
   "metadata": {
    "scrolled": true
   },
   "outputs": [
    {
     "data": {
      "text/latex": [
       "$\\displaystyle \\left[\\begin{matrix}0.299838205036396 & 0.599676410072793 & 0.299838205036396 & 0.678662143340345\\\\0.599676410072793 & 0 & 0.599676410072793 & -0.529883389439993\\\\0.299838205036396 & 0.599676410072793 & -0.636588179887875 & -0.38110463553964\\\\0.678662143340345 & -0.529883389439993 & -0.38110463553964 & 0.336749974851478\\end{matrix}\\right]$"
      ],
      "text/plain": [
       "Matrix([\n",
       "[0.299838205036396,  0.599676410072793,  0.299838205036396,  0.678662143340345],\n",
       "[0.599676410072793,                  0,  0.599676410072793, -0.529883389439993],\n",
       "[0.299838205036396,  0.599676410072793, -0.636588179887875,  -0.38110463553964],\n",
       "[0.678662143340345, -0.529883389439993,  -0.38110463553964,  0.336749974851478]])"
      ]
     },
     "execution_count": 24,
     "metadata": {},
     "output_type": "execute_result"
    }
   ],
   "source": [
    "U_ans"
   ]
  },
  {
   "cell_type": "code",
   "execution_count": 27,
   "metadata": {},
   "outputs": [],
   "source": [
    "a = np.array(U_ans).astype(np.float64)"
   ]
  },
  {
   "cell_type": "code",
   "execution_count": 28,
   "metadata": {
    "scrolled": true
   },
   "outputs": [
    {
     "data": {
      "text/plain": [
       "array([[ 0.29983821,  0.59967641,  0.29983821,  0.67866214],\n",
       "       [ 0.59967641,  0.        ,  0.59967641, -0.52988339],\n",
       "       [ 0.29983821,  0.59967641, -0.63658818, -0.38110464],\n",
       "       [ 0.67866214, -0.52988339, -0.38110464,  0.33674997]])"
      ]
     },
     "execution_count": 28,
     "metadata": {},
     "output_type": "execute_result"
    }
   ],
   "source": [
    "a"
   ]
  },
  {
   "cell_type": "code",
   "execution_count": 29,
   "metadata": {},
   "outputs": [],
   "source": [
    "x = np.array([0.5, 0.5, 0.5, 0.5])"
   ]
  },
  {
   "cell_type": "code",
   "execution_count": 31,
   "metadata": {},
   "outputs": [
    {
     "data": {
      "text/plain": [
       "array([0.5, 0.5, 0.5, 0.5])"
      ]
     },
     "execution_count": 31,
     "metadata": {},
     "output_type": "execute_result"
    }
   ],
   "source": [
    "x"
   ]
  },
  {
   "cell_type": "code",
   "execution_count": 30,
   "metadata": {
    "scrolled": true
   },
   "outputs": [
    {
     "data": {
      "text/plain": [
       "array([[ 0.1499191 ,  0.29983821,  0.1499191 ,  0.33933107],\n",
       "       [ 0.29983821,  0.        ,  0.29983821, -0.26494169],\n",
       "       [ 0.1499191 ,  0.29983821, -0.31829409, -0.19055232],\n",
       "       [ 0.33933107, -0.26494169, -0.19055232,  0.16837499]])"
      ]
     },
     "execution_count": 30,
     "metadata": {},
     "output_type": "execute_result"
    }
   ],
   "source": [
    "a * x"
   ]
  },
  {
   "cell_type": "code",
   "execution_count": 25,
   "metadata": {},
   "outputs": [
    {
     "data": {
      "text/latex": [
       "$\\displaystyle \\left[\\begin{matrix}0.299838205036396 & 0.599676410072793 & 0.299838205036396 & 0.678662143340345\\\\0.599676410072793 & 0 & 0.599676410072793 & -0.529883389439993\\\\0.299838205036396 & 0.599676410072793 & -0.636588179887875 & -0.38110463553964\\\\0.678662143340345 & -0.529883389439993 & -0.38110463553964 & 0.336749974851478\\end{matrix}\\right]$"
      ],
      "text/plain": [
       "Matrix([\n",
       "[0.299838205036396,  0.599676410072793,  0.299838205036396,  0.678662143340345],\n",
       "[0.599676410072793,                  0,  0.599676410072793, -0.529883389439993],\n",
       "[0.299838205036396,  0.599676410072793, -0.636588179887875,  -0.38110463553964],\n",
       "[0.678662143340345, -0.529883389439993,  -0.38110463553964,  0.336749974851478]])"
      ]
     },
     "execution_count": 25,
     "metadata": {},
     "output_type": "execute_result"
    }
   ],
   "source": [
    "Dagger(U_ans)"
   ]
  },
  {
   "cell_type": "code",
   "execution_count": 26,
   "metadata": {},
   "outputs": [
    {
     "data": {
      "text/latex": [
       "$\\displaystyle \\left[\\begin{matrix}1.0 & 5.55111512312578 \\cdot 10^{-17} & 0 & 0\\\\5.55111512312578 \\cdot 10^{-17} & 1.0 & 2.77555756156289 \\cdot 10^{-17} & -5.55111512312578 \\cdot 10^{-17}\\\\0 & 2.77555756156289 \\cdot 10^{-17} & 1.0 & -2.77555756156289 \\cdot 10^{-17}\\\\0 & -5.55111512312578 \\cdot 10^{-17} & -2.77555756156289 \\cdot 10^{-17} & 1.0\\end{matrix}\\right]$"
      ],
      "text/plain": [
       "Matrix([\n",
       "[                 1.0,  5.55111512312578e-17,                     0,                     0],\n",
       "[5.55111512312578e-17,                   1.0,  2.77555756156289e-17, -5.55111512312578e-17],\n",
       "[                   0,  2.77555756156289e-17,                   1.0, -2.77555756156289e-17],\n",
       "[                   0, -5.55111512312578e-17, -2.77555756156289e-17,                   1.0]])"
      ]
     },
     "execution_count": 26,
     "metadata": {},
     "output_type": "execute_result"
    }
   ],
   "source": [
    "Dagger(U_ans) * U_ans"
   ]
  },
  {
   "cell_type": "markdown",
   "metadata": {},
   "source": [
    "### Unitary Matrix for 3 data points (8x8)"
   ]
  },
  {
   "cell_type": "code",
   "execution_count": 47,
   "metadata": {},
   "outputs": [
    {
     "data": {
      "text/plain": [
       "array([b_9, b_10, b_11, b_12, b_13, b_14, b_15, b_16], dtype=object)"
      ]
     },
     "execution_count": 47,
     "metadata": {},
     "output_type": "execute_result"
    }
   ],
   "source": [
    "b[9:17]"
   ]
  },
  {
   "cell_type": "code",
   "execution_count": 57,
   "metadata": {},
   "outputs": [],
   "source": [
    "U = sympy.Matrix([\n",
    "        [1/3, 2/3, 2/3, 1/3, 2/3, 1/3, b[1], b[2]],\n",
    "        [1/2, 2/2, 0,   1/2,  0,  1,   b[3], b[4]],\n",
    "        [1/2, 0,   2/2,  1,   0,  1/2, b[5], b[6]],\n",
    "        [1,   0,    0,  1/2, 2/2, 1/2, b[7], b[8]],\n",
    "        b[9:17],\n",
    "        b[17:25],\n",
    "        b[25:33],\n",
    "        b[33:41]\n",
    "])\n",
    "U = U/alpha"
   ]
  },
  {
   "cell_type": "code",
   "execution_count": 58,
   "metadata": {},
   "outputs": [
    {
     "data": {
      "text/latex": [
       "$\\displaystyle \\left[\\begin{matrix}\\frac{0.333333333333333}{\\alpha} & \\frac{0.666666666666667}{\\alpha} & \\frac{0.666666666666667}{\\alpha} & \\frac{0.333333333333333}{\\alpha} & \\frac{0.666666666666667}{\\alpha} & \\frac{0.333333333333333}{\\alpha} & \\frac{b_{1}}{\\alpha} & \\frac{b_{2}}{\\alpha}\\\\\\frac{0.5}{\\alpha} & \\frac{1.0}{\\alpha} & 0 & \\frac{0.5}{\\alpha} & 0 & \\frac{1}{\\alpha} & \\frac{b_{3}}{\\alpha} & \\frac{b_{4}}{\\alpha}\\\\\\frac{0.5}{\\alpha} & 0 & \\frac{1.0}{\\alpha} & \\frac{1}{\\alpha} & 0 & \\frac{0.5}{\\alpha} & \\frac{b_{5}}{\\alpha} & \\frac{b_{6}}{\\alpha}\\\\\\frac{1}{\\alpha} & 0 & 0 & \\frac{0.5}{\\alpha} & \\frac{1.0}{\\alpha} & \\frac{0.5}{\\alpha} & \\frac{b_{7}}{\\alpha} & \\frac{b_{8}}{\\alpha}\\\\\\frac{b_{9}}{\\alpha} & \\frac{b_{10}}{\\alpha} & \\frac{b_{11}}{\\alpha} & \\frac{b_{12}}{\\alpha} & \\frac{b_{13}}{\\alpha} & \\frac{b_{14}}{\\alpha} & \\frac{b_{15}}{\\alpha} & \\frac{b_{16}}{\\alpha}\\\\\\frac{b_{17}}{\\alpha} & \\frac{b_{18}}{\\alpha} & \\frac{b_{19}}{\\alpha} & \\frac{b_{20}}{\\alpha} & \\frac{b_{21}}{\\alpha} & \\frac{b_{22}}{\\alpha} & \\frac{b_{23}}{\\alpha} & \\frac{b_{24}}{\\alpha}\\\\\\frac{b_{25}}{\\alpha} & \\frac{b_{26}}{\\alpha} & \\frac{b_{27}}{\\alpha} & \\frac{b_{28}}{\\alpha} & \\frac{b_{29}}{\\alpha} & \\frac{b_{30}}{\\alpha} & \\frac{b_{31}}{\\alpha} & \\frac{b_{32}}{\\alpha}\\\\\\frac{b_{33}}{\\alpha} & \\frac{b_{34}}{\\alpha} & \\frac{b_{35}}{\\alpha} & \\frac{b_{36}}{\\alpha} & \\frac{b_{37}}{\\alpha} & \\frac{b_{38}}{\\alpha} & \\frac{b_{39}}{\\alpha} & \\frac{b_{40}}{\\alpha}\\end{matrix}\\right]$"
      ],
      "text/plain": [
       "Matrix([\n",
       "[0.333333333333333/alpha, 0.666666666666667/alpha, 0.666666666666667/alpha, 0.333333333333333/alpha, 0.666666666666667/alpha, 0.333333333333333/alpha,  b_1/alpha,  b_2/alpha],\n",
       "[              0.5/alpha,               1.0/alpha,                       0,               0.5/alpha,                       0,                 1/alpha,  b_3/alpha,  b_4/alpha],\n",
       "[              0.5/alpha,                       0,               1.0/alpha,                 1/alpha,                       0,               0.5/alpha,  b_5/alpha,  b_6/alpha],\n",
       "[                1/alpha,                       0,                       0,               0.5/alpha,               1.0/alpha,               0.5/alpha,  b_7/alpha,  b_8/alpha],\n",
       "[              b_9/alpha,              b_10/alpha,              b_11/alpha,              b_12/alpha,              b_13/alpha,              b_14/alpha, b_15/alpha, b_16/alpha],\n",
       "[             b_17/alpha,              b_18/alpha,              b_19/alpha,              b_20/alpha,              b_21/alpha,              b_22/alpha, b_23/alpha, b_24/alpha],\n",
       "[             b_25/alpha,              b_26/alpha,              b_27/alpha,              b_28/alpha,              b_29/alpha,              b_30/alpha, b_31/alpha, b_32/alpha],\n",
       "[             b_33/alpha,              b_34/alpha,              b_35/alpha,              b_36/alpha,              b_37/alpha,              b_38/alpha, b_39/alpha, b_40/alpha]])"
      ]
     },
     "execution_count": 58,
     "metadata": {},
     "output_type": "execute_result"
    }
   ],
   "source": [
    "U"
   ]
  },
  {
   "cell_type": "code",
   "execution_count": 59,
   "metadata": {},
   "outputs": [],
   "source": [
    "mul = Dagger(U) * U"
   ]
  },
  {
   "cell_type": "code",
   "execution_count": 60,
   "metadata": {},
   "outputs": [
    {
     "data": {
      "text/latex": [
       "$\\displaystyle \\left[\\begin{matrix}\\frac{b_{17} \\overline{b_{17}}}{\\alpha \\overline{\\alpha}} + \\frac{b_{25} \\overline{b_{25}}}{\\alpha \\overline{\\alpha}} + \\frac{b_{33} \\overline{b_{33}}}{\\alpha \\overline{\\alpha}} + \\frac{b_{9} \\overline{b_{9}}}{\\alpha \\overline{\\alpha}} + \\frac{1.61111111111111}{\\alpha \\overline{\\alpha}} & \\frac{b_{10} \\overline{b_{9}}}{\\alpha \\overline{\\alpha}} + \\frac{b_{18} \\overline{b_{17}}}{\\alpha \\overline{\\alpha}} + \\frac{b_{26} \\overline{b_{25}}}{\\alpha \\overline{\\alpha}} + \\frac{b_{34} \\overline{b_{33}}}{\\alpha \\overline{\\alpha}} + \\frac{0.722222222222222}{\\alpha \\overline{\\alpha}} & \\frac{b_{11} \\overline{b_{9}}}{\\alpha \\overline{\\alpha}} + \\frac{b_{19} \\overline{b_{17}}}{\\alpha \\overline{\\alpha}} + \\frac{b_{27} \\overline{b_{25}}}{\\alpha \\overline{\\alpha}} + \\frac{b_{35} \\overline{b_{33}}}{\\alpha \\overline{\\alpha}} + \\frac{0.722222222222222}{\\alpha \\overline{\\alpha}} & \\frac{b_{12} \\overline{b_{9}}}{\\alpha \\overline{\\alpha}} + \\frac{b_{20} \\overline{b_{17}}}{\\alpha \\overline{\\alpha}} + \\frac{b_{28} \\overline{b_{25}}}{\\alpha \\overline{\\alpha}} + \\frac{b_{36} \\overline{b_{33}}}{\\alpha \\overline{\\alpha}} + \\frac{1.36111111111111}{\\alpha \\overline{\\alpha}} & \\frac{b_{13} \\overline{b_{9}}}{\\alpha \\overline{\\alpha}} + \\frac{b_{21} \\overline{b_{17}}}{\\alpha \\overline{\\alpha}} + \\frac{b_{29} \\overline{b_{25}}}{\\alpha \\overline{\\alpha}} + \\frac{b_{37} \\overline{b_{33}}}{\\alpha \\overline{\\alpha}} + \\frac{1.22222222222222}{\\alpha \\overline{\\alpha}} & \\frac{b_{14} \\overline{b_{9}}}{\\alpha \\overline{\\alpha}} + \\frac{b_{22} \\overline{b_{17}}}{\\alpha \\overline{\\alpha}} + \\frac{b_{30} \\overline{b_{25}}}{\\alpha \\overline{\\alpha}} + \\frac{b_{38} \\overline{b_{33}}}{\\alpha \\overline{\\alpha}} + \\frac{1.36111111111111}{\\alpha \\overline{\\alpha}} & \\frac{0.333333333333333 b_{1}}{\\alpha \\overline{\\alpha}} + \\frac{b_{15} \\overline{b_{9}}}{\\alpha \\overline{\\alpha}} + \\frac{b_{23} \\overline{b_{17}}}{\\alpha \\overline{\\alpha}} + \\frac{0.5 b_{3}}{\\alpha \\overline{\\alpha}} + \\frac{b_{31} \\overline{b_{25}}}{\\alpha \\overline{\\alpha}} + \\frac{b_{39} \\overline{b_{33}}}{\\alpha \\overline{\\alpha}} + \\frac{0.5 b_{5}}{\\alpha \\overline{\\alpha}} + \\frac{b_{7}}{\\alpha \\overline{\\alpha}} & \\frac{b_{16} \\overline{b_{9}}}{\\alpha \\overline{\\alpha}} + \\frac{0.333333333333333 b_{2}}{\\alpha \\overline{\\alpha}} + \\frac{b_{24} \\overline{b_{17}}}{\\alpha \\overline{\\alpha}} + \\frac{b_{32} \\overline{b_{25}}}{\\alpha \\overline{\\alpha}} + \\frac{0.5 b_{4}}{\\alpha \\overline{\\alpha}} + \\frac{b_{40} \\overline{b_{33}}}{\\alpha \\overline{\\alpha}} + \\frac{0.5 b_{6}}{\\alpha \\overline{\\alpha}} + \\frac{b_{8}}{\\alpha \\overline{\\alpha}}\\\\\\frac{b_{17} \\overline{b_{18}}}{\\alpha \\overline{\\alpha}} + \\frac{b_{25} \\overline{b_{26}}}{\\alpha \\overline{\\alpha}} + \\frac{b_{33} \\overline{b_{34}}}{\\alpha \\overline{\\alpha}} + \\frac{b_{9} \\overline{b_{10}}}{\\alpha \\overline{\\alpha}} + \\frac{0.722222222222222}{\\alpha \\overline{\\alpha}} & \\frac{b_{10} \\overline{b_{10}}}{\\alpha \\overline{\\alpha}} + \\frac{b_{18} \\overline{b_{18}}}{\\alpha \\overline{\\alpha}} + \\frac{b_{26} \\overline{b_{26}}}{\\alpha \\overline{\\alpha}} + \\frac{b_{34} \\overline{b_{34}}}{\\alpha \\overline{\\alpha}} + \\frac{1.44444444444444}{\\alpha \\overline{\\alpha}} & \\frac{b_{11} \\overline{b_{10}}}{\\alpha \\overline{\\alpha}} + \\frac{b_{19} \\overline{b_{18}}}{\\alpha \\overline{\\alpha}} + \\frac{b_{27} \\overline{b_{26}}}{\\alpha \\overline{\\alpha}} + \\frac{b_{35} \\overline{b_{34}}}{\\alpha \\overline{\\alpha}} + \\frac{0.444444444444444}{\\alpha \\overline{\\alpha}} & \\frac{b_{12} \\overline{b_{10}}}{\\alpha \\overline{\\alpha}} + \\frac{b_{20} \\overline{b_{18}}}{\\alpha \\overline{\\alpha}} + \\frac{b_{28} \\overline{b_{26}}}{\\alpha \\overline{\\alpha}} + \\frac{b_{36} \\overline{b_{34}}}{\\alpha \\overline{\\alpha}} + \\frac{0.722222222222222}{\\alpha \\overline{\\alpha}} & \\frac{b_{13} \\overline{b_{10}}}{\\alpha \\overline{\\alpha}} + \\frac{b_{21} \\overline{b_{18}}}{\\alpha \\overline{\\alpha}} + \\frac{b_{29} \\overline{b_{26}}}{\\alpha \\overline{\\alpha}} + \\frac{b_{37} \\overline{b_{34}}}{\\alpha \\overline{\\alpha}} + \\frac{0.444444444444444}{\\alpha \\overline{\\alpha}} & \\frac{b_{14} \\overline{b_{10}}}{\\alpha \\overline{\\alpha}} + \\frac{b_{22} \\overline{b_{18}}}{\\alpha \\overline{\\alpha}} + \\frac{b_{30} \\overline{b_{26}}}{\\alpha \\overline{\\alpha}} + \\frac{b_{38} \\overline{b_{34}}}{\\alpha \\overline{\\alpha}} + \\frac{1.22222222222222}{\\alpha \\overline{\\alpha}} & \\frac{0.666666666666667 b_{1}}{\\alpha \\overline{\\alpha}} + \\frac{b_{15} \\overline{b_{10}}}{\\alpha \\overline{\\alpha}} + \\frac{b_{23} \\overline{b_{18}}}{\\alpha \\overline{\\alpha}} + \\frac{1.0 b_{3}}{\\alpha \\overline{\\alpha}} + \\frac{b_{31} \\overline{b_{26}}}{\\alpha \\overline{\\alpha}} + \\frac{b_{39} \\overline{b_{34}}}{\\alpha \\overline{\\alpha}} & \\frac{b_{16} \\overline{b_{10}}}{\\alpha \\overline{\\alpha}} + \\frac{0.666666666666667 b_{2}}{\\alpha \\overline{\\alpha}} + \\frac{b_{24} \\overline{b_{18}}}{\\alpha \\overline{\\alpha}} + \\frac{b_{32} \\overline{b_{26}}}{\\alpha \\overline{\\alpha}} + \\frac{1.0 b_{4}}{\\alpha \\overline{\\alpha}} + \\frac{b_{40} \\overline{b_{34}}}{\\alpha \\overline{\\alpha}}\\\\\\frac{b_{17} \\overline{b_{19}}}{\\alpha \\overline{\\alpha}} + \\frac{b_{25} \\overline{b_{27}}}{\\alpha \\overline{\\alpha}} + \\frac{b_{33} \\overline{b_{35}}}{\\alpha \\overline{\\alpha}} + \\frac{b_{9} \\overline{b_{11}}}{\\alpha \\overline{\\alpha}} + \\frac{0.722222222222222}{\\alpha \\overline{\\alpha}} & \\frac{b_{10} \\overline{b_{11}}}{\\alpha \\overline{\\alpha}} + \\frac{b_{18} \\overline{b_{19}}}{\\alpha \\overline{\\alpha}} + \\frac{b_{26} \\overline{b_{27}}}{\\alpha \\overline{\\alpha}} + \\frac{b_{34} \\overline{b_{35}}}{\\alpha \\overline{\\alpha}} + \\frac{0.444444444444444}{\\alpha \\overline{\\alpha}} & \\frac{b_{11} \\overline{b_{11}}}{\\alpha \\overline{\\alpha}} + \\frac{b_{19} \\overline{b_{19}}}{\\alpha \\overline{\\alpha}} + \\frac{b_{27} \\overline{b_{27}}}{\\alpha \\overline{\\alpha}} + \\frac{b_{35} \\overline{b_{35}}}{\\alpha \\overline{\\alpha}} + \\frac{1.44444444444444}{\\alpha \\overline{\\alpha}} & \\frac{b_{12} \\overline{b_{11}}}{\\alpha \\overline{\\alpha}} + \\frac{b_{20} \\overline{b_{19}}}{\\alpha \\overline{\\alpha}} + \\frac{b_{28} \\overline{b_{27}}}{\\alpha \\overline{\\alpha}} + \\frac{b_{36} \\overline{b_{35}}}{\\alpha \\overline{\\alpha}} + \\frac{1.22222222222222}{\\alpha \\overline{\\alpha}} & \\frac{b_{13} \\overline{b_{11}}}{\\alpha \\overline{\\alpha}} + \\frac{b_{21} \\overline{b_{19}}}{\\alpha \\overline{\\alpha}} + \\frac{b_{29} \\overline{b_{27}}}{\\alpha \\overline{\\alpha}} + \\frac{b_{37} \\overline{b_{35}}}{\\alpha \\overline{\\alpha}} + \\frac{0.444444444444444}{\\alpha \\overline{\\alpha}} & \\frac{b_{14} \\overline{b_{11}}}{\\alpha \\overline{\\alpha}} + \\frac{b_{22} \\overline{b_{19}}}{\\alpha \\overline{\\alpha}} + \\frac{b_{30} \\overline{b_{27}}}{\\alpha \\overline{\\alpha}} + \\frac{b_{38} \\overline{b_{35}}}{\\alpha \\overline{\\alpha}} + \\frac{0.722222222222222}{\\alpha \\overline{\\alpha}} & \\frac{0.666666666666667 b_{1}}{\\alpha \\overline{\\alpha}} + \\frac{b_{15} \\overline{b_{11}}}{\\alpha \\overline{\\alpha}} + \\frac{b_{23} \\overline{b_{19}}}{\\alpha \\overline{\\alpha}} + \\frac{b_{31} \\overline{b_{27}}}{\\alpha \\overline{\\alpha}} + \\frac{b_{39} \\overline{b_{35}}}{\\alpha \\overline{\\alpha}} + \\frac{1.0 b_{5}}{\\alpha \\overline{\\alpha}} & \\frac{b_{16} \\overline{b_{11}}}{\\alpha \\overline{\\alpha}} + \\frac{0.666666666666667 b_{2}}{\\alpha \\overline{\\alpha}} + \\frac{b_{24} \\overline{b_{19}}}{\\alpha \\overline{\\alpha}} + \\frac{b_{32} \\overline{b_{27}}}{\\alpha \\overline{\\alpha}} + \\frac{b_{40} \\overline{b_{35}}}{\\alpha \\overline{\\alpha}} + \\frac{1.0 b_{6}}{\\alpha \\overline{\\alpha}}\\\\\\frac{b_{17} \\overline{b_{20}}}{\\alpha \\overline{\\alpha}} + \\frac{b_{25} \\overline{b_{28}}}{\\alpha \\overline{\\alpha}} + \\frac{b_{33} \\overline{b_{36}}}{\\alpha \\overline{\\alpha}} + \\frac{b_{9} \\overline{b_{12}}}{\\alpha \\overline{\\alpha}} + \\frac{1.36111111111111}{\\alpha \\overline{\\alpha}} & \\frac{b_{10} \\overline{b_{12}}}{\\alpha \\overline{\\alpha}} + \\frac{b_{18} \\overline{b_{20}}}{\\alpha \\overline{\\alpha}} + \\frac{b_{26} \\overline{b_{28}}}{\\alpha \\overline{\\alpha}} + \\frac{b_{34} \\overline{b_{36}}}{\\alpha \\overline{\\alpha}} + \\frac{0.722222222222222}{\\alpha \\overline{\\alpha}} & \\frac{b_{11} \\overline{b_{12}}}{\\alpha \\overline{\\alpha}} + \\frac{b_{19} \\overline{b_{20}}}{\\alpha \\overline{\\alpha}} + \\frac{b_{27} \\overline{b_{28}}}{\\alpha \\overline{\\alpha}} + \\frac{b_{35} \\overline{b_{36}}}{\\alpha \\overline{\\alpha}} + \\frac{1.22222222222222}{\\alpha \\overline{\\alpha}} & \\frac{b_{12} \\overline{b_{12}}}{\\alpha \\overline{\\alpha}} + \\frac{b_{20} \\overline{b_{20}}}{\\alpha \\overline{\\alpha}} + \\frac{b_{28} \\overline{b_{28}}}{\\alpha \\overline{\\alpha}} + \\frac{b_{36} \\overline{b_{36}}}{\\alpha \\overline{\\alpha}} + \\frac{1.61111111111111}{\\alpha \\overline{\\alpha}} & \\frac{b_{13} \\overline{b_{12}}}{\\alpha \\overline{\\alpha}} + \\frac{b_{21} \\overline{b_{20}}}{\\alpha \\overline{\\alpha}} + \\frac{b_{29} \\overline{b_{28}}}{\\alpha \\overline{\\alpha}} + \\frac{b_{37} \\overline{b_{36}}}{\\alpha \\overline{\\alpha}} + \\frac{0.722222222222222}{\\alpha \\overline{\\alpha}} & \\frac{b_{14} \\overline{b_{12}}}{\\alpha \\overline{\\alpha}} + \\frac{b_{22} \\overline{b_{20}}}{\\alpha \\overline{\\alpha}} + \\frac{b_{30} \\overline{b_{28}}}{\\alpha \\overline{\\alpha}} + \\frac{b_{38} \\overline{b_{36}}}{\\alpha \\overline{\\alpha}} + \\frac{1.36111111111111}{\\alpha \\overline{\\alpha}} & \\frac{0.333333333333333 b_{1}}{\\alpha \\overline{\\alpha}} + \\frac{b_{15} \\overline{b_{12}}}{\\alpha \\overline{\\alpha}} + \\frac{b_{23} \\overline{b_{20}}}{\\alpha \\overline{\\alpha}} + \\frac{0.5 b_{3}}{\\alpha \\overline{\\alpha}} + \\frac{b_{31} \\overline{b_{28}}}{\\alpha \\overline{\\alpha}} + \\frac{b_{39} \\overline{b_{36}}}{\\alpha \\overline{\\alpha}} + \\frac{b_{5}}{\\alpha \\overline{\\alpha}} + \\frac{0.5 b_{7}}{\\alpha \\overline{\\alpha}} & \\frac{b_{16} \\overline{b_{12}}}{\\alpha \\overline{\\alpha}} + \\frac{0.333333333333333 b_{2}}{\\alpha \\overline{\\alpha}} + \\frac{b_{24} \\overline{b_{20}}}{\\alpha \\overline{\\alpha}} + \\frac{b_{32} \\overline{b_{28}}}{\\alpha \\overline{\\alpha}} + \\frac{0.5 b_{4}}{\\alpha \\overline{\\alpha}} + \\frac{b_{40} \\overline{b_{36}}}{\\alpha \\overline{\\alpha}} + \\frac{b_{6}}{\\alpha \\overline{\\alpha}} + \\frac{0.5 b_{8}}{\\alpha \\overline{\\alpha}}\\\\\\frac{b_{17} \\overline{b_{21}}}{\\alpha \\overline{\\alpha}} + \\frac{b_{25} \\overline{b_{29}}}{\\alpha \\overline{\\alpha}} + \\frac{b_{33} \\overline{b_{37}}}{\\alpha \\overline{\\alpha}} + \\frac{b_{9} \\overline{b_{13}}}{\\alpha \\overline{\\alpha}} + \\frac{1.22222222222222}{\\alpha \\overline{\\alpha}} & \\frac{b_{10} \\overline{b_{13}}}{\\alpha \\overline{\\alpha}} + \\frac{b_{18} \\overline{b_{21}}}{\\alpha \\overline{\\alpha}} + \\frac{b_{26} \\overline{b_{29}}}{\\alpha \\overline{\\alpha}} + \\frac{b_{34} \\overline{b_{37}}}{\\alpha \\overline{\\alpha}} + \\frac{0.444444444444444}{\\alpha \\overline{\\alpha}} & \\frac{b_{11} \\overline{b_{13}}}{\\alpha \\overline{\\alpha}} + \\frac{b_{19} \\overline{b_{21}}}{\\alpha \\overline{\\alpha}} + \\frac{b_{27} \\overline{b_{29}}}{\\alpha \\overline{\\alpha}} + \\frac{b_{35} \\overline{b_{37}}}{\\alpha \\overline{\\alpha}} + \\frac{0.444444444444444}{\\alpha \\overline{\\alpha}} & \\frac{b_{12} \\overline{b_{13}}}{\\alpha \\overline{\\alpha}} + \\frac{b_{20} \\overline{b_{21}}}{\\alpha \\overline{\\alpha}} + \\frac{b_{28} \\overline{b_{29}}}{\\alpha \\overline{\\alpha}} + \\frac{b_{36} \\overline{b_{37}}}{\\alpha \\overline{\\alpha}} + \\frac{0.722222222222222}{\\alpha \\overline{\\alpha}} & \\frac{b_{13} \\overline{b_{13}}}{\\alpha \\overline{\\alpha}} + \\frac{b_{21} \\overline{b_{21}}}{\\alpha \\overline{\\alpha}} + \\frac{b_{29} \\overline{b_{29}}}{\\alpha \\overline{\\alpha}} + \\frac{b_{37} \\overline{b_{37}}}{\\alpha \\overline{\\alpha}} + \\frac{1.44444444444444}{\\alpha \\overline{\\alpha}} & \\frac{b_{14} \\overline{b_{13}}}{\\alpha \\overline{\\alpha}} + \\frac{b_{22} \\overline{b_{21}}}{\\alpha \\overline{\\alpha}} + \\frac{b_{30} \\overline{b_{29}}}{\\alpha \\overline{\\alpha}} + \\frac{b_{38} \\overline{b_{37}}}{\\alpha \\overline{\\alpha}} + \\frac{0.722222222222222}{\\alpha \\overline{\\alpha}} & \\frac{0.666666666666667 b_{1}}{\\alpha \\overline{\\alpha}} + \\frac{b_{15} \\overline{b_{13}}}{\\alpha \\overline{\\alpha}} + \\frac{b_{23} \\overline{b_{21}}}{\\alpha \\overline{\\alpha}} + \\frac{b_{31} \\overline{b_{29}}}{\\alpha \\overline{\\alpha}} + \\frac{b_{39} \\overline{b_{37}}}{\\alpha \\overline{\\alpha}} + \\frac{1.0 b_{7}}{\\alpha \\overline{\\alpha}} & \\frac{b_{16} \\overline{b_{13}}}{\\alpha \\overline{\\alpha}} + \\frac{0.666666666666667 b_{2}}{\\alpha \\overline{\\alpha}} + \\frac{b_{24} \\overline{b_{21}}}{\\alpha \\overline{\\alpha}} + \\frac{b_{32} \\overline{b_{29}}}{\\alpha \\overline{\\alpha}} + \\frac{b_{40} \\overline{b_{37}}}{\\alpha \\overline{\\alpha}} + \\frac{1.0 b_{8}}{\\alpha \\overline{\\alpha}}\\\\\\frac{b_{17} \\overline{b_{22}}}{\\alpha \\overline{\\alpha}} + \\frac{b_{25} \\overline{b_{30}}}{\\alpha \\overline{\\alpha}} + \\frac{b_{33} \\overline{b_{38}}}{\\alpha \\overline{\\alpha}} + \\frac{b_{9} \\overline{b_{14}}}{\\alpha \\overline{\\alpha}} + \\frac{1.36111111111111}{\\alpha \\overline{\\alpha}} & \\frac{b_{10} \\overline{b_{14}}}{\\alpha \\overline{\\alpha}} + \\frac{b_{18} \\overline{b_{22}}}{\\alpha \\overline{\\alpha}} + \\frac{b_{26} \\overline{b_{30}}}{\\alpha \\overline{\\alpha}} + \\frac{b_{34} \\overline{b_{38}}}{\\alpha \\overline{\\alpha}} + \\frac{1.22222222222222}{\\alpha \\overline{\\alpha}} & \\frac{b_{11} \\overline{b_{14}}}{\\alpha \\overline{\\alpha}} + \\frac{b_{19} \\overline{b_{22}}}{\\alpha \\overline{\\alpha}} + \\frac{b_{27} \\overline{b_{30}}}{\\alpha \\overline{\\alpha}} + \\frac{b_{35} \\overline{b_{38}}}{\\alpha \\overline{\\alpha}} + \\frac{0.722222222222222}{\\alpha \\overline{\\alpha}} & \\frac{b_{12} \\overline{b_{14}}}{\\alpha \\overline{\\alpha}} + \\frac{b_{20} \\overline{b_{22}}}{\\alpha \\overline{\\alpha}} + \\frac{b_{28} \\overline{b_{30}}}{\\alpha \\overline{\\alpha}} + \\frac{b_{36} \\overline{b_{38}}}{\\alpha \\overline{\\alpha}} + \\frac{1.36111111111111}{\\alpha \\overline{\\alpha}} & \\frac{b_{13} \\overline{b_{14}}}{\\alpha \\overline{\\alpha}} + \\frac{b_{21} \\overline{b_{22}}}{\\alpha \\overline{\\alpha}} + \\frac{b_{29} \\overline{b_{30}}}{\\alpha \\overline{\\alpha}} + \\frac{b_{37} \\overline{b_{38}}}{\\alpha \\overline{\\alpha}} + \\frac{0.722222222222222}{\\alpha \\overline{\\alpha}} & \\frac{b_{14} \\overline{b_{14}}}{\\alpha \\overline{\\alpha}} + \\frac{b_{22} \\overline{b_{22}}}{\\alpha \\overline{\\alpha}} + \\frac{b_{30} \\overline{b_{30}}}{\\alpha \\overline{\\alpha}} + \\frac{b_{38} \\overline{b_{38}}}{\\alpha \\overline{\\alpha}} + \\frac{1.61111111111111}{\\alpha \\overline{\\alpha}} & \\frac{0.333333333333333 b_{1}}{\\alpha \\overline{\\alpha}} + \\frac{b_{15} \\overline{b_{14}}}{\\alpha \\overline{\\alpha}} + \\frac{b_{23} \\overline{b_{22}}}{\\alpha \\overline{\\alpha}} + \\frac{b_{3}}{\\alpha \\overline{\\alpha}} + \\frac{b_{31} \\overline{b_{30}}}{\\alpha \\overline{\\alpha}} + \\frac{b_{39} \\overline{b_{38}}}{\\alpha \\overline{\\alpha}} + \\frac{0.5 b_{5}}{\\alpha \\overline{\\alpha}} + \\frac{0.5 b_{7}}{\\alpha \\overline{\\alpha}} & \\frac{b_{16} \\overline{b_{14}}}{\\alpha \\overline{\\alpha}} + \\frac{0.333333333333333 b_{2}}{\\alpha \\overline{\\alpha}} + \\frac{b_{24} \\overline{b_{22}}}{\\alpha \\overline{\\alpha}} + \\frac{b_{32} \\overline{b_{30}}}{\\alpha \\overline{\\alpha}} + \\frac{b_{4}}{\\alpha \\overline{\\alpha}} + \\frac{b_{40} \\overline{b_{38}}}{\\alpha \\overline{\\alpha}} + \\frac{0.5 b_{6}}{\\alpha \\overline{\\alpha}} + \\frac{0.5 b_{8}}{\\alpha \\overline{\\alpha}}\\\\\\frac{b_{17} \\overline{b_{23}}}{\\alpha \\overline{\\alpha}} + \\frac{b_{25} \\overline{b_{31}}}{\\alpha \\overline{\\alpha}} + \\frac{b_{33} \\overline{b_{39}}}{\\alpha \\overline{\\alpha}} + \\frac{b_{9} \\overline{b_{15}}}{\\alpha \\overline{\\alpha}} + \\frac{0.333333333333333 \\overline{b_{1}}}{\\alpha \\overline{\\alpha}} + \\frac{0.5 \\overline{b_{3}}}{\\alpha \\overline{\\alpha}} + \\frac{0.5 \\overline{b_{5}}}{\\alpha \\overline{\\alpha}} + \\frac{\\overline{b_{7}}}{\\alpha \\overline{\\alpha}} & \\frac{b_{10} \\overline{b_{15}}}{\\alpha \\overline{\\alpha}} + \\frac{b_{18} \\overline{b_{23}}}{\\alpha \\overline{\\alpha}} + \\frac{b_{26} \\overline{b_{31}}}{\\alpha \\overline{\\alpha}} + \\frac{b_{34} \\overline{b_{39}}}{\\alpha \\overline{\\alpha}} + \\frac{0.666666666666667 \\overline{b_{1}}}{\\alpha \\overline{\\alpha}} + \\frac{1.0 \\overline{b_{3}}}{\\alpha \\overline{\\alpha}} & \\frac{b_{11} \\overline{b_{15}}}{\\alpha \\overline{\\alpha}} + \\frac{b_{19} \\overline{b_{23}}}{\\alpha \\overline{\\alpha}} + \\frac{b_{27} \\overline{b_{31}}}{\\alpha \\overline{\\alpha}} + \\frac{b_{35} \\overline{b_{39}}}{\\alpha \\overline{\\alpha}} + \\frac{0.666666666666667 \\overline{b_{1}}}{\\alpha \\overline{\\alpha}} + \\frac{1.0 \\overline{b_{5}}}{\\alpha \\overline{\\alpha}} & \\frac{b_{12} \\overline{b_{15}}}{\\alpha \\overline{\\alpha}} + \\frac{b_{20} \\overline{b_{23}}}{\\alpha \\overline{\\alpha}} + \\frac{b_{28} \\overline{b_{31}}}{\\alpha \\overline{\\alpha}} + \\frac{b_{36} \\overline{b_{39}}}{\\alpha \\overline{\\alpha}} + \\frac{0.333333333333333 \\overline{b_{1}}}{\\alpha \\overline{\\alpha}} + \\frac{0.5 \\overline{b_{3}}}{\\alpha \\overline{\\alpha}} + \\frac{\\overline{b_{5}}}{\\alpha \\overline{\\alpha}} + \\frac{0.5 \\overline{b_{7}}}{\\alpha \\overline{\\alpha}} & \\frac{b_{13} \\overline{b_{15}}}{\\alpha \\overline{\\alpha}} + \\frac{b_{21} \\overline{b_{23}}}{\\alpha \\overline{\\alpha}} + \\frac{b_{29} \\overline{b_{31}}}{\\alpha \\overline{\\alpha}} + \\frac{b_{37} \\overline{b_{39}}}{\\alpha \\overline{\\alpha}} + \\frac{0.666666666666667 \\overline{b_{1}}}{\\alpha \\overline{\\alpha}} + \\frac{1.0 \\overline{b_{7}}}{\\alpha \\overline{\\alpha}} & \\frac{b_{14} \\overline{b_{15}}}{\\alpha \\overline{\\alpha}} + \\frac{b_{22} \\overline{b_{23}}}{\\alpha \\overline{\\alpha}} + \\frac{b_{30} \\overline{b_{31}}}{\\alpha \\overline{\\alpha}} + \\frac{b_{38} \\overline{b_{39}}}{\\alpha \\overline{\\alpha}} + \\frac{0.333333333333333 \\overline{b_{1}}}{\\alpha \\overline{\\alpha}} + \\frac{\\overline{b_{3}}}{\\alpha \\overline{\\alpha}} + \\frac{0.5 \\overline{b_{5}}}{\\alpha \\overline{\\alpha}} + \\frac{0.5 \\overline{b_{7}}}{\\alpha \\overline{\\alpha}} & \\frac{b_{1} \\overline{b_{1}}}{\\alpha \\overline{\\alpha}} + \\frac{b_{15} \\overline{b_{15}}}{\\alpha \\overline{\\alpha}} + \\frac{b_{23} \\overline{b_{23}}}{\\alpha \\overline{\\alpha}} + \\frac{b_{3} \\overline{b_{3}}}{\\alpha \\overline{\\alpha}} + \\frac{b_{31} \\overline{b_{31}}}{\\alpha \\overline{\\alpha}} + \\frac{b_{39} \\overline{b_{39}}}{\\alpha \\overline{\\alpha}} + \\frac{b_{5} \\overline{b_{5}}}{\\alpha \\overline{\\alpha}} + \\frac{b_{7} \\overline{b_{7}}}{\\alpha \\overline{\\alpha}} & \\frac{b_{16} \\overline{b_{15}}}{\\alpha \\overline{\\alpha}} + \\frac{b_{2} \\overline{b_{1}}}{\\alpha \\overline{\\alpha}} + \\frac{b_{24} \\overline{b_{23}}}{\\alpha \\overline{\\alpha}} + \\frac{b_{32} \\overline{b_{31}}}{\\alpha \\overline{\\alpha}} + \\frac{b_{4} \\overline{b_{3}}}{\\alpha \\overline{\\alpha}} + \\frac{b_{40} \\overline{b_{39}}}{\\alpha \\overline{\\alpha}} + \\frac{b_{6} \\overline{b_{5}}}{\\alpha \\overline{\\alpha}} + \\frac{b_{8} \\overline{b_{7}}}{\\alpha \\overline{\\alpha}}\\\\\\frac{b_{17} \\overline{b_{24}}}{\\alpha \\overline{\\alpha}} + \\frac{b_{25} \\overline{b_{32}}}{\\alpha \\overline{\\alpha}} + \\frac{b_{33} \\overline{b_{40}}}{\\alpha \\overline{\\alpha}} + \\frac{b_{9} \\overline{b_{16}}}{\\alpha \\overline{\\alpha}} + \\frac{0.333333333333333 \\overline{b_{2}}}{\\alpha \\overline{\\alpha}} + \\frac{0.5 \\overline{b_{4}}}{\\alpha \\overline{\\alpha}} + \\frac{0.5 \\overline{b_{6}}}{\\alpha \\overline{\\alpha}} + \\frac{\\overline{b_{8}}}{\\alpha \\overline{\\alpha}} & \\frac{b_{10} \\overline{b_{16}}}{\\alpha \\overline{\\alpha}} + \\frac{b_{18} \\overline{b_{24}}}{\\alpha \\overline{\\alpha}} + \\frac{b_{26} \\overline{b_{32}}}{\\alpha \\overline{\\alpha}} + \\frac{b_{34} \\overline{b_{40}}}{\\alpha \\overline{\\alpha}} + \\frac{0.666666666666667 \\overline{b_{2}}}{\\alpha \\overline{\\alpha}} + \\frac{1.0 \\overline{b_{4}}}{\\alpha \\overline{\\alpha}} & \\frac{b_{11} \\overline{b_{16}}}{\\alpha \\overline{\\alpha}} + \\frac{b_{19} \\overline{b_{24}}}{\\alpha \\overline{\\alpha}} + \\frac{b_{27} \\overline{b_{32}}}{\\alpha \\overline{\\alpha}} + \\frac{b_{35} \\overline{b_{40}}}{\\alpha \\overline{\\alpha}} + \\frac{0.666666666666667 \\overline{b_{2}}}{\\alpha \\overline{\\alpha}} + \\frac{1.0 \\overline{b_{6}}}{\\alpha \\overline{\\alpha}} & \\frac{b_{12} \\overline{b_{16}}}{\\alpha \\overline{\\alpha}} + \\frac{b_{20} \\overline{b_{24}}}{\\alpha \\overline{\\alpha}} + \\frac{b_{28} \\overline{b_{32}}}{\\alpha \\overline{\\alpha}} + \\frac{b_{36} \\overline{b_{40}}}{\\alpha \\overline{\\alpha}} + \\frac{0.333333333333333 \\overline{b_{2}}}{\\alpha \\overline{\\alpha}} + \\frac{0.5 \\overline{b_{4}}}{\\alpha \\overline{\\alpha}} + \\frac{\\overline{b_{6}}}{\\alpha \\overline{\\alpha}} + \\frac{0.5 \\overline{b_{8}}}{\\alpha \\overline{\\alpha}} & \\frac{b_{13} \\overline{b_{16}}}{\\alpha \\overline{\\alpha}} + \\frac{b_{21} \\overline{b_{24}}}{\\alpha \\overline{\\alpha}} + \\frac{b_{29} \\overline{b_{32}}}{\\alpha \\overline{\\alpha}} + \\frac{b_{37} \\overline{b_{40}}}{\\alpha \\overline{\\alpha}} + \\frac{0.666666666666667 \\overline{b_{2}}}{\\alpha \\overline{\\alpha}} + \\frac{1.0 \\overline{b_{8}}}{\\alpha \\overline{\\alpha}} & \\frac{b_{14} \\overline{b_{16}}}{\\alpha \\overline{\\alpha}} + \\frac{b_{22} \\overline{b_{24}}}{\\alpha \\overline{\\alpha}} + \\frac{b_{30} \\overline{b_{32}}}{\\alpha \\overline{\\alpha}} + \\frac{b_{38} \\overline{b_{40}}}{\\alpha \\overline{\\alpha}} + \\frac{0.333333333333333 \\overline{b_{2}}}{\\alpha \\overline{\\alpha}} + \\frac{\\overline{b_{4}}}{\\alpha \\overline{\\alpha}} + \\frac{0.5 \\overline{b_{6}}}{\\alpha \\overline{\\alpha}} + \\frac{0.5 \\overline{b_{8}}}{\\alpha \\overline{\\alpha}} & \\frac{b_{1} \\overline{b_{2}}}{\\alpha \\overline{\\alpha}} + \\frac{b_{15} \\overline{b_{16}}}{\\alpha \\overline{\\alpha}} + \\frac{b_{23} \\overline{b_{24}}}{\\alpha \\overline{\\alpha}} + \\frac{b_{3} \\overline{b_{4}}}{\\alpha \\overline{\\alpha}} + \\frac{b_{31} \\overline{b_{32}}}{\\alpha \\overline{\\alpha}} + \\frac{b_{39} \\overline{b_{40}}}{\\alpha \\overline{\\alpha}} + \\frac{b_{5} \\overline{b_{6}}}{\\alpha \\overline{\\alpha}} + \\frac{b_{7} \\overline{b_{8}}}{\\alpha \\overline{\\alpha}} & \\frac{b_{16} \\overline{b_{16}}}{\\alpha \\overline{\\alpha}} + \\frac{b_{2} \\overline{b_{2}}}{\\alpha \\overline{\\alpha}} + \\frac{b_{24} \\overline{b_{24}}}{\\alpha \\overline{\\alpha}} + \\frac{b_{32} \\overline{b_{32}}}{\\alpha \\overline{\\alpha}} + \\frac{b_{4} \\overline{b_{4}}}{\\alpha \\overline{\\alpha}} + \\frac{b_{40} \\overline{b_{40}}}{\\alpha \\overline{\\alpha}} + \\frac{b_{6} \\overline{b_{6}}}{\\alpha \\overline{\\alpha}} + \\frac{b_{8} \\overline{b_{8}}}{\\alpha \\overline{\\alpha}}\\end{matrix}\\right]$"
      ],
      "text/plain": [
       "Matrix([\n",
       "[                                                                                                                                                       b_17*conjugate(b_17)/(alpha*conjugate(alpha)) + b_25*conjugate(b_25)/(alpha*conjugate(alpha)) + b_33*conjugate(b_33)/(alpha*conjugate(alpha)) + b_9*conjugate(b_9)/(alpha*conjugate(alpha)) + 1.61111111111111/(alpha*conjugate(alpha)),                                                               b_10*conjugate(b_9)/(alpha*conjugate(alpha)) + b_18*conjugate(b_17)/(alpha*conjugate(alpha)) + b_26*conjugate(b_25)/(alpha*conjugate(alpha)) + b_34*conjugate(b_33)/(alpha*conjugate(alpha)) + 0.722222222222222/(alpha*conjugate(alpha)),                                                               b_11*conjugate(b_9)/(alpha*conjugate(alpha)) + b_19*conjugate(b_17)/(alpha*conjugate(alpha)) + b_27*conjugate(b_25)/(alpha*conjugate(alpha)) + b_35*conjugate(b_33)/(alpha*conjugate(alpha)) + 0.722222222222222/(alpha*conjugate(alpha)),                                                                                                                                                        b_12*conjugate(b_9)/(alpha*conjugate(alpha)) + b_20*conjugate(b_17)/(alpha*conjugate(alpha)) + b_28*conjugate(b_25)/(alpha*conjugate(alpha)) + b_36*conjugate(b_33)/(alpha*conjugate(alpha)) + 1.36111111111111/(alpha*conjugate(alpha)),                                                                b_13*conjugate(b_9)/(alpha*conjugate(alpha)) + b_21*conjugate(b_17)/(alpha*conjugate(alpha)) + b_29*conjugate(b_25)/(alpha*conjugate(alpha)) + b_37*conjugate(b_33)/(alpha*conjugate(alpha)) + 1.22222222222222/(alpha*conjugate(alpha)),                                                                                                                                                        b_14*conjugate(b_9)/(alpha*conjugate(alpha)) + b_22*conjugate(b_17)/(alpha*conjugate(alpha)) + b_30*conjugate(b_25)/(alpha*conjugate(alpha)) + b_38*conjugate(b_33)/(alpha*conjugate(alpha)) + 1.36111111111111/(alpha*conjugate(alpha)),                                    0.333333333333333*b_1/(alpha*conjugate(alpha)) + b_15*conjugate(b_9)/(alpha*conjugate(alpha)) + b_23*conjugate(b_17)/(alpha*conjugate(alpha)) + 0.5*b_3/(alpha*conjugate(alpha)) + b_31*conjugate(b_25)/(alpha*conjugate(alpha)) + b_39*conjugate(b_33)/(alpha*conjugate(alpha)) + 0.5*b_5/(alpha*conjugate(alpha)) + b_7/(alpha*conjugate(alpha)),                                    b_16*conjugate(b_9)/(alpha*conjugate(alpha)) + 0.333333333333333*b_2/(alpha*conjugate(alpha)) + b_24*conjugate(b_17)/(alpha*conjugate(alpha)) + b_32*conjugate(b_25)/(alpha*conjugate(alpha)) + 0.5*b_4/(alpha*conjugate(alpha)) + b_40*conjugate(b_33)/(alpha*conjugate(alpha)) + 0.5*b_6/(alpha*conjugate(alpha)) + b_8/(alpha*conjugate(alpha))],\n",
       "[                                                                                                                                                     b_17*conjugate(b_18)/(alpha*conjugate(alpha)) + b_25*conjugate(b_26)/(alpha*conjugate(alpha)) + b_33*conjugate(b_34)/(alpha*conjugate(alpha)) + b_9*conjugate(b_10)/(alpha*conjugate(alpha)) + 0.722222222222222/(alpha*conjugate(alpha)),                                                               b_10*conjugate(b_10)/(alpha*conjugate(alpha)) + b_18*conjugate(b_18)/(alpha*conjugate(alpha)) + b_26*conjugate(b_26)/(alpha*conjugate(alpha)) + b_34*conjugate(b_34)/(alpha*conjugate(alpha)) + 1.44444444444444/(alpha*conjugate(alpha)),                                                              b_11*conjugate(b_10)/(alpha*conjugate(alpha)) + b_19*conjugate(b_18)/(alpha*conjugate(alpha)) + b_27*conjugate(b_26)/(alpha*conjugate(alpha)) + b_35*conjugate(b_34)/(alpha*conjugate(alpha)) + 0.444444444444444/(alpha*conjugate(alpha)),                                                                                                                                                      b_12*conjugate(b_10)/(alpha*conjugate(alpha)) + b_20*conjugate(b_18)/(alpha*conjugate(alpha)) + b_28*conjugate(b_26)/(alpha*conjugate(alpha)) + b_36*conjugate(b_34)/(alpha*conjugate(alpha)) + 0.722222222222222/(alpha*conjugate(alpha)),                                                              b_13*conjugate(b_10)/(alpha*conjugate(alpha)) + b_21*conjugate(b_18)/(alpha*conjugate(alpha)) + b_29*conjugate(b_26)/(alpha*conjugate(alpha)) + b_37*conjugate(b_34)/(alpha*conjugate(alpha)) + 0.444444444444444/(alpha*conjugate(alpha)),                                                                                                                                                       b_14*conjugate(b_10)/(alpha*conjugate(alpha)) + b_22*conjugate(b_18)/(alpha*conjugate(alpha)) + b_30*conjugate(b_26)/(alpha*conjugate(alpha)) + b_38*conjugate(b_34)/(alpha*conjugate(alpha)) + 1.22222222222222/(alpha*conjugate(alpha)),                                                                                                     0.666666666666667*b_1/(alpha*conjugate(alpha)) + b_15*conjugate(b_10)/(alpha*conjugate(alpha)) + b_23*conjugate(b_18)/(alpha*conjugate(alpha)) + 1.0*b_3/(alpha*conjugate(alpha)) + b_31*conjugate(b_26)/(alpha*conjugate(alpha)) + b_39*conjugate(b_34)/(alpha*conjugate(alpha)),                                                                                                     b_16*conjugate(b_10)/(alpha*conjugate(alpha)) + 0.666666666666667*b_2/(alpha*conjugate(alpha)) + b_24*conjugate(b_18)/(alpha*conjugate(alpha)) + b_32*conjugate(b_26)/(alpha*conjugate(alpha)) + 1.0*b_4/(alpha*conjugate(alpha)) + b_40*conjugate(b_34)/(alpha*conjugate(alpha))],\n",
       "[                                                                                                                                                     b_17*conjugate(b_19)/(alpha*conjugate(alpha)) + b_25*conjugate(b_27)/(alpha*conjugate(alpha)) + b_33*conjugate(b_35)/(alpha*conjugate(alpha)) + b_9*conjugate(b_11)/(alpha*conjugate(alpha)) + 0.722222222222222/(alpha*conjugate(alpha)),                                                              b_10*conjugate(b_11)/(alpha*conjugate(alpha)) + b_18*conjugate(b_19)/(alpha*conjugate(alpha)) + b_26*conjugate(b_27)/(alpha*conjugate(alpha)) + b_34*conjugate(b_35)/(alpha*conjugate(alpha)) + 0.444444444444444/(alpha*conjugate(alpha)),                                                               b_11*conjugate(b_11)/(alpha*conjugate(alpha)) + b_19*conjugate(b_19)/(alpha*conjugate(alpha)) + b_27*conjugate(b_27)/(alpha*conjugate(alpha)) + b_35*conjugate(b_35)/(alpha*conjugate(alpha)) + 1.44444444444444/(alpha*conjugate(alpha)),                                                                                                                                                       b_12*conjugate(b_11)/(alpha*conjugate(alpha)) + b_20*conjugate(b_19)/(alpha*conjugate(alpha)) + b_28*conjugate(b_27)/(alpha*conjugate(alpha)) + b_36*conjugate(b_35)/(alpha*conjugate(alpha)) + 1.22222222222222/(alpha*conjugate(alpha)),                                                              b_13*conjugate(b_11)/(alpha*conjugate(alpha)) + b_21*conjugate(b_19)/(alpha*conjugate(alpha)) + b_29*conjugate(b_27)/(alpha*conjugate(alpha)) + b_37*conjugate(b_35)/(alpha*conjugate(alpha)) + 0.444444444444444/(alpha*conjugate(alpha)),                                                                                                                                                      b_14*conjugate(b_11)/(alpha*conjugate(alpha)) + b_22*conjugate(b_19)/(alpha*conjugate(alpha)) + b_30*conjugate(b_27)/(alpha*conjugate(alpha)) + b_38*conjugate(b_35)/(alpha*conjugate(alpha)) + 0.722222222222222/(alpha*conjugate(alpha)),                                                                                                     0.666666666666667*b_1/(alpha*conjugate(alpha)) + b_15*conjugate(b_11)/(alpha*conjugate(alpha)) + b_23*conjugate(b_19)/(alpha*conjugate(alpha)) + b_31*conjugate(b_27)/(alpha*conjugate(alpha)) + b_39*conjugate(b_35)/(alpha*conjugate(alpha)) + 1.0*b_5/(alpha*conjugate(alpha)),                                                                                                     b_16*conjugate(b_11)/(alpha*conjugate(alpha)) + 0.666666666666667*b_2/(alpha*conjugate(alpha)) + b_24*conjugate(b_19)/(alpha*conjugate(alpha)) + b_32*conjugate(b_27)/(alpha*conjugate(alpha)) + b_40*conjugate(b_35)/(alpha*conjugate(alpha)) + 1.0*b_6/(alpha*conjugate(alpha))],\n",
       "[                                                                                                                                                      b_17*conjugate(b_20)/(alpha*conjugate(alpha)) + b_25*conjugate(b_28)/(alpha*conjugate(alpha)) + b_33*conjugate(b_36)/(alpha*conjugate(alpha)) + b_9*conjugate(b_12)/(alpha*conjugate(alpha)) + 1.36111111111111/(alpha*conjugate(alpha)),                                                              b_10*conjugate(b_12)/(alpha*conjugate(alpha)) + b_18*conjugate(b_20)/(alpha*conjugate(alpha)) + b_26*conjugate(b_28)/(alpha*conjugate(alpha)) + b_34*conjugate(b_36)/(alpha*conjugate(alpha)) + 0.722222222222222/(alpha*conjugate(alpha)),                                                               b_11*conjugate(b_12)/(alpha*conjugate(alpha)) + b_19*conjugate(b_20)/(alpha*conjugate(alpha)) + b_27*conjugate(b_28)/(alpha*conjugate(alpha)) + b_35*conjugate(b_36)/(alpha*conjugate(alpha)) + 1.22222222222222/(alpha*conjugate(alpha)),                                                                                                                                                       b_12*conjugate(b_12)/(alpha*conjugate(alpha)) + b_20*conjugate(b_20)/(alpha*conjugate(alpha)) + b_28*conjugate(b_28)/(alpha*conjugate(alpha)) + b_36*conjugate(b_36)/(alpha*conjugate(alpha)) + 1.61111111111111/(alpha*conjugate(alpha)),                                                              b_13*conjugate(b_12)/(alpha*conjugate(alpha)) + b_21*conjugate(b_20)/(alpha*conjugate(alpha)) + b_29*conjugate(b_28)/(alpha*conjugate(alpha)) + b_37*conjugate(b_36)/(alpha*conjugate(alpha)) + 0.722222222222222/(alpha*conjugate(alpha)),                                                                                                                                                       b_14*conjugate(b_12)/(alpha*conjugate(alpha)) + b_22*conjugate(b_20)/(alpha*conjugate(alpha)) + b_30*conjugate(b_28)/(alpha*conjugate(alpha)) + b_38*conjugate(b_36)/(alpha*conjugate(alpha)) + 1.36111111111111/(alpha*conjugate(alpha)),                                   0.333333333333333*b_1/(alpha*conjugate(alpha)) + b_15*conjugate(b_12)/(alpha*conjugate(alpha)) + b_23*conjugate(b_20)/(alpha*conjugate(alpha)) + 0.5*b_3/(alpha*conjugate(alpha)) + b_31*conjugate(b_28)/(alpha*conjugate(alpha)) + b_39*conjugate(b_36)/(alpha*conjugate(alpha)) + b_5/(alpha*conjugate(alpha)) + 0.5*b_7/(alpha*conjugate(alpha)),                                   b_16*conjugate(b_12)/(alpha*conjugate(alpha)) + 0.333333333333333*b_2/(alpha*conjugate(alpha)) + b_24*conjugate(b_20)/(alpha*conjugate(alpha)) + b_32*conjugate(b_28)/(alpha*conjugate(alpha)) + 0.5*b_4/(alpha*conjugate(alpha)) + b_40*conjugate(b_36)/(alpha*conjugate(alpha)) + b_6/(alpha*conjugate(alpha)) + 0.5*b_8/(alpha*conjugate(alpha))],\n",
       "[                                                                                                                                                      b_17*conjugate(b_21)/(alpha*conjugate(alpha)) + b_25*conjugate(b_29)/(alpha*conjugate(alpha)) + b_33*conjugate(b_37)/(alpha*conjugate(alpha)) + b_9*conjugate(b_13)/(alpha*conjugate(alpha)) + 1.22222222222222/(alpha*conjugate(alpha)),                                                              b_10*conjugate(b_13)/(alpha*conjugate(alpha)) + b_18*conjugate(b_21)/(alpha*conjugate(alpha)) + b_26*conjugate(b_29)/(alpha*conjugate(alpha)) + b_34*conjugate(b_37)/(alpha*conjugate(alpha)) + 0.444444444444444/(alpha*conjugate(alpha)),                                                              b_11*conjugate(b_13)/(alpha*conjugate(alpha)) + b_19*conjugate(b_21)/(alpha*conjugate(alpha)) + b_27*conjugate(b_29)/(alpha*conjugate(alpha)) + b_35*conjugate(b_37)/(alpha*conjugate(alpha)) + 0.444444444444444/(alpha*conjugate(alpha)),                                                                                                                                                      b_12*conjugate(b_13)/(alpha*conjugate(alpha)) + b_20*conjugate(b_21)/(alpha*conjugate(alpha)) + b_28*conjugate(b_29)/(alpha*conjugate(alpha)) + b_36*conjugate(b_37)/(alpha*conjugate(alpha)) + 0.722222222222222/(alpha*conjugate(alpha)),                                                               b_13*conjugate(b_13)/(alpha*conjugate(alpha)) + b_21*conjugate(b_21)/(alpha*conjugate(alpha)) + b_29*conjugate(b_29)/(alpha*conjugate(alpha)) + b_37*conjugate(b_37)/(alpha*conjugate(alpha)) + 1.44444444444444/(alpha*conjugate(alpha)),                                                                                                                                                      b_14*conjugate(b_13)/(alpha*conjugate(alpha)) + b_22*conjugate(b_21)/(alpha*conjugate(alpha)) + b_30*conjugate(b_29)/(alpha*conjugate(alpha)) + b_38*conjugate(b_37)/(alpha*conjugate(alpha)) + 0.722222222222222/(alpha*conjugate(alpha)),                                                                                                     0.666666666666667*b_1/(alpha*conjugate(alpha)) + b_15*conjugate(b_13)/(alpha*conjugate(alpha)) + b_23*conjugate(b_21)/(alpha*conjugate(alpha)) + b_31*conjugate(b_29)/(alpha*conjugate(alpha)) + b_39*conjugate(b_37)/(alpha*conjugate(alpha)) + 1.0*b_7/(alpha*conjugate(alpha)),                                                                                                     b_16*conjugate(b_13)/(alpha*conjugate(alpha)) + 0.666666666666667*b_2/(alpha*conjugate(alpha)) + b_24*conjugate(b_21)/(alpha*conjugate(alpha)) + b_32*conjugate(b_29)/(alpha*conjugate(alpha)) + b_40*conjugate(b_37)/(alpha*conjugate(alpha)) + 1.0*b_8/(alpha*conjugate(alpha))],\n",
       "[                                                                                                                                                      b_17*conjugate(b_22)/(alpha*conjugate(alpha)) + b_25*conjugate(b_30)/(alpha*conjugate(alpha)) + b_33*conjugate(b_38)/(alpha*conjugate(alpha)) + b_9*conjugate(b_14)/(alpha*conjugate(alpha)) + 1.36111111111111/(alpha*conjugate(alpha)),                                                               b_10*conjugate(b_14)/(alpha*conjugate(alpha)) + b_18*conjugate(b_22)/(alpha*conjugate(alpha)) + b_26*conjugate(b_30)/(alpha*conjugate(alpha)) + b_34*conjugate(b_38)/(alpha*conjugate(alpha)) + 1.22222222222222/(alpha*conjugate(alpha)),                                                              b_11*conjugate(b_14)/(alpha*conjugate(alpha)) + b_19*conjugate(b_22)/(alpha*conjugate(alpha)) + b_27*conjugate(b_30)/(alpha*conjugate(alpha)) + b_35*conjugate(b_38)/(alpha*conjugate(alpha)) + 0.722222222222222/(alpha*conjugate(alpha)),                                                                                                                                                       b_12*conjugate(b_14)/(alpha*conjugate(alpha)) + b_20*conjugate(b_22)/(alpha*conjugate(alpha)) + b_28*conjugate(b_30)/(alpha*conjugate(alpha)) + b_36*conjugate(b_38)/(alpha*conjugate(alpha)) + 1.36111111111111/(alpha*conjugate(alpha)),                                                              b_13*conjugate(b_14)/(alpha*conjugate(alpha)) + b_21*conjugate(b_22)/(alpha*conjugate(alpha)) + b_29*conjugate(b_30)/(alpha*conjugate(alpha)) + b_37*conjugate(b_38)/(alpha*conjugate(alpha)) + 0.722222222222222/(alpha*conjugate(alpha)),                                                                                                                                                       b_14*conjugate(b_14)/(alpha*conjugate(alpha)) + b_22*conjugate(b_22)/(alpha*conjugate(alpha)) + b_30*conjugate(b_30)/(alpha*conjugate(alpha)) + b_38*conjugate(b_38)/(alpha*conjugate(alpha)) + 1.61111111111111/(alpha*conjugate(alpha)),                                   0.333333333333333*b_1/(alpha*conjugate(alpha)) + b_15*conjugate(b_14)/(alpha*conjugate(alpha)) + b_23*conjugate(b_22)/(alpha*conjugate(alpha)) + b_3/(alpha*conjugate(alpha)) + b_31*conjugate(b_30)/(alpha*conjugate(alpha)) + b_39*conjugate(b_38)/(alpha*conjugate(alpha)) + 0.5*b_5/(alpha*conjugate(alpha)) + 0.5*b_7/(alpha*conjugate(alpha)),                                   b_16*conjugate(b_14)/(alpha*conjugate(alpha)) + 0.333333333333333*b_2/(alpha*conjugate(alpha)) + b_24*conjugate(b_22)/(alpha*conjugate(alpha)) + b_32*conjugate(b_30)/(alpha*conjugate(alpha)) + b_4/(alpha*conjugate(alpha)) + b_40*conjugate(b_38)/(alpha*conjugate(alpha)) + 0.5*b_6/(alpha*conjugate(alpha)) + 0.5*b_8/(alpha*conjugate(alpha))],\n",
       "[b_17*conjugate(b_23)/(alpha*conjugate(alpha)) + b_25*conjugate(b_31)/(alpha*conjugate(alpha)) + b_33*conjugate(b_39)/(alpha*conjugate(alpha)) + b_9*conjugate(b_15)/(alpha*conjugate(alpha)) + 0.333333333333333*conjugate(b_1)/(alpha*conjugate(alpha)) + 0.5*conjugate(b_3)/(alpha*conjugate(alpha)) + 0.5*conjugate(b_5)/(alpha*conjugate(alpha)) + conjugate(b_7)/(alpha*conjugate(alpha)), b_10*conjugate(b_15)/(alpha*conjugate(alpha)) + b_18*conjugate(b_23)/(alpha*conjugate(alpha)) + b_26*conjugate(b_31)/(alpha*conjugate(alpha)) + b_34*conjugate(b_39)/(alpha*conjugate(alpha)) + 0.666666666666667*conjugate(b_1)/(alpha*conjugate(alpha)) + 1.0*conjugate(b_3)/(alpha*conjugate(alpha)), b_11*conjugate(b_15)/(alpha*conjugate(alpha)) + b_19*conjugate(b_23)/(alpha*conjugate(alpha)) + b_27*conjugate(b_31)/(alpha*conjugate(alpha)) + b_35*conjugate(b_39)/(alpha*conjugate(alpha)) + 0.666666666666667*conjugate(b_1)/(alpha*conjugate(alpha)) + 1.0*conjugate(b_5)/(alpha*conjugate(alpha)), b_12*conjugate(b_15)/(alpha*conjugate(alpha)) + b_20*conjugate(b_23)/(alpha*conjugate(alpha)) + b_28*conjugate(b_31)/(alpha*conjugate(alpha)) + b_36*conjugate(b_39)/(alpha*conjugate(alpha)) + 0.333333333333333*conjugate(b_1)/(alpha*conjugate(alpha)) + 0.5*conjugate(b_3)/(alpha*conjugate(alpha)) + conjugate(b_5)/(alpha*conjugate(alpha)) + 0.5*conjugate(b_7)/(alpha*conjugate(alpha)), b_13*conjugate(b_15)/(alpha*conjugate(alpha)) + b_21*conjugate(b_23)/(alpha*conjugate(alpha)) + b_29*conjugate(b_31)/(alpha*conjugate(alpha)) + b_37*conjugate(b_39)/(alpha*conjugate(alpha)) + 0.666666666666667*conjugate(b_1)/(alpha*conjugate(alpha)) + 1.0*conjugate(b_7)/(alpha*conjugate(alpha)), b_14*conjugate(b_15)/(alpha*conjugate(alpha)) + b_22*conjugate(b_23)/(alpha*conjugate(alpha)) + b_30*conjugate(b_31)/(alpha*conjugate(alpha)) + b_38*conjugate(b_39)/(alpha*conjugate(alpha)) + 0.333333333333333*conjugate(b_1)/(alpha*conjugate(alpha)) + conjugate(b_3)/(alpha*conjugate(alpha)) + 0.5*conjugate(b_5)/(alpha*conjugate(alpha)) + 0.5*conjugate(b_7)/(alpha*conjugate(alpha)), b_1*conjugate(b_1)/(alpha*conjugate(alpha)) + b_15*conjugate(b_15)/(alpha*conjugate(alpha)) + b_23*conjugate(b_23)/(alpha*conjugate(alpha)) + b_3*conjugate(b_3)/(alpha*conjugate(alpha)) + b_31*conjugate(b_31)/(alpha*conjugate(alpha)) + b_39*conjugate(b_39)/(alpha*conjugate(alpha)) + b_5*conjugate(b_5)/(alpha*conjugate(alpha)) + b_7*conjugate(b_7)/(alpha*conjugate(alpha)), b_16*conjugate(b_15)/(alpha*conjugate(alpha)) + b_2*conjugate(b_1)/(alpha*conjugate(alpha)) + b_24*conjugate(b_23)/(alpha*conjugate(alpha)) + b_32*conjugate(b_31)/(alpha*conjugate(alpha)) + b_4*conjugate(b_3)/(alpha*conjugate(alpha)) + b_40*conjugate(b_39)/(alpha*conjugate(alpha)) + b_6*conjugate(b_5)/(alpha*conjugate(alpha)) + b_8*conjugate(b_7)/(alpha*conjugate(alpha))],\n",
       "[b_17*conjugate(b_24)/(alpha*conjugate(alpha)) + b_25*conjugate(b_32)/(alpha*conjugate(alpha)) + b_33*conjugate(b_40)/(alpha*conjugate(alpha)) + b_9*conjugate(b_16)/(alpha*conjugate(alpha)) + 0.333333333333333*conjugate(b_2)/(alpha*conjugate(alpha)) + 0.5*conjugate(b_4)/(alpha*conjugate(alpha)) + 0.5*conjugate(b_6)/(alpha*conjugate(alpha)) + conjugate(b_8)/(alpha*conjugate(alpha)), b_10*conjugate(b_16)/(alpha*conjugate(alpha)) + b_18*conjugate(b_24)/(alpha*conjugate(alpha)) + b_26*conjugate(b_32)/(alpha*conjugate(alpha)) + b_34*conjugate(b_40)/(alpha*conjugate(alpha)) + 0.666666666666667*conjugate(b_2)/(alpha*conjugate(alpha)) + 1.0*conjugate(b_4)/(alpha*conjugate(alpha)), b_11*conjugate(b_16)/(alpha*conjugate(alpha)) + b_19*conjugate(b_24)/(alpha*conjugate(alpha)) + b_27*conjugate(b_32)/(alpha*conjugate(alpha)) + b_35*conjugate(b_40)/(alpha*conjugate(alpha)) + 0.666666666666667*conjugate(b_2)/(alpha*conjugate(alpha)) + 1.0*conjugate(b_6)/(alpha*conjugate(alpha)), b_12*conjugate(b_16)/(alpha*conjugate(alpha)) + b_20*conjugate(b_24)/(alpha*conjugate(alpha)) + b_28*conjugate(b_32)/(alpha*conjugate(alpha)) + b_36*conjugate(b_40)/(alpha*conjugate(alpha)) + 0.333333333333333*conjugate(b_2)/(alpha*conjugate(alpha)) + 0.5*conjugate(b_4)/(alpha*conjugate(alpha)) + conjugate(b_6)/(alpha*conjugate(alpha)) + 0.5*conjugate(b_8)/(alpha*conjugate(alpha)), b_13*conjugate(b_16)/(alpha*conjugate(alpha)) + b_21*conjugate(b_24)/(alpha*conjugate(alpha)) + b_29*conjugate(b_32)/(alpha*conjugate(alpha)) + b_37*conjugate(b_40)/(alpha*conjugate(alpha)) + 0.666666666666667*conjugate(b_2)/(alpha*conjugate(alpha)) + 1.0*conjugate(b_8)/(alpha*conjugate(alpha)), b_14*conjugate(b_16)/(alpha*conjugate(alpha)) + b_22*conjugate(b_24)/(alpha*conjugate(alpha)) + b_30*conjugate(b_32)/(alpha*conjugate(alpha)) + b_38*conjugate(b_40)/(alpha*conjugate(alpha)) + 0.333333333333333*conjugate(b_2)/(alpha*conjugate(alpha)) + conjugate(b_4)/(alpha*conjugate(alpha)) + 0.5*conjugate(b_6)/(alpha*conjugate(alpha)) + 0.5*conjugate(b_8)/(alpha*conjugate(alpha)), b_1*conjugate(b_2)/(alpha*conjugate(alpha)) + b_15*conjugate(b_16)/(alpha*conjugate(alpha)) + b_23*conjugate(b_24)/(alpha*conjugate(alpha)) + b_3*conjugate(b_4)/(alpha*conjugate(alpha)) + b_31*conjugate(b_32)/(alpha*conjugate(alpha)) + b_39*conjugate(b_40)/(alpha*conjugate(alpha)) + b_5*conjugate(b_6)/(alpha*conjugate(alpha)) + b_7*conjugate(b_8)/(alpha*conjugate(alpha)), b_16*conjugate(b_16)/(alpha*conjugate(alpha)) + b_2*conjugate(b_2)/(alpha*conjugate(alpha)) + b_24*conjugate(b_24)/(alpha*conjugate(alpha)) + b_32*conjugate(b_32)/(alpha*conjugate(alpha)) + b_4*conjugate(b_4)/(alpha*conjugate(alpha)) + b_40*conjugate(b_40)/(alpha*conjugate(alpha)) + b_6*conjugate(b_6)/(alpha*conjugate(alpha)) + b_8*conjugate(b_8)/(alpha*conjugate(alpha))]])"
      ]
     },
     "execution_count": 60,
     "metadata": {},
     "output_type": "execute_result"
    }
   ],
   "source": [
    "mul"
   ]
  },
  {
   "cell_type": "code",
   "execution_count": 61,
   "metadata": {},
   "outputs": [],
   "source": [
    "I = sympy.eye(8)"
   ]
  },
  {
   "cell_type": "code",
   "execution_count": 62,
   "metadata": {},
   "outputs": [
    {
     "data": {
      "text/latex": [
       "$\\displaystyle \\left[\\begin{matrix}-1 + \\frac{b_{17} \\overline{b_{17}}}{\\alpha \\overline{\\alpha}} + \\frac{b_{25} \\overline{b_{25}}}{\\alpha \\overline{\\alpha}} + \\frac{b_{33} \\overline{b_{33}}}{\\alpha \\overline{\\alpha}} + \\frac{b_{9} \\overline{b_{9}}}{\\alpha \\overline{\\alpha}} + \\frac{1.61111111111111}{\\alpha \\overline{\\alpha}} & \\frac{b_{10} \\overline{b_{9}}}{\\alpha \\overline{\\alpha}} + \\frac{b_{18} \\overline{b_{17}}}{\\alpha \\overline{\\alpha}} + \\frac{b_{26} \\overline{b_{25}}}{\\alpha \\overline{\\alpha}} + \\frac{b_{34} \\overline{b_{33}}}{\\alpha \\overline{\\alpha}} + \\frac{0.722222222222222}{\\alpha \\overline{\\alpha}} & \\frac{b_{11} \\overline{b_{9}}}{\\alpha \\overline{\\alpha}} + \\frac{b_{19} \\overline{b_{17}}}{\\alpha \\overline{\\alpha}} + \\frac{b_{27} \\overline{b_{25}}}{\\alpha \\overline{\\alpha}} + \\frac{b_{35} \\overline{b_{33}}}{\\alpha \\overline{\\alpha}} + \\frac{0.722222222222222}{\\alpha \\overline{\\alpha}} & \\frac{b_{12} \\overline{b_{9}}}{\\alpha \\overline{\\alpha}} + \\frac{b_{20} \\overline{b_{17}}}{\\alpha \\overline{\\alpha}} + \\frac{b_{28} \\overline{b_{25}}}{\\alpha \\overline{\\alpha}} + \\frac{b_{36} \\overline{b_{33}}}{\\alpha \\overline{\\alpha}} + \\frac{1.36111111111111}{\\alpha \\overline{\\alpha}} & \\frac{b_{13} \\overline{b_{9}}}{\\alpha \\overline{\\alpha}} + \\frac{b_{21} \\overline{b_{17}}}{\\alpha \\overline{\\alpha}} + \\frac{b_{29} \\overline{b_{25}}}{\\alpha \\overline{\\alpha}} + \\frac{b_{37} \\overline{b_{33}}}{\\alpha \\overline{\\alpha}} + \\frac{1.22222222222222}{\\alpha \\overline{\\alpha}} & \\frac{b_{14} \\overline{b_{9}}}{\\alpha \\overline{\\alpha}} + \\frac{b_{22} \\overline{b_{17}}}{\\alpha \\overline{\\alpha}} + \\frac{b_{30} \\overline{b_{25}}}{\\alpha \\overline{\\alpha}} + \\frac{b_{38} \\overline{b_{33}}}{\\alpha \\overline{\\alpha}} + \\frac{1.36111111111111}{\\alpha \\overline{\\alpha}} & \\frac{0.333333333333333 b_{1}}{\\alpha \\overline{\\alpha}} + \\frac{b_{15} \\overline{b_{9}}}{\\alpha \\overline{\\alpha}} + \\frac{b_{23} \\overline{b_{17}}}{\\alpha \\overline{\\alpha}} + \\frac{0.5 b_{3}}{\\alpha \\overline{\\alpha}} + \\frac{b_{31} \\overline{b_{25}}}{\\alpha \\overline{\\alpha}} + \\frac{b_{39} \\overline{b_{33}}}{\\alpha \\overline{\\alpha}} + \\frac{0.5 b_{5}}{\\alpha \\overline{\\alpha}} + \\frac{b_{7}}{\\alpha \\overline{\\alpha}} & \\frac{b_{16} \\overline{b_{9}}}{\\alpha \\overline{\\alpha}} + \\frac{0.333333333333333 b_{2}}{\\alpha \\overline{\\alpha}} + \\frac{b_{24} \\overline{b_{17}}}{\\alpha \\overline{\\alpha}} + \\frac{b_{32} \\overline{b_{25}}}{\\alpha \\overline{\\alpha}} + \\frac{0.5 b_{4}}{\\alpha \\overline{\\alpha}} + \\frac{b_{40} \\overline{b_{33}}}{\\alpha \\overline{\\alpha}} + \\frac{0.5 b_{6}}{\\alpha \\overline{\\alpha}} + \\frac{b_{8}}{\\alpha \\overline{\\alpha}}\\\\\\frac{b_{17} \\overline{b_{18}}}{\\alpha \\overline{\\alpha}} + \\frac{b_{25} \\overline{b_{26}}}{\\alpha \\overline{\\alpha}} + \\frac{b_{33} \\overline{b_{34}}}{\\alpha \\overline{\\alpha}} + \\frac{b_{9} \\overline{b_{10}}}{\\alpha \\overline{\\alpha}} + \\frac{0.722222222222222}{\\alpha \\overline{\\alpha}} & -1 + \\frac{b_{10} \\overline{b_{10}}}{\\alpha \\overline{\\alpha}} + \\frac{b_{18} \\overline{b_{18}}}{\\alpha \\overline{\\alpha}} + \\frac{b_{26} \\overline{b_{26}}}{\\alpha \\overline{\\alpha}} + \\frac{b_{34} \\overline{b_{34}}}{\\alpha \\overline{\\alpha}} + \\frac{1.44444444444444}{\\alpha \\overline{\\alpha}} & \\frac{b_{11} \\overline{b_{10}}}{\\alpha \\overline{\\alpha}} + \\frac{b_{19} \\overline{b_{18}}}{\\alpha \\overline{\\alpha}} + \\frac{b_{27} \\overline{b_{26}}}{\\alpha \\overline{\\alpha}} + \\frac{b_{35} \\overline{b_{34}}}{\\alpha \\overline{\\alpha}} + \\frac{0.444444444444444}{\\alpha \\overline{\\alpha}} & \\frac{b_{12} \\overline{b_{10}}}{\\alpha \\overline{\\alpha}} + \\frac{b_{20} \\overline{b_{18}}}{\\alpha \\overline{\\alpha}} + \\frac{b_{28} \\overline{b_{26}}}{\\alpha \\overline{\\alpha}} + \\frac{b_{36} \\overline{b_{34}}}{\\alpha \\overline{\\alpha}} + \\frac{0.722222222222222}{\\alpha \\overline{\\alpha}} & \\frac{b_{13} \\overline{b_{10}}}{\\alpha \\overline{\\alpha}} + \\frac{b_{21} \\overline{b_{18}}}{\\alpha \\overline{\\alpha}} + \\frac{b_{29} \\overline{b_{26}}}{\\alpha \\overline{\\alpha}} + \\frac{b_{37} \\overline{b_{34}}}{\\alpha \\overline{\\alpha}} + \\frac{0.444444444444444}{\\alpha \\overline{\\alpha}} & \\frac{b_{14} \\overline{b_{10}}}{\\alpha \\overline{\\alpha}} + \\frac{b_{22} \\overline{b_{18}}}{\\alpha \\overline{\\alpha}} + \\frac{b_{30} \\overline{b_{26}}}{\\alpha \\overline{\\alpha}} + \\frac{b_{38} \\overline{b_{34}}}{\\alpha \\overline{\\alpha}} + \\frac{1.22222222222222}{\\alpha \\overline{\\alpha}} & \\frac{0.666666666666667 b_{1}}{\\alpha \\overline{\\alpha}} + \\frac{b_{15} \\overline{b_{10}}}{\\alpha \\overline{\\alpha}} + \\frac{b_{23} \\overline{b_{18}}}{\\alpha \\overline{\\alpha}} + \\frac{1.0 b_{3}}{\\alpha \\overline{\\alpha}} + \\frac{b_{31} \\overline{b_{26}}}{\\alpha \\overline{\\alpha}} + \\frac{b_{39} \\overline{b_{34}}}{\\alpha \\overline{\\alpha}} & \\frac{b_{16} \\overline{b_{10}}}{\\alpha \\overline{\\alpha}} + \\frac{0.666666666666667 b_{2}}{\\alpha \\overline{\\alpha}} + \\frac{b_{24} \\overline{b_{18}}}{\\alpha \\overline{\\alpha}} + \\frac{b_{32} \\overline{b_{26}}}{\\alpha \\overline{\\alpha}} + \\frac{1.0 b_{4}}{\\alpha \\overline{\\alpha}} + \\frac{b_{40} \\overline{b_{34}}}{\\alpha \\overline{\\alpha}}\\\\\\frac{b_{17} \\overline{b_{19}}}{\\alpha \\overline{\\alpha}} + \\frac{b_{25} \\overline{b_{27}}}{\\alpha \\overline{\\alpha}} + \\frac{b_{33} \\overline{b_{35}}}{\\alpha \\overline{\\alpha}} + \\frac{b_{9} \\overline{b_{11}}}{\\alpha \\overline{\\alpha}} + \\frac{0.722222222222222}{\\alpha \\overline{\\alpha}} & \\frac{b_{10} \\overline{b_{11}}}{\\alpha \\overline{\\alpha}} + \\frac{b_{18} \\overline{b_{19}}}{\\alpha \\overline{\\alpha}} + \\frac{b_{26} \\overline{b_{27}}}{\\alpha \\overline{\\alpha}} + \\frac{b_{34} \\overline{b_{35}}}{\\alpha \\overline{\\alpha}} + \\frac{0.444444444444444}{\\alpha \\overline{\\alpha}} & -1 + \\frac{b_{11} \\overline{b_{11}}}{\\alpha \\overline{\\alpha}} + \\frac{b_{19} \\overline{b_{19}}}{\\alpha \\overline{\\alpha}} + \\frac{b_{27} \\overline{b_{27}}}{\\alpha \\overline{\\alpha}} + \\frac{b_{35} \\overline{b_{35}}}{\\alpha \\overline{\\alpha}} + \\frac{1.44444444444444}{\\alpha \\overline{\\alpha}} & \\frac{b_{12} \\overline{b_{11}}}{\\alpha \\overline{\\alpha}} + \\frac{b_{20} \\overline{b_{19}}}{\\alpha \\overline{\\alpha}} + \\frac{b_{28} \\overline{b_{27}}}{\\alpha \\overline{\\alpha}} + \\frac{b_{36} \\overline{b_{35}}}{\\alpha \\overline{\\alpha}} + \\frac{1.22222222222222}{\\alpha \\overline{\\alpha}} & \\frac{b_{13} \\overline{b_{11}}}{\\alpha \\overline{\\alpha}} + \\frac{b_{21} \\overline{b_{19}}}{\\alpha \\overline{\\alpha}} + \\frac{b_{29} \\overline{b_{27}}}{\\alpha \\overline{\\alpha}} + \\frac{b_{37} \\overline{b_{35}}}{\\alpha \\overline{\\alpha}} + \\frac{0.444444444444444}{\\alpha \\overline{\\alpha}} & \\frac{b_{14} \\overline{b_{11}}}{\\alpha \\overline{\\alpha}} + \\frac{b_{22} \\overline{b_{19}}}{\\alpha \\overline{\\alpha}} + \\frac{b_{30} \\overline{b_{27}}}{\\alpha \\overline{\\alpha}} + \\frac{b_{38} \\overline{b_{35}}}{\\alpha \\overline{\\alpha}} + \\frac{0.722222222222222}{\\alpha \\overline{\\alpha}} & \\frac{0.666666666666667 b_{1}}{\\alpha \\overline{\\alpha}} + \\frac{b_{15} \\overline{b_{11}}}{\\alpha \\overline{\\alpha}} + \\frac{b_{23} \\overline{b_{19}}}{\\alpha \\overline{\\alpha}} + \\frac{b_{31} \\overline{b_{27}}}{\\alpha \\overline{\\alpha}} + \\frac{b_{39} \\overline{b_{35}}}{\\alpha \\overline{\\alpha}} + \\frac{1.0 b_{5}}{\\alpha \\overline{\\alpha}} & \\frac{b_{16} \\overline{b_{11}}}{\\alpha \\overline{\\alpha}} + \\frac{0.666666666666667 b_{2}}{\\alpha \\overline{\\alpha}} + \\frac{b_{24} \\overline{b_{19}}}{\\alpha \\overline{\\alpha}} + \\frac{b_{32} \\overline{b_{27}}}{\\alpha \\overline{\\alpha}} + \\frac{b_{40} \\overline{b_{35}}}{\\alpha \\overline{\\alpha}} + \\frac{1.0 b_{6}}{\\alpha \\overline{\\alpha}}\\\\\\frac{b_{17} \\overline{b_{20}}}{\\alpha \\overline{\\alpha}} + \\frac{b_{25} \\overline{b_{28}}}{\\alpha \\overline{\\alpha}} + \\frac{b_{33} \\overline{b_{36}}}{\\alpha \\overline{\\alpha}} + \\frac{b_{9} \\overline{b_{12}}}{\\alpha \\overline{\\alpha}} + \\frac{1.36111111111111}{\\alpha \\overline{\\alpha}} & \\frac{b_{10} \\overline{b_{12}}}{\\alpha \\overline{\\alpha}} + \\frac{b_{18} \\overline{b_{20}}}{\\alpha \\overline{\\alpha}} + \\frac{b_{26} \\overline{b_{28}}}{\\alpha \\overline{\\alpha}} + \\frac{b_{34} \\overline{b_{36}}}{\\alpha \\overline{\\alpha}} + \\frac{0.722222222222222}{\\alpha \\overline{\\alpha}} & \\frac{b_{11} \\overline{b_{12}}}{\\alpha \\overline{\\alpha}} + \\frac{b_{19} \\overline{b_{20}}}{\\alpha \\overline{\\alpha}} + \\frac{b_{27} \\overline{b_{28}}}{\\alpha \\overline{\\alpha}} + \\frac{b_{35} \\overline{b_{36}}}{\\alpha \\overline{\\alpha}} + \\frac{1.22222222222222}{\\alpha \\overline{\\alpha}} & -1 + \\frac{b_{12} \\overline{b_{12}}}{\\alpha \\overline{\\alpha}} + \\frac{b_{20} \\overline{b_{20}}}{\\alpha \\overline{\\alpha}} + \\frac{b_{28} \\overline{b_{28}}}{\\alpha \\overline{\\alpha}} + \\frac{b_{36} \\overline{b_{36}}}{\\alpha \\overline{\\alpha}} + \\frac{1.61111111111111}{\\alpha \\overline{\\alpha}} & \\frac{b_{13} \\overline{b_{12}}}{\\alpha \\overline{\\alpha}} + \\frac{b_{21} \\overline{b_{20}}}{\\alpha \\overline{\\alpha}} + \\frac{b_{29} \\overline{b_{28}}}{\\alpha \\overline{\\alpha}} + \\frac{b_{37} \\overline{b_{36}}}{\\alpha \\overline{\\alpha}} + \\frac{0.722222222222222}{\\alpha \\overline{\\alpha}} & \\frac{b_{14} \\overline{b_{12}}}{\\alpha \\overline{\\alpha}} + \\frac{b_{22} \\overline{b_{20}}}{\\alpha \\overline{\\alpha}} + \\frac{b_{30} \\overline{b_{28}}}{\\alpha \\overline{\\alpha}} + \\frac{b_{38} \\overline{b_{36}}}{\\alpha \\overline{\\alpha}} + \\frac{1.36111111111111}{\\alpha \\overline{\\alpha}} & \\frac{0.333333333333333 b_{1}}{\\alpha \\overline{\\alpha}} + \\frac{b_{15} \\overline{b_{12}}}{\\alpha \\overline{\\alpha}} + \\frac{b_{23} \\overline{b_{20}}}{\\alpha \\overline{\\alpha}} + \\frac{0.5 b_{3}}{\\alpha \\overline{\\alpha}} + \\frac{b_{31} \\overline{b_{28}}}{\\alpha \\overline{\\alpha}} + \\frac{b_{39} \\overline{b_{36}}}{\\alpha \\overline{\\alpha}} + \\frac{b_{5}}{\\alpha \\overline{\\alpha}} + \\frac{0.5 b_{7}}{\\alpha \\overline{\\alpha}} & \\frac{b_{16} \\overline{b_{12}}}{\\alpha \\overline{\\alpha}} + \\frac{0.333333333333333 b_{2}}{\\alpha \\overline{\\alpha}} + \\frac{b_{24} \\overline{b_{20}}}{\\alpha \\overline{\\alpha}} + \\frac{b_{32} \\overline{b_{28}}}{\\alpha \\overline{\\alpha}} + \\frac{0.5 b_{4}}{\\alpha \\overline{\\alpha}} + \\frac{b_{40} \\overline{b_{36}}}{\\alpha \\overline{\\alpha}} + \\frac{b_{6}}{\\alpha \\overline{\\alpha}} + \\frac{0.5 b_{8}}{\\alpha \\overline{\\alpha}}\\\\\\frac{b_{17} \\overline{b_{21}}}{\\alpha \\overline{\\alpha}} + \\frac{b_{25} \\overline{b_{29}}}{\\alpha \\overline{\\alpha}} + \\frac{b_{33} \\overline{b_{37}}}{\\alpha \\overline{\\alpha}} + \\frac{b_{9} \\overline{b_{13}}}{\\alpha \\overline{\\alpha}} + \\frac{1.22222222222222}{\\alpha \\overline{\\alpha}} & \\frac{b_{10} \\overline{b_{13}}}{\\alpha \\overline{\\alpha}} + \\frac{b_{18} \\overline{b_{21}}}{\\alpha \\overline{\\alpha}} + \\frac{b_{26} \\overline{b_{29}}}{\\alpha \\overline{\\alpha}} + \\frac{b_{34} \\overline{b_{37}}}{\\alpha \\overline{\\alpha}} + \\frac{0.444444444444444}{\\alpha \\overline{\\alpha}} & \\frac{b_{11} \\overline{b_{13}}}{\\alpha \\overline{\\alpha}} + \\frac{b_{19} \\overline{b_{21}}}{\\alpha \\overline{\\alpha}} + \\frac{b_{27} \\overline{b_{29}}}{\\alpha \\overline{\\alpha}} + \\frac{b_{35} \\overline{b_{37}}}{\\alpha \\overline{\\alpha}} + \\frac{0.444444444444444}{\\alpha \\overline{\\alpha}} & \\frac{b_{12} \\overline{b_{13}}}{\\alpha \\overline{\\alpha}} + \\frac{b_{20} \\overline{b_{21}}}{\\alpha \\overline{\\alpha}} + \\frac{b_{28} \\overline{b_{29}}}{\\alpha \\overline{\\alpha}} + \\frac{b_{36} \\overline{b_{37}}}{\\alpha \\overline{\\alpha}} + \\frac{0.722222222222222}{\\alpha \\overline{\\alpha}} & -1 + \\frac{b_{13} \\overline{b_{13}}}{\\alpha \\overline{\\alpha}} + \\frac{b_{21} \\overline{b_{21}}}{\\alpha \\overline{\\alpha}} + \\frac{b_{29} \\overline{b_{29}}}{\\alpha \\overline{\\alpha}} + \\frac{b_{37} \\overline{b_{37}}}{\\alpha \\overline{\\alpha}} + \\frac{1.44444444444444}{\\alpha \\overline{\\alpha}} & \\frac{b_{14} \\overline{b_{13}}}{\\alpha \\overline{\\alpha}} + \\frac{b_{22} \\overline{b_{21}}}{\\alpha \\overline{\\alpha}} + \\frac{b_{30} \\overline{b_{29}}}{\\alpha \\overline{\\alpha}} + \\frac{b_{38} \\overline{b_{37}}}{\\alpha \\overline{\\alpha}} + \\frac{0.722222222222222}{\\alpha \\overline{\\alpha}} & \\frac{0.666666666666667 b_{1}}{\\alpha \\overline{\\alpha}} + \\frac{b_{15} \\overline{b_{13}}}{\\alpha \\overline{\\alpha}} + \\frac{b_{23} \\overline{b_{21}}}{\\alpha \\overline{\\alpha}} + \\frac{b_{31} \\overline{b_{29}}}{\\alpha \\overline{\\alpha}} + \\frac{b_{39} \\overline{b_{37}}}{\\alpha \\overline{\\alpha}} + \\frac{1.0 b_{7}}{\\alpha \\overline{\\alpha}} & \\frac{b_{16} \\overline{b_{13}}}{\\alpha \\overline{\\alpha}} + \\frac{0.666666666666667 b_{2}}{\\alpha \\overline{\\alpha}} + \\frac{b_{24} \\overline{b_{21}}}{\\alpha \\overline{\\alpha}} + \\frac{b_{32} \\overline{b_{29}}}{\\alpha \\overline{\\alpha}} + \\frac{b_{40} \\overline{b_{37}}}{\\alpha \\overline{\\alpha}} + \\frac{1.0 b_{8}}{\\alpha \\overline{\\alpha}}\\\\\\frac{b_{17} \\overline{b_{22}}}{\\alpha \\overline{\\alpha}} + \\frac{b_{25} \\overline{b_{30}}}{\\alpha \\overline{\\alpha}} + \\frac{b_{33} \\overline{b_{38}}}{\\alpha \\overline{\\alpha}} + \\frac{b_{9} \\overline{b_{14}}}{\\alpha \\overline{\\alpha}} + \\frac{1.36111111111111}{\\alpha \\overline{\\alpha}} & \\frac{b_{10} \\overline{b_{14}}}{\\alpha \\overline{\\alpha}} + \\frac{b_{18} \\overline{b_{22}}}{\\alpha \\overline{\\alpha}} + \\frac{b_{26} \\overline{b_{30}}}{\\alpha \\overline{\\alpha}} + \\frac{b_{34} \\overline{b_{38}}}{\\alpha \\overline{\\alpha}} + \\frac{1.22222222222222}{\\alpha \\overline{\\alpha}} & \\frac{b_{11} \\overline{b_{14}}}{\\alpha \\overline{\\alpha}} + \\frac{b_{19} \\overline{b_{22}}}{\\alpha \\overline{\\alpha}} + \\frac{b_{27} \\overline{b_{30}}}{\\alpha \\overline{\\alpha}} + \\frac{b_{35} \\overline{b_{38}}}{\\alpha \\overline{\\alpha}} + \\frac{0.722222222222222}{\\alpha \\overline{\\alpha}} & \\frac{b_{12} \\overline{b_{14}}}{\\alpha \\overline{\\alpha}} + \\frac{b_{20} \\overline{b_{22}}}{\\alpha \\overline{\\alpha}} + \\frac{b_{28} \\overline{b_{30}}}{\\alpha \\overline{\\alpha}} + \\frac{b_{36} \\overline{b_{38}}}{\\alpha \\overline{\\alpha}} + \\frac{1.36111111111111}{\\alpha \\overline{\\alpha}} & \\frac{b_{13} \\overline{b_{14}}}{\\alpha \\overline{\\alpha}} + \\frac{b_{21} \\overline{b_{22}}}{\\alpha \\overline{\\alpha}} + \\frac{b_{29} \\overline{b_{30}}}{\\alpha \\overline{\\alpha}} + \\frac{b_{37} \\overline{b_{38}}}{\\alpha \\overline{\\alpha}} + \\frac{0.722222222222222}{\\alpha \\overline{\\alpha}} & -1 + \\frac{b_{14} \\overline{b_{14}}}{\\alpha \\overline{\\alpha}} + \\frac{b_{22} \\overline{b_{22}}}{\\alpha \\overline{\\alpha}} + \\frac{b_{30} \\overline{b_{30}}}{\\alpha \\overline{\\alpha}} + \\frac{b_{38} \\overline{b_{38}}}{\\alpha \\overline{\\alpha}} + \\frac{1.61111111111111}{\\alpha \\overline{\\alpha}} & \\frac{0.333333333333333 b_{1}}{\\alpha \\overline{\\alpha}} + \\frac{b_{15} \\overline{b_{14}}}{\\alpha \\overline{\\alpha}} + \\frac{b_{23} \\overline{b_{22}}}{\\alpha \\overline{\\alpha}} + \\frac{b_{3}}{\\alpha \\overline{\\alpha}} + \\frac{b_{31} \\overline{b_{30}}}{\\alpha \\overline{\\alpha}} + \\frac{b_{39} \\overline{b_{38}}}{\\alpha \\overline{\\alpha}} + \\frac{0.5 b_{5}}{\\alpha \\overline{\\alpha}} + \\frac{0.5 b_{7}}{\\alpha \\overline{\\alpha}} & \\frac{b_{16} \\overline{b_{14}}}{\\alpha \\overline{\\alpha}} + \\frac{0.333333333333333 b_{2}}{\\alpha \\overline{\\alpha}} + \\frac{b_{24} \\overline{b_{22}}}{\\alpha \\overline{\\alpha}} + \\frac{b_{32} \\overline{b_{30}}}{\\alpha \\overline{\\alpha}} + \\frac{b_{4}}{\\alpha \\overline{\\alpha}} + \\frac{b_{40} \\overline{b_{38}}}{\\alpha \\overline{\\alpha}} + \\frac{0.5 b_{6}}{\\alpha \\overline{\\alpha}} + \\frac{0.5 b_{8}}{\\alpha \\overline{\\alpha}}\\\\\\frac{b_{17} \\overline{b_{23}}}{\\alpha \\overline{\\alpha}} + \\frac{b_{25} \\overline{b_{31}}}{\\alpha \\overline{\\alpha}} + \\frac{b_{33} \\overline{b_{39}}}{\\alpha \\overline{\\alpha}} + \\frac{b_{9} \\overline{b_{15}}}{\\alpha \\overline{\\alpha}} + \\frac{0.333333333333333 \\overline{b_{1}}}{\\alpha \\overline{\\alpha}} + \\frac{0.5 \\overline{b_{3}}}{\\alpha \\overline{\\alpha}} + \\frac{0.5 \\overline{b_{5}}}{\\alpha \\overline{\\alpha}} + \\frac{\\overline{b_{7}}}{\\alpha \\overline{\\alpha}} & \\frac{b_{10} \\overline{b_{15}}}{\\alpha \\overline{\\alpha}} + \\frac{b_{18} \\overline{b_{23}}}{\\alpha \\overline{\\alpha}} + \\frac{b_{26} \\overline{b_{31}}}{\\alpha \\overline{\\alpha}} + \\frac{b_{34} \\overline{b_{39}}}{\\alpha \\overline{\\alpha}} + \\frac{0.666666666666667 \\overline{b_{1}}}{\\alpha \\overline{\\alpha}} + \\frac{1.0 \\overline{b_{3}}}{\\alpha \\overline{\\alpha}} & \\frac{b_{11} \\overline{b_{15}}}{\\alpha \\overline{\\alpha}} + \\frac{b_{19} \\overline{b_{23}}}{\\alpha \\overline{\\alpha}} + \\frac{b_{27} \\overline{b_{31}}}{\\alpha \\overline{\\alpha}} + \\frac{b_{35} \\overline{b_{39}}}{\\alpha \\overline{\\alpha}} + \\frac{0.666666666666667 \\overline{b_{1}}}{\\alpha \\overline{\\alpha}} + \\frac{1.0 \\overline{b_{5}}}{\\alpha \\overline{\\alpha}} & \\frac{b_{12} \\overline{b_{15}}}{\\alpha \\overline{\\alpha}} + \\frac{b_{20} \\overline{b_{23}}}{\\alpha \\overline{\\alpha}} + \\frac{b_{28} \\overline{b_{31}}}{\\alpha \\overline{\\alpha}} + \\frac{b_{36} \\overline{b_{39}}}{\\alpha \\overline{\\alpha}} + \\frac{0.333333333333333 \\overline{b_{1}}}{\\alpha \\overline{\\alpha}} + \\frac{0.5 \\overline{b_{3}}}{\\alpha \\overline{\\alpha}} + \\frac{\\overline{b_{5}}}{\\alpha \\overline{\\alpha}} + \\frac{0.5 \\overline{b_{7}}}{\\alpha \\overline{\\alpha}} & \\frac{b_{13} \\overline{b_{15}}}{\\alpha \\overline{\\alpha}} + \\frac{b_{21} \\overline{b_{23}}}{\\alpha \\overline{\\alpha}} + \\frac{b_{29} \\overline{b_{31}}}{\\alpha \\overline{\\alpha}} + \\frac{b_{37} \\overline{b_{39}}}{\\alpha \\overline{\\alpha}} + \\frac{0.666666666666667 \\overline{b_{1}}}{\\alpha \\overline{\\alpha}} + \\frac{1.0 \\overline{b_{7}}}{\\alpha \\overline{\\alpha}} & \\frac{b_{14} \\overline{b_{15}}}{\\alpha \\overline{\\alpha}} + \\frac{b_{22} \\overline{b_{23}}}{\\alpha \\overline{\\alpha}} + \\frac{b_{30} \\overline{b_{31}}}{\\alpha \\overline{\\alpha}} + \\frac{b_{38} \\overline{b_{39}}}{\\alpha \\overline{\\alpha}} + \\frac{0.333333333333333 \\overline{b_{1}}}{\\alpha \\overline{\\alpha}} + \\frac{\\overline{b_{3}}}{\\alpha \\overline{\\alpha}} + \\frac{0.5 \\overline{b_{5}}}{\\alpha \\overline{\\alpha}} + \\frac{0.5 \\overline{b_{7}}}{\\alpha \\overline{\\alpha}} & -1 + \\frac{b_{1} \\overline{b_{1}}}{\\alpha \\overline{\\alpha}} + \\frac{b_{15} \\overline{b_{15}}}{\\alpha \\overline{\\alpha}} + \\frac{b_{23} \\overline{b_{23}}}{\\alpha \\overline{\\alpha}} + \\frac{b_{3} \\overline{b_{3}}}{\\alpha \\overline{\\alpha}} + \\frac{b_{31} \\overline{b_{31}}}{\\alpha \\overline{\\alpha}} + \\frac{b_{39} \\overline{b_{39}}}{\\alpha \\overline{\\alpha}} + \\frac{b_{5} \\overline{b_{5}}}{\\alpha \\overline{\\alpha}} + \\frac{b_{7} \\overline{b_{7}}}{\\alpha \\overline{\\alpha}} & \\frac{b_{16} \\overline{b_{15}}}{\\alpha \\overline{\\alpha}} + \\frac{b_{2} \\overline{b_{1}}}{\\alpha \\overline{\\alpha}} + \\frac{b_{24} \\overline{b_{23}}}{\\alpha \\overline{\\alpha}} + \\frac{b_{32} \\overline{b_{31}}}{\\alpha \\overline{\\alpha}} + \\frac{b_{4} \\overline{b_{3}}}{\\alpha \\overline{\\alpha}} + \\frac{b_{40} \\overline{b_{39}}}{\\alpha \\overline{\\alpha}} + \\frac{b_{6} \\overline{b_{5}}}{\\alpha \\overline{\\alpha}} + \\frac{b_{8} \\overline{b_{7}}}{\\alpha \\overline{\\alpha}}\\\\\\frac{b_{17} \\overline{b_{24}}}{\\alpha \\overline{\\alpha}} + \\frac{b_{25} \\overline{b_{32}}}{\\alpha \\overline{\\alpha}} + \\frac{b_{33} \\overline{b_{40}}}{\\alpha \\overline{\\alpha}} + \\frac{b_{9} \\overline{b_{16}}}{\\alpha \\overline{\\alpha}} + \\frac{0.333333333333333 \\overline{b_{2}}}{\\alpha \\overline{\\alpha}} + \\frac{0.5 \\overline{b_{4}}}{\\alpha \\overline{\\alpha}} + \\frac{0.5 \\overline{b_{6}}}{\\alpha \\overline{\\alpha}} + \\frac{\\overline{b_{8}}}{\\alpha \\overline{\\alpha}} & \\frac{b_{10} \\overline{b_{16}}}{\\alpha \\overline{\\alpha}} + \\frac{b_{18} \\overline{b_{24}}}{\\alpha \\overline{\\alpha}} + \\frac{b_{26} \\overline{b_{32}}}{\\alpha \\overline{\\alpha}} + \\frac{b_{34} \\overline{b_{40}}}{\\alpha \\overline{\\alpha}} + \\frac{0.666666666666667 \\overline{b_{2}}}{\\alpha \\overline{\\alpha}} + \\frac{1.0 \\overline{b_{4}}}{\\alpha \\overline{\\alpha}} & \\frac{b_{11} \\overline{b_{16}}}{\\alpha \\overline{\\alpha}} + \\frac{b_{19} \\overline{b_{24}}}{\\alpha \\overline{\\alpha}} + \\frac{b_{27} \\overline{b_{32}}}{\\alpha \\overline{\\alpha}} + \\frac{b_{35} \\overline{b_{40}}}{\\alpha \\overline{\\alpha}} + \\frac{0.666666666666667 \\overline{b_{2}}}{\\alpha \\overline{\\alpha}} + \\frac{1.0 \\overline{b_{6}}}{\\alpha \\overline{\\alpha}} & \\frac{b_{12} \\overline{b_{16}}}{\\alpha \\overline{\\alpha}} + \\frac{b_{20} \\overline{b_{24}}}{\\alpha \\overline{\\alpha}} + \\frac{b_{28} \\overline{b_{32}}}{\\alpha \\overline{\\alpha}} + \\frac{b_{36} \\overline{b_{40}}}{\\alpha \\overline{\\alpha}} + \\frac{0.333333333333333 \\overline{b_{2}}}{\\alpha \\overline{\\alpha}} + \\frac{0.5 \\overline{b_{4}}}{\\alpha \\overline{\\alpha}} + \\frac{\\overline{b_{6}}}{\\alpha \\overline{\\alpha}} + \\frac{0.5 \\overline{b_{8}}}{\\alpha \\overline{\\alpha}} & \\frac{b_{13} \\overline{b_{16}}}{\\alpha \\overline{\\alpha}} + \\frac{b_{21} \\overline{b_{24}}}{\\alpha \\overline{\\alpha}} + \\frac{b_{29} \\overline{b_{32}}}{\\alpha \\overline{\\alpha}} + \\frac{b_{37} \\overline{b_{40}}}{\\alpha \\overline{\\alpha}} + \\frac{0.666666666666667 \\overline{b_{2}}}{\\alpha \\overline{\\alpha}} + \\frac{1.0 \\overline{b_{8}}}{\\alpha \\overline{\\alpha}} & \\frac{b_{14} \\overline{b_{16}}}{\\alpha \\overline{\\alpha}} + \\frac{b_{22} \\overline{b_{24}}}{\\alpha \\overline{\\alpha}} + \\frac{b_{30} \\overline{b_{32}}}{\\alpha \\overline{\\alpha}} + \\frac{b_{38} \\overline{b_{40}}}{\\alpha \\overline{\\alpha}} + \\frac{0.333333333333333 \\overline{b_{2}}}{\\alpha \\overline{\\alpha}} + \\frac{\\overline{b_{4}}}{\\alpha \\overline{\\alpha}} + \\frac{0.5 \\overline{b_{6}}}{\\alpha \\overline{\\alpha}} + \\frac{0.5 \\overline{b_{8}}}{\\alpha \\overline{\\alpha}} & \\frac{b_{1} \\overline{b_{2}}}{\\alpha \\overline{\\alpha}} + \\frac{b_{15} \\overline{b_{16}}}{\\alpha \\overline{\\alpha}} + \\frac{b_{23} \\overline{b_{24}}}{\\alpha \\overline{\\alpha}} + \\frac{b_{3} \\overline{b_{4}}}{\\alpha \\overline{\\alpha}} + \\frac{b_{31} \\overline{b_{32}}}{\\alpha \\overline{\\alpha}} + \\frac{b_{39} \\overline{b_{40}}}{\\alpha \\overline{\\alpha}} + \\frac{b_{5} \\overline{b_{6}}}{\\alpha \\overline{\\alpha}} + \\frac{b_{7} \\overline{b_{8}}}{\\alpha \\overline{\\alpha}} & -1 + \\frac{b_{16} \\overline{b_{16}}}{\\alpha \\overline{\\alpha}} + \\frac{b_{2} \\overline{b_{2}}}{\\alpha \\overline{\\alpha}} + \\frac{b_{24} \\overline{b_{24}}}{\\alpha \\overline{\\alpha}} + \\frac{b_{32} \\overline{b_{32}}}{\\alpha \\overline{\\alpha}} + \\frac{b_{4} \\overline{b_{4}}}{\\alpha \\overline{\\alpha}} + \\frac{b_{40} \\overline{b_{40}}}{\\alpha \\overline{\\alpha}} + \\frac{b_{6} \\overline{b_{6}}}{\\alpha \\overline{\\alpha}} + \\frac{b_{8} \\overline{b_{8}}}{\\alpha \\overline{\\alpha}}\\end{matrix}\\right]$"
      ],
      "text/plain": [
       "Matrix([\n",
       "[                                                                                                                                                  -1 + b_17*conjugate(b_17)/(alpha*conjugate(alpha)) + b_25*conjugate(b_25)/(alpha*conjugate(alpha)) + b_33*conjugate(b_33)/(alpha*conjugate(alpha)) + b_9*conjugate(b_9)/(alpha*conjugate(alpha)) + 1.61111111111111/(alpha*conjugate(alpha)),                                                               b_10*conjugate(b_9)/(alpha*conjugate(alpha)) + b_18*conjugate(b_17)/(alpha*conjugate(alpha)) + b_26*conjugate(b_25)/(alpha*conjugate(alpha)) + b_34*conjugate(b_33)/(alpha*conjugate(alpha)) + 0.722222222222222/(alpha*conjugate(alpha)),                                                               b_11*conjugate(b_9)/(alpha*conjugate(alpha)) + b_19*conjugate(b_17)/(alpha*conjugate(alpha)) + b_27*conjugate(b_25)/(alpha*conjugate(alpha)) + b_35*conjugate(b_33)/(alpha*conjugate(alpha)) + 0.722222222222222/(alpha*conjugate(alpha)),                                                                                                                                                        b_12*conjugate(b_9)/(alpha*conjugate(alpha)) + b_20*conjugate(b_17)/(alpha*conjugate(alpha)) + b_28*conjugate(b_25)/(alpha*conjugate(alpha)) + b_36*conjugate(b_33)/(alpha*conjugate(alpha)) + 1.36111111111111/(alpha*conjugate(alpha)),                                                                b_13*conjugate(b_9)/(alpha*conjugate(alpha)) + b_21*conjugate(b_17)/(alpha*conjugate(alpha)) + b_29*conjugate(b_25)/(alpha*conjugate(alpha)) + b_37*conjugate(b_33)/(alpha*conjugate(alpha)) + 1.22222222222222/(alpha*conjugate(alpha)),                                                                                                                                                        b_14*conjugate(b_9)/(alpha*conjugate(alpha)) + b_22*conjugate(b_17)/(alpha*conjugate(alpha)) + b_30*conjugate(b_25)/(alpha*conjugate(alpha)) + b_38*conjugate(b_33)/(alpha*conjugate(alpha)) + 1.36111111111111/(alpha*conjugate(alpha)),                                         0.333333333333333*b_1/(alpha*conjugate(alpha)) + b_15*conjugate(b_9)/(alpha*conjugate(alpha)) + b_23*conjugate(b_17)/(alpha*conjugate(alpha)) + 0.5*b_3/(alpha*conjugate(alpha)) + b_31*conjugate(b_25)/(alpha*conjugate(alpha)) + b_39*conjugate(b_33)/(alpha*conjugate(alpha)) + 0.5*b_5/(alpha*conjugate(alpha)) + b_7/(alpha*conjugate(alpha)),                                         b_16*conjugate(b_9)/(alpha*conjugate(alpha)) + 0.333333333333333*b_2/(alpha*conjugate(alpha)) + b_24*conjugate(b_17)/(alpha*conjugate(alpha)) + b_32*conjugate(b_25)/(alpha*conjugate(alpha)) + 0.5*b_4/(alpha*conjugate(alpha)) + b_40*conjugate(b_33)/(alpha*conjugate(alpha)) + 0.5*b_6/(alpha*conjugate(alpha)) + b_8/(alpha*conjugate(alpha))],\n",
       "[                                                                                                                                                     b_17*conjugate(b_18)/(alpha*conjugate(alpha)) + b_25*conjugate(b_26)/(alpha*conjugate(alpha)) + b_33*conjugate(b_34)/(alpha*conjugate(alpha)) + b_9*conjugate(b_10)/(alpha*conjugate(alpha)) + 0.722222222222222/(alpha*conjugate(alpha)),                                                          -1 + b_10*conjugate(b_10)/(alpha*conjugate(alpha)) + b_18*conjugate(b_18)/(alpha*conjugate(alpha)) + b_26*conjugate(b_26)/(alpha*conjugate(alpha)) + b_34*conjugate(b_34)/(alpha*conjugate(alpha)) + 1.44444444444444/(alpha*conjugate(alpha)),                                                              b_11*conjugate(b_10)/(alpha*conjugate(alpha)) + b_19*conjugate(b_18)/(alpha*conjugate(alpha)) + b_27*conjugate(b_26)/(alpha*conjugate(alpha)) + b_35*conjugate(b_34)/(alpha*conjugate(alpha)) + 0.444444444444444/(alpha*conjugate(alpha)),                                                                                                                                                      b_12*conjugate(b_10)/(alpha*conjugate(alpha)) + b_20*conjugate(b_18)/(alpha*conjugate(alpha)) + b_28*conjugate(b_26)/(alpha*conjugate(alpha)) + b_36*conjugate(b_34)/(alpha*conjugate(alpha)) + 0.722222222222222/(alpha*conjugate(alpha)),                                                              b_13*conjugate(b_10)/(alpha*conjugate(alpha)) + b_21*conjugate(b_18)/(alpha*conjugate(alpha)) + b_29*conjugate(b_26)/(alpha*conjugate(alpha)) + b_37*conjugate(b_34)/(alpha*conjugate(alpha)) + 0.444444444444444/(alpha*conjugate(alpha)),                                                                                                                                                       b_14*conjugate(b_10)/(alpha*conjugate(alpha)) + b_22*conjugate(b_18)/(alpha*conjugate(alpha)) + b_30*conjugate(b_26)/(alpha*conjugate(alpha)) + b_38*conjugate(b_34)/(alpha*conjugate(alpha)) + 1.22222222222222/(alpha*conjugate(alpha)),                                                                                                          0.666666666666667*b_1/(alpha*conjugate(alpha)) + b_15*conjugate(b_10)/(alpha*conjugate(alpha)) + b_23*conjugate(b_18)/(alpha*conjugate(alpha)) + 1.0*b_3/(alpha*conjugate(alpha)) + b_31*conjugate(b_26)/(alpha*conjugate(alpha)) + b_39*conjugate(b_34)/(alpha*conjugate(alpha)),                                                                                                          b_16*conjugate(b_10)/(alpha*conjugate(alpha)) + 0.666666666666667*b_2/(alpha*conjugate(alpha)) + b_24*conjugate(b_18)/(alpha*conjugate(alpha)) + b_32*conjugate(b_26)/(alpha*conjugate(alpha)) + 1.0*b_4/(alpha*conjugate(alpha)) + b_40*conjugate(b_34)/(alpha*conjugate(alpha))],\n",
       "[                                                                                                                                                     b_17*conjugate(b_19)/(alpha*conjugate(alpha)) + b_25*conjugate(b_27)/(alpha*conjugate(alpha)) + b_33*conjugate(b_35)/(alpha*conjugate(alpha)) + b_9*conjugate(b_11)/(alpha*conjugate(alpha)) + 0.722222222222222/(alpha*conjugate(alpha)),                                                              b_10*conjugate(b_11)/(alpha*conjugate(alpha)) + b_18*conjugate(b_19)/(alpha*conjugate(alpha)) + b_26*conjugate(b_27)/(alpha*conjugate(alpha)) + b_34*conjugate(b_35)/(alpha*conjugate(alpha)) + 0.444444444444444/(alpha*conjugate(alpha)),                                                          -1 + b_11*conjugate(b_11)/(alpha*conjugate(alpha)) + b_19*conjugate(b_19)/(alpha*conjugate(alpha)) + b_27*conjugate(b_27)/(alpha*conjugate(alpha)) + b_35*conjugate(b_35)/(alpha*conjugate(alpha)) + 1.44444444444444/(alpha*conjugate(alpha)),                                                                                                                                                       b_12*conjugate(b_11)/(alpha*conjugate(alpha)) + b_20*conjugate(b_19)/(alpha*conjugate(alpha)) + b_28*conjugate(b_27)/(alpha*conjugate(alpha)) + b_36*conjugate(b_35)/(alpha*conjugate(alpha)) + 1.22222222222222/(alpha*conjugate(alpha)),                                                              b_13*conjugate(b_11)/(alpha*conjugate(alpha)) + b_21*conjugate(b_19)/(alpha*conjugate(alpha)) + b_29*conjugate(b_27)/(alpha*conjugate(alpha)) + b_37*conjugate(b_35)/(alpha*conjugate(alpha)) + 0.444444444444444/(alpha*conjugate(alpha)),                                                                                                                                                      b_14*conjugate(b_11)/(alpha*conjugate(alpha)) + b_22*conjugate(b_19)/(alpha*conjugate(alpha)) + b_30*conjugate(b_27)/(alpha*conjugate(alpha)) + b_38*conjugate(b_35)/(alpha*conjugate(alpha)) + 0.722222222222222/(alpha*conjugate(alpha)),                                                                                                          0.666666666666667*b_1/(alpha*conjugate(alpha)) + b_15*conjugate(b_11)/(alpha*conjugate(alpha)) + b_23*conjugate(b_19)/(alpha*conjugate(alpha)) + b_31*conjugate(b_27)/(alpha*conjugate(alpha)) + b_39*conjugate(b_35)/(alpha*conjugate(alpha)) + 1.0*b_5/(alpha*conjugate(alpha)),                                                                                                          b_16*conjugate(b_11)/(alpha*conjugate(alpha)) + 0.666666666666667*b_2/(alpha*conjugate(alpha)) + b_24*conjugate(b_19)/(alpha*conjugate(alpha)) + b_32*conjugate(b_27)/(alpha*conjugate(alpha)) + b_40*conjugate(b_35)/(alpha*conjugate(alpha)) + 1.0*b_6/(alpha*conjugate(alpha))],\n",
       "[                                                                                                                                                      b_17*conjugate(b_20)/(alpha*conjugate(alpha)) + b_25*conjugate(b_28)/(alpha*conjugate(alpha)) + b_33*conjugate(b_36)/(alpha*conjugate(alpha)) + b_9*conjugate(b_12)/(alpha*conjugate(alpha)) + 1.36111111111111/(alpha*conjugate(alpha)),                                                              b_10*conjugate(b_12)/(alpha*conjugate(alpha)) + b_18*conjugate(b_20)/(alpha*conjugate(alpha)) + b_26*conjugate(b_28)/(alpha*conjugate(alpha)) + b_34*conjugate(b_36)/(alpha*conjugate(alpha)) + 0.722222222222222/(alpha*conjugate(alpha)),                                                               b_11*conjugate(b_12)/(alpha*conjugate(alpha)) + b_19*conjugate(b_20)/(alpha*conjugate(alpha)) + b_27*conjugate(b_28)/(alpha*conjugate(alpha)) + b_35*conjugate(b_36)/(alpha*conjugate(alpha)) + 1.22222222222222/(alpha*conjugate(alpha)),                                                                                                                                                  -1 + b_12*conjugate(b_12)/(alpha*conjugate(alpha)) + b_20*conjugate(b_20)/(alpha*conjugate(alpha)) + b_28*conjugate(b_28)/(alpha*conjugate(alpha)) + b_36*conjugate(b_36)/(alpha*conjugate(alpha)) + 1.61111111111111/(alpha*conjugate(alpha)),                                                              b_13*conjugate(b_12)/(alpha*conjugate(alpha)) + b_21*conjugate(b_20)/(alpha*conjugate(alpha)) + b_29*conjugate(b_28)/(alpha*conjugate(alpha)) + b_37*conjugate(b_36)/(alpha*conjugate(alpha)) + 0.722222222222222/(alpha*conjugate(alpha)),                                                                                                                                                       b_14*conjugate(b_12)/(alpha*conjugate(alpha)) + b_22*conjugate(b_20)/(alpha*conjugate(alpha)) + b_30*conjugate(b_28)/(alpha*conjugate(alpha)) + b_38*conjugate(b_36)/(alpha*conjugate(alpha)) + 1.36111111111111/(alpha*conjugate(alpha)),                                        0.333333333333333*b_1/(alpha*conjugate(alpha)) + b_15*conjugate(b_12)/(alpha*conjugate(alpha)) + b_23*conjugate(b_20)/(alpha*conjugate(alpha)) + 0.5*b_3/(alpha*conjugate(alpha)) + b_31*conjugate(b_28)/(alpha*conjugate(alpha)) + b_39*conjugate(b_36)/(alpha*conjugate(alpha)) + b_5/(alpha*conjugate(alpha)) + 0.5*b_7/(alpha*conjugate(alpha)),                                        b_16*conjugate(b_12)/(alpha*conjugate(alpha)) + 0.333333333333333*b_2/(alpha*conjugate(alpha)) + b_24*conjugate(b_20)/(alpha*conjugate(alpha)) + b_32*conjugate(b_28)/(alpha*conjugate(alpha)) + 0.5*b_4/(alpha*conjugate(alpha)) + b_40*conjugate(b_36)/(alpha*conjugate(alpha)) + b_6/(alpha*conjugate(alpha)) + 0.5*b_8/(alpha*conjugate(alpha))],\n",
       "[                                                                                                                                                      b_17*conjugate(b_21)/(alpha*conjugate(alpha)) + b_25*conjugate(b_29)/(alpha*conjugate(alpha)) + b_33*conjugate(b_37)/(alpha*conjugate(alpha)) + b_9*conjugate(b_13)/(alpha*conjugate(alpha)) + 1.22222222222222/(alpha*conjugate(alpha)),                                                              b_10*conjugate(b_13)/(alpha*conjugate(alpha)) + b_18*conjugate(b_21)/(alpha*conjugate(alpha)) + b_26*conjugate(b_29)/(alpha*conjugate(alpha)) + b_34*conjugate(b_37)/(alpha*conjugate(alpha)) + 0.444444444444444/(alpha*conjugate(alpha)),                                                              b_11*conjugate(b_13)/(alpha*conjugate(alpha)) + b_19*conjugate(b_21)/(alpha*conjugate(alpha)) + b_27*conjugate(b_29)/(alpha*conjugate(alpha)) + b_35*conjugate(b_37)/(alpha*conjugate(alpha)) + 0.444444444444444/(alpha*conjugate(alpha)),                                                                                                                                                      b_12*conjugate(b_13)/(alpha*conjugate(alpha)) + b_20*conjugate(b_21)/(alpha*conjugate(alpha)) + b_28*conjugate(b_29)/(alpha*conjugate(alpha)) + b_36*conjugate(b_37)/(alpha*conjugate(alpha)) + 0.722222222222222/(alpha*conjugate(alpha)),                                                          -1 + b_13*conjugate(b_13)/(alpha*conjugate(alpha)) + b_21*conjugate(b_21)/(alpha*conjugate(alpha)) + b_29*conjugate(b_29)/(alpha*conjugate(alpha)) + b_37*conjugate(b_37)/(alpha*conjugate(alpha)) + 1.44444444444444/(alpha*conjugate(alpha)),                                                                                                                                                      b_14*conjugate(b_13)/(alpha*conjugate(alpha)) + b_22*conjugate(b_21)/(alpha*conjugate(alpha)) + b_30*conjugate(b_29)/(alpha*conjugate(alpha)) + b_38*conjugate(b_37)/(alpha*conjugate(alpha)) + 0.722222222222222/(alpha*conjugate(alpha)),                                                                                                          0.666666666666667*b_1/(alpha*conjugate(alpha)) + b_15*conjugate(b_13)/(alpha*conjugate(alpha)) + b_23*conjugate(b_21)/(alpha*conjugate(alpha)) + b_31*conjugate(b_29)/(alpha*conjugate(alpha)) + b_39*conjugate(b_37)/(alpha*conjugate(alpha)) + 1.0*b_7/(alpha*conjugate(alpha)),                                                                                                          b_16*conjugate(b_13)/(alpha*conjugate(alpha)) + 0.666666666666667*b_2/(alpha*conjugate(alpha)) + b_24*conjugate(b_21)/(alpha*conjugate(alpha)) + b_32*conjugate(b_29)/(alpha*conjugate(alpha)) + b_40*conjugate(b_37)/(alpha*conjugate(alpha)) + 1.0*b_8/(alpha*conjugate(alpha))],\n",
       "[                                                                                                                                                      b_17*conjugate(b_22)/(alpha*conjugate(alpha)) + b_25*conjugate(b_30)/(alpha*conjugate(alpha)) + b_33*conjugate(b_38)/(alpha*conjugate(alpha)) + b_9*conjugate(b_14)/(alpha*conjugate(alpha)) + 1.36111111111111/(alpha*conjugate(alpha)),                                                               b_10*conjugate(b_14)/(alpha*conjugate(alpha)) + b_18*conjugate(b_22)/(alpha*conjugate(alpha)) + b_26*conjugate(b_30)/(alpha*conjugate(alpha)) + b_34*conjugate(b_38)/(alpha*conjugate(alpha)) + 1.22222222222222/(alpha*conjugate(alpha)),                                                              b_11*conjugate(b_14)/(alpha*conjugate(alpha)) + b_19*conjugate(b_22)/(alpha*conjugate(alpha)) + b_27*conjugate(b_30)/(alpha*conjugate(alpha)) + b_35*conjugate(b_38)/(alpha*conjugate(alpha)) + 0.722222222222222/(alpha*conjugate(alpha)),                                                                                                                                                       b_12*conjugate(b_14)/(alpha*conjugate(alpha)) + b_20*conjugate(b_22)/(alpha*conjugate(alpha)) + b_28*conjugate(b_30)/(alpha*conjugate(alpha)) + b_36*conjugate(b_38)/(alpha*conjugate(alpha)) + 1.36111111111111/(alpha*conjugate(alpha)),                                                              b_13*conjugate(b_14)/(alpha*conjugate(alpha)) + b_21*conjugate(b_22)/(alpha*conjugate(alpha)) + b_29*conjugate(b_30)/(alpha*conjugate(alpha)) + b_37*conjugate(b_38)/(alpha*conjugate(alpha)) + 0.722222222222222/(alpha*conjugate(alpha)),                                                                                                                                                  -1 + b_14*conjugate(b_14)/(alpha*conjugate(alpha)) + b_22*conjugate(b_22)/(alpha*conjugate(alpha)) + b_30*conjugate(b_30)/(alpha*conjugate(alpha)) + b_38*conjugate(b_38)/(alpha*conjugate(alpha)) + 1.61111111111111/(alpha*conjugate(alpha)),                                        0.333333333333333*b_1/(alpha*conjugate(alpha)) + b_15*conjugate(b_14)/(alpha*conjugate(alpha)) + b_23*conjugate(b_22)/(alpha*conjugate(alpha)) + b_3/(alpha*conjugate(alpha)) + b_31*conjugate(b_30)/(alpha*conjugate(alpha)) + b_39*conjugate(b_38)/(alpha*conjugate(alpha)) + 0.5*b_5/(alpha*conjugate(alpha)) + 0.5*b_7/(alpha*conjugate(alpha)),                                        b_16*conjugate(b_14)/(alpha*conjugate(alpha)) + 0.333333333333333*b_2/(alpha*conjugate(alpha)) + b_24*conjugate(b_22)/(alpha*conjugate(alpha)) + b_32*conjugate(b_30)/(alpha*conjugate(alpha)) + b_4/(alpha*conjugate(alpha)) + b_40*conjugate(b_38)/(alpha*conjugate(alpha)) + 0.5*b_6/(alpha*conjugate(alpha)) + 0.5*b_8/(alpha*conjugate(alpha))],\n",
       "[b_17*conjugate(b_23)/(alpha*conjugate(alpha)) + b_25*conjugate(b_31)/(alpha*conjugate(alpha)) + b_33*conjugate(b_39)/(alpha*conjugate(alpha)) + b_9*conjugate(b_15)/(alpha*conjugate(alpha)) + 0.333333333333333*conjugate(b_1)/(alpha*conjugate(alpha)) + 0.5*conjugate(b_3)/(alpha*conjugate(alpha)) + 0.5*conjugate(b_5)/(alpha*conjugate(alpha)) + conjugate(b_7)/(alpha*conjugate(alpha)), b_10*conjugate(b_15)/(alpha*conjugate(alpha)) + b_18*conjugate(b_23)/(alpha*conjugate(alpha)) + b_26*conjugate(b_31)/(alpha*conjugate(alpha)) + b_34*conjugate(b_39)/(alpha*conjugate(alpha)) + 0.666666666666667*conjugate(b_1)/(alpha*conjugate(alpha)) + 1.0*conjugate(b_3)/(alpha*conjugate(alpha)), b_11*conjugate(b_15)/(alpha*conjugate(alpha)) + b_19*conjugate(b_23)/(alpha*conjugate(alpha)) + b_27*conjugate(b_31)/(alpha*conjugate(alpha)) + b_35*conjugate(b_39)/(alpha*conjugate(alpha)) + 0.666666666666667*conjugate(b_1)/(alpha*conjugate(alpha)) + 1.0*conjugate(b_5)/(alpha*conjugate(alpha)), b_12*conjugate(b_15)/(alpha*conjugate(alpha)) + b_20*conjugate(b_23)/(alpha*conjugate(alpha)) + b_28*conjugate(b_31)/(alpha*conjugate(alpha)) + b_36*conjugate(b_39)/(alpha*conjugate(alpha)) + 0.333333333333333*conjugate(b_1)/(alpha*conjugate(alpha)) + 0.5*conjugate(b_3)/(alpha*conjugate(alpha)) + conjugate(b_5)/(alpha*conjugate(alpha)) + 0.5*conjugate(b_7)/(alpha*conjugate(alpha)), b_13*conjugate(b_15)/(alpha*conjugate(alpha)) + b_21*conjugate(b_23)/(alpha*conjugate(alpha)) + b_29*conjugate(b_31)/(alpha*conjugate(alpha)) + b_37*conjugate(b_39)/(alpha*conjugate(alpha)) + 0.666666666666667*conjugate(b_1)/(alpha*conjugate(alpha)) + 1.0*conjugate(b_7)/(alpha*conjugate(alpha)), b_14*conjugate(b_15)/(alpha*conjugate(alpha)) + b_22*conjugate(b_23)/(alpha*conjugate(alpha)) + b_30*conjugate(b_31)/(alpha*conjugate(alpha)) + b_38*conjugate(b_39)/(alpha*conjugate(alpha)) + 0.333333333333333*conjugate(b_1)/(alpha*conjugate(alpha)) + conjugate(b_3)/(alpha*conjugate(alpha)) + 0.5*conjugate(b_5)/(alpha*conjugate(alpha)) + 0.5*conjugate(b_7)/(alpha*conjugate(alpha)), -1 + b_1*conjugate(b_1)/(alpha*conjugate(alpha)) + b_15*conjugate(b_15)/(alpha*conjugate(alpha)) + b_23*conjugate(b_23)/(alpha*conjugate(alpha)) + b_3*conjugate(b_3)/(alpha*conjugate(alpha)) + b_31*conjugate(b_31)/(alpha*conjugate(alpha)) + b_39*conjugate(b_39)/(alpha*conjugate(alpha)) + b_5*conjugate(b_5)/(alpha*conjugate(alpha)) + b_7*conjugate(b_7)/(alpha*conjugate(alpha)),      b_16*conjugate(b_15)/(alpha*conjugate(alpha)) + b_2*conjugate(b_1)/(alpha*conjugate(alpha)) + b_24*conjugate(b_23)/(alpha*conjugate(alpha)) + b_32*conjugate(b_31)/(alpha*conjugate(alpha)) + b_4*conjugate(b_3)/(alpha*conjugate(alpha)) + b_40*conjugate(b_39)/(alpha*conjugate(alpha)) + b_6*conjugate(b_5)/(alpha*conjugate(alpha)) + b_8*conjugate(b_7)/(alpha*conjugate(alpha))],\n",
       "[b_17*conjugate(b_24)/(alpha*conjugate(alpha)) + b_25*conjugate(b_32)/(alpha*conjugate(alpha)) + b_33*conjugate(b_40)/(alpha*conjugate(alpha)) + b_9*conjugate(b_16)/(alpha*conjugate(alpha)) + 0.333333333333333*conjugate(b_2)/(alpha*conjugate(alpha)) + 0.5*conjugate(b_4)/(alpha*conjugate(alpha)) + 0.5*conjugate(b_6)/(alpha*conjugate(alpha)) + conjugate(b_8)/(alpha*conjugate(alpha)), b_10*conjugate(b_16)/(alpha*conjugate(alpha)) + b_18*conjugate(b_24)/(alpha*conjugate(alpha)) + b_26*conjugate(b_32)/(alpha*conjugate(alpha)) + b_34*conjugate(b_40)/(alpha*conjugate(alpha)) + 0.666666666666667*conjugate(b_2)/(alpha*conjugate(alpha)) + 1.0*conjugate(b_4)/(alpha*conjugate(alpha)), b_11*conjugate(b_16)/(alpha*conjugate(alpha)) + b_19*conjugate(b_24)/(alpha*conjugate(alpha)) + b_27*conjugate(b_32)/(alpha*conjugate(alpha)) + b_35*conjugate(b_40)/(alpha*conjugate(alpha)) + 0.666666666666667*conjugate(b_2)/(alpha*conjugate(alpha)) + 1.0*conjugate(b_6)/(alpha*conjugate(alpha)), b_12*conjugate(b_16)/(alpha*conjugate(alpha)) + b_20*conjugate(b_24)/(alpha*conjugate(alpha)) + b_28*conjugate(b_32)/(alpha*conjugate(alpha)) + b_36*conjugate(b_40)/(alpha*conjugate(alpha)) + 0.333333333333333*conjugate(b_2)/(alpha*conjugate(alpha)) + 0.5*conjugate(b_4)/(alpha*conjugate(alpha)) + conjugate(b_6)/(alpha*conjugate(alpha)) + 0.5*conjugate(b_8)/(alpha*conjugate(alpha)), b_13*conjugate(b_16)/(alpha*conjugate(alpha)) + b_21*conjugate(b_24)/(alpha*conjugate(alpha)) + b_29*conjugate(b_32)/(alpha*conjugate(alpha)) + b_37*conjugate(b_40)/(alpha*conjugate(alpha)) + 0.666666666666667*conjugate(b_2)/(alpha*conjugate(alpha)) + 1.0*conjugate(b_8)/(alpha*conjugate(alpha)), b_14*conjugate(b_16)/(alpha*conjugate(alpha)) + b_22*conjugate(b_24)/(alpha*conjugate(alpha)) + b_30*conjugate(b_32)/(alpha*conjugate(alpha)) + b_38*conjugate(b_40)/(alpha*conjugate(alpha)) + 0.333333333333333*conjugate(b_2)/(alpha*conjugate(alpha)) + conjugate(b_4)/(alpha*conjugate(alpha)) + 0.5*conjugate(b_6)/(alpha*conjugate(alpha)) + 0.5*conjugate(b_8)/(alpha*conjugate(alpha)),      b_1*conjugate(b_2)/(alpha*conjugate(alpha)) + b_15*conjugate(b_16)/(alpha*conjugate(alpha)) + b_23*conjugate(b_24)/(alpha*conjugate(alpha)) + b_3*conjugate(b_4)/(alpha*conjugate(alpha)) + b_31*conjugate(b_32)/(alpha*conjugate(alpha)) + b_39*conjugate(b_40)/(alpha*conjugate(alpha)) + b_5*conjugate(b_6)/(alpha*conjugate(alpha)) + b_7*conjugate(b_8)/(alpha*conjugate(alpha)), -1 + b_16*conjugate(b_16)/(alpha*conjugate(alpha)) + b_2*conjugate(b_2)/(alpha*conjugate(alpha)) + b_24*conjugate(b_24)/(alpha*conjugate(alpha)) + b_32*conjugate(b_32)/(alpha*conjugate(alpha)) + b_4*conjugate(b_4)/(alpha*conjugate(alpha)) + b_40*conjugate(b_40)/(alpha*conjugate(alpha)) + b_6*conjugate(b_6)/(alpha*conjugate(alpha)) + b_8*conjugate(b_8)/(alpha*conjugate(alpha))]])"
      ]
     },
     "execution_count": 62,
     "metadata": {},
     "output_type": "execute_result"
    }
   ],
   "source": [
    "mul - I"
   ]
  },
  {
   "cell_type": "code",
   "execution_count": null,
   "metadata": {},
   "outputs": [],
   "source": [
    "ans = solve(mul - I, dict=True)"
   ]
  },
  {
   "cell_type": "code",
   "execution_count": null,
   "metadata": {},
   "outputs": [],
   "source": [
    "ans"
   ]
  },
  {
   "cell_type": "code",
   "execution_count": null,
   "metadata": {},
   "outputs": [],
   "source": []
  }
 ],
 "metadata": {
  "kernelspec": {
   "display_name": "Python 3 (ipykernel)",
   "language": "python",
   "name": "python3"
  },
  "language_info": {
   "codemirror_mode": {
    "name": "ipython",
    "version": 3
   },
   "file_extension": ".py",
   "mimetype": "text/x-python",
   "name": "python",
   "nbconvert_exporter": "python",
   "pygments_lexer": "ipython3",
   "version": "3.9.6"
  }
 },
 "nbformat": 4,
 "nbformat_minor": 4
}
