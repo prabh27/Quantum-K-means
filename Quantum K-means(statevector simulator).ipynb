{
 "cells": [
  {
   "cell_type": "code",
   "execution_count": 177,
   "id": "7d4a280f",
   "metadata": {},
   "outputs": [],
   "source": [
    "import networkx as nx\n",
    "from sklearn.cluster import KMeans\n",
    "import numpy as np\n",
    "import matplotlib.pyplot as plt\n",
    "import matplotlib\n",
    "from qc_grader.graph_util import display_maxcut_widget, QAOA_widget, graphs\n",
    "from qiskit import QuantumCircuit\n",
    "from qiskit.circuit import Parameter, ParameterVector\n",
    "from qiskit_optimization import QuadraticProgram\n",
    "from typing import List\n",
    "import plotly.graph_objects as go\n",
    "import matplotlib as mpl\n",
    "import pandas as pd\n",
    "from IPython.display import clear_output\n",
    "from plotly.subplots import make_subplots\n",
    "from matplotlib import pyplot as plt\n",
    "from qiskit import Aer\n",
    "from qiskit import QuantumCircuit\n",
    "from qiskit.visualization import plot_state_city\n",
    "from qiskit.algorithms.optimizers import COBYLA, SLSQP, ADAM\n",
    "from qiskit.algorithms import QAOA\n",
    "from qiskit_optimization.algorithms import MinimumEigenOptimizer\n",
    "from time import time\n",
    "from copy import copy\n",
    "from qc_grader.graph_util import display_maxcut_widget, QAOA_widget, graphs\n",
    "import math\n",
    "from qiskit.visualization import plot_histogram\n",
    "import operator\n",
    "\n",
    "\n",
    "matplotlib.rcParams['figure.dpi'] = 100"
   ]
  },
  {
   "cell_type": "code",
   "execution_count": 148,
   "id": "a7b7e9c6",
   "metadata": {},
   "outputs": [
    {
     "data": {
      "text/plain": [
       "<matplotlib.collections.PathCollection at 0x7ff94ae95fd0>"
      ]
     },
     "execution_count": 148,
     "metadata": {},
     "output_type": "execute_result"
    },
    {
     "data": {
      "image/png": "[encoded data removed]",
      "text/plain": [
       "<Figure size 600x400 with 1 Axes>"
      ]
     },
     "metadata": {
      "needs_background": "light"
     },
     "output_type": "display_data"
    }
   ],
   "source": [
    "X = np.array([[1, 2], [1, 4], [1, 0],\n",
    "            [10, 2], [10, 4], [10, 0]])\n",
    "plt.scatter(X[:,0], X[:,1])"
   ]
  },
  {
   "cell_type": "code",
   "execution_count": 149,
   "id": "b19d0681",
   "metadata": {},
   "outputs": [],
   "source": [
    "### Each point has an id\n",
    "def get_points_dict(X):\n",
    "    points = {}\n",
    "    i = 0\n",
    "    for p in X:\n",
    "        points[i] = p\n",
    "        i += 1\n",
    "    num_points = i - 1\n",
    "    return points"
   ]
  },
  {
   "cell_type": "code",
   "execution_count": 150,
   "id": "9af5f580",
   "metadata": {},
   "outputs": [],
   "source": [
    "points = get_points_dict(X)"
   ]
  },
  {
   "cell_type": "markdown",
   "id": "ec97a158",
   "metadata": {},
   "source": [
    "### Classical K-means"
   ]
  },
  {
   "cell_type": "code",
   "execution_count": 151,
   "id": "e889c9bf",
   "metadata": {},
   "outputs": [
    {
     "data": {
      "text/plain": [
       "array([1, 1, 1, 0, 0, 0], dtype=int32)"
      ]
     },
     "execution_count": 151,
     "metadata": {},
     "output_type": "execute_result"
    }
   ],
   "source": [
    "kmeans = KMeans(n_clusters=2, random_state=0).fit(X)\n",
    "kmeans.labels_"
   ]
  },
  {
   "cell_type": "code",
   "execution_count": 152,
   "id": "42be03d5",
   "metadata": {},
   "outputs": [],
   "source": [
    "y_pred = KMeans(n_clusters=2, random_state=0).fit_predict(X)"
   ]
  },
  {
   "cell_type": "code",
   "execution_count": 153,
   "id": "f4c2d2a7",
   "metadata": {},
   "outputs": [
    {
     "data": {
      "text/plain": [
       "Text(0.5, 1.0, 'Classical Prediction')"
      ]
     },
     "execution_count": 153,
     "metadata": {},
     "output_type": "execute_result"
    },
    {
     "data": {
      "image/png": "[encoded data removed]",
      "text/plain": [
       "<Figure size 600x400 with 1 Axes>"
      ]
     },
     "metadata": {
      "needs_background": "light"
     },
     "output_type": "display_data"
    }
   ],
   "source": [
    "plt.subplot(221)\n",
    "plt.scatter(X[:, 0], X[:, 1], c=y_pred)\n",
    "plt.title(\"Classical Prediction\")"
   ]
  },
  {
   "cell_type": "markdown",
   "id": "3a3df2e3",
   "metadata": {},
   "source": [
    "### Quantum K-means"
   ]
  },
  {
   "cell_type": "markdown",
   "id": "dec0fc2b",
   "metadata": {},
   "source": [
    "#### Generate a graph from the points in the array\n",
    "\n",
    "Each vertex representing a point on x-y plane and weights between the vertices is the distance between them"
   ]
  },
  {
   "cell_type": "code",
   "execution_count": 154,
   "id": "0368b73f",
   "metadata": {},
   "outputs": [],
   "source": [
    "def graph_from_points(points):\n",
    "    num_points = len(points)\n",
    "    G = nx.Graph()\n",
    "    edges = []\n",
    "    for i in range(num_points):\n",
    "        G.add_node(i, pos=tuple(points[i]))\n",
    "        for j in range(num_points):\n",
    "            if i == j: \n",
    "                continue\n",
    "            edges.append((i, j, np.linalg.norm(points[i] - points[j])))\n",
    "\n",
    "    G.add_weighted_edges_from(edges)\n",
    "    return G"
   ]
  },
  {
   "cell_type": "code",
   "execution_count": 155,
   "id": "562e9b28",
   "metadata": {},
   "outputs": [],
   "source": [
    "G = graph_from_points(points)"
   ]
  },
  {
   "cell_type": "code",
   "execution_count": 156,
   "id": "cec4b8f5",
   "metadata": {},
   "outputs": [],
   "source": [
    "pos=nx.get_node_attributes(G,'pos')\n",
    "labels = nx.get_edge_attributes(G,'weight')"
   ]
  },
  {
   "cell_type": "code",
   "execution_count": 157,
   "id": "f2d1893d",
   "metadata": {},
   "outputs": [
    {
     "data": {
      "image/png": "[encoded data removed]",
      "text/plain": [
       "<Figure size 600x400 with 1 Axes>"
      ]
     },
     "metadata": {},
     "output_type": "display_data"
    }
   ],
   "source": [
    "nx.draw(G,pos)"
   ]
  },
  {
   "cell_type": "code",
   "execution_count": 158,
   "id": "b0d55b90",
   "metadata": {},
   "outputs": [],
   "source": [
    "# nx.draw_networkx_edge_labels(G, pos, edge_labels=labels)"
   ]
  },
  {
   "cell_type": "code",
   "execution_count": 159,
   "id": "3a5a3cb6",
   "metadata": {},
   "outputs": [],
   "source": [
    "def maxcut_cost_fn(graph: nx.Graph, bitstring: List[int]) -> float:\n",
    "    \"\"\"\n",
    "    Computes the maxcut cost function value for a given graph and cut represented by some bitstring\n",
    "    Args:\n",
    "        graph: The graph to compute cut values for\n",
    "        bitstring: A list of integer values '0' or '1' specifying a cut of the graph\n",
    "    Returns:\n",
    "        The value of the cut\n",
    "    \"\"\"\n",
    "    #Get the weight matrix of the graph\n",
    "    weight_matrix = nx.adjacency_matrix(graph).toarray()\n",
    "    size = weight_matrix.shape[0]\n",
    "    value = 0.\n",
    "\n",
    "    #INSERT YOUR CODE TO COMPUTE THE CUT VALUE HERE\n",
    "    set_zero = []\n",
    "    set_one = []\n",
    "    for i, bit_value in enumerate(bitstring):\n",
    "        if (bit_value == 0):\n",
    "            set_zero.append(i)\n",
    "        else:\n",
    "            set_one.append(i)\n",
    "    for i in set_zero:\n",
    "        for j in set_one:\n",
    "            value += weight_matrix[i, j]\n",
    "    return value\n",
    "\n",
    "def plot_maxcut_histogram(graph: nx.Graph) -> None:\n",
    "    \"\"\"\n",
    "    Plots a bar diagram with the values for all possible cuts of a given graph.\n",
    "    Args:\n",
    "        graph: The graph to compute cut values for\n",
    "    \"\"\"\n",
    "    num_vars = graph.number_of_nodes()\n",
    "    #Create list of bitstrings and corresponding cut values\n",
    "    bitstrings = ['{:b}'.format(i).rjust(num_vars, '0')[::-1] for i in range(2**num_vars)]\n",
    "    values = [maxcut_cost_fn(graph = graph, bitstring = [int(x) for x in bitstring]) for bitstring in bitstrings]\n",
    "    #Sort both lists by largest cut value\n",
    "    values, bitstrings = zip(*sorted(zip(values, bitstrings)))\n",
    "    #Plot bar diagram\n",
    "    bar_plot = go.Bar(x = bitstrings, y = values, marker=dict(color=values, colorscale = 'plasma', colorbar=dict(title='Cut Value')))\n",
    "    fig = go.Figure(data=bar_plot, layout = dict(xaxis=dict(type = 'category'), width = 1500, height = 600))\n",
    "    fig.show()"
   ]
  },
  {
   "cell_type": "code",
   "execution_count": 160,
   "id": "4fa347d9",
   "metadata": {},
   "outputs": [
    {
     "data": {
      "application/vnd.plotly.v1+json": {
       "config": {
        "plotlyServerURL": "https://plot.ly"
       },
       "data": [
        {
         "marker": {
          "color": [
           0,
           0,
           31.439088914585774,
           31.439088914585774,
           31.439088914585774,
           31.439088914585774,
           34.06840225908899,
           34.06840225908899,
           34.06840225908899,
           34.06840225908899,
           34.06840225908899,
           34.06840225908899,
           34.06840225908899,
           34.06840225908899,
           44.87817782917155,
           44.87817782917155,
           47.068402259088984,
           47.068402259088984,
           47.068402259088984,
           47.068402259088984,
           47.068402259088984,
           47.06840225908899,
           47.06840225908899,
           47.06840225908899,
           48.439088914585774,
           48.439088914585774,
           48.439088914585774,
           48.439088914585774,
           50.13680451817798,
           50.13680451817798,
           50.13680451817798,
           50.13680451817798,
           54.6977156035922,
           54.69771560359221,
           56.507491173674765,
           56.507491173674765,
           56.507491173674765,
           56.507491173674765,
           56.507491173674765,
           56.507491173674765,
           56.507491173674765,
           56.507491173674765,
           57.43908891458577,
           57.43908891458577,
           57.439088914585774,
           57.439088914585774,
           59.13680451817798,
           59.13680451817798,
           59.13680451817798,
           59.13680451817798,
           60.13680451817798,
           60.13680451817798,
           60.13680451817798,
           60.13680451817798,
           61.507491173674765,
           61.507491173674765,
           61.507491173674765,
           61.507491173674765,
           61.507491173674765,
           61.507491173674765,
           61.507491173674765,
           61.507491173674765,
           83.57589343276375,
           83.57589343276375
          ],
          "colorbar": {
           "title": {
            "text": "Cut Value"
           }
          },
          "colorscale": [
           [
            0,
            "#0d0887"
           ],
           [
            0.1111111111111111,
            "#46039f"
           ],
           [
            0.2222222222222222,
            "#7201a8"
           ],
           [
            0.3333333333333333,
            "#9c179e"
           ],
           [
            0.4444444444444444,
            "#bd3786"
           ],
           [
            0.5555555555555556,
            "#d8576b"
           ],
           [
            0.6666666666666666,
            "#ed7953"
           ],
           [
            0.7777777777777778,
            "#fb9f3a"
           ],
           [
            0.8888888888888888,
            "#fdca26"
           ],
           [
            1,
            "#f0f921"
           ]
          ]
         },
         "type": "bar",
         "x": [
          "000000",
          "111111",
          "000100",
          "011111",
          "100000",
          "111011",
          "000001",
          "000010",
          "001000",
          "010000",
          "101111",
          "110111",
          "111101",
          "111110",
          "011011",
          "100100",
          "010100",
          "100001",
          "100010",
          "101011",
          "110011",
          "001100",
          "011101",
          "011110",
          "001010",
          "010001",
          "101110",
          "110101",
          "001001",
          "010010",
          "101101",
          "110110",
          "011100",
          "100011",
          "001011",
          "010011",
          "011001",
          "011010",
          "100101",
          "100110",
          "101100",
          "110100",
          "101010",
          "110001",
          "001110",
          "010101",
          "001101",
          "010110",
          "101001",
          "110010",
          "000011",
          "011000",
          "100111",
          "111100",
          "000101",
          "000110",
          "001111",
          "010111",
          "101000",
          "110000",
          "111001",
          "111010",
          "000111",
          "111000"
         ],
         "y": [
          0,
          0,
          31.439088914585774,
          31.439088914585774,
          31.439088914585774,
          31.439088914585774,
          34.06840225908899,
          34.06840225908899,
          34.06840225908899,
          34.06840225908899,
          34.06840225908899,
          34.06840225908899,
          34.06840225908899,
          34.06840225908899,
          44.87817782917155,
          44.87817782917155,
          47.068402259088984,
          47.068402259088984,
          47.068402259088984,
          47.068402259088984,
          47.068402259088984,
          47.06840225908899,
          47.06840225908899,
          47.06840225908899,
          48.439088914585774,
          48.439088914585774,
          48.439088914585774,
          48.439088914585774,
          50.13680451817798,
          50.13680451817798,
          50.13680451817798,
          50.13680451817798,
          54.6977156035922,
          54.69771560359221,
          56.507491173674765,
          56.507491173674765,
          56.507491173674765,
          56.507491173674765,
          56.507491173674765,
          56.507491173674765,
          56.507491173674765,
          56.507491173674765,
          57.43908891458577,
          57.43908891458577,
          57.439088914585774,
          57.439088914585774,
          59.13680451817798,
          59.13680451817798,
          59.13680451817798,
          59.13680451817798,
          60.13680451817798,
          60.13680451817798,
          60.13680451817798,
          60.13680451817798,
          61.507491173674765,
          61.507491173674765,
          61.507491173674765,
          61.507491173674765,
          61.507491173674765,
          61.507491173674765,
          61.507491173674765,
          61.507491173674765,
          83.57589343276375,
          83.57589343276375
         ]
        }
       ],
       "layout": {
        "height": 600,
        "template": {
         "data": {
          "bar": [
           {
            "error_x": {
             "color": "#2a3f5f"
            },
            "error_y": {
             "color": "#2a3f5f"
            },
            "marker": {
             "line": {
              "color": "#E5ECF6",
              "width": 0.5
             },
             "pattern": {
              "fillmode": "overlay",
              "size": 10,
              "solidity": 0.2
             }
            },
            "type": "bar"
           }
          ],
          "barpolar": [
           {
            "marker": {
             "line": {
              "color": "#E5ECF6",
              "width": 0.5
             },
             "pattern": {
              "fillmode": "overlay",
              "size": 10,
              "solidity": 0.2
             }
            },
            "type": "barpolar"
           }
          ],
          "carpet": [
           {
            "aaxis": {
             "endlinecolor": "#2a3f5f",
             "gridcolor": "white",
             "linecolor": "white",
             "minorgridcolor": "white",
             "startlinecolor": "#2a3f5f"
            },
            "baxis": {
             "endlinecolor": "#2a3f5f",
             "gridcolor": "white",
             "linecolor": "white",
             "minorgridcolor": "white",
             "startlinecolor": "#2a3f5f"
            },
            "type": "carpet"
           }
          ],
          "choropleth": [
           {
            "colorbar": {
             "outlinewidth": 0,
             "ticks": ""
            },
            "type": "choropleth"
           }
          ],
          "contour": [
           {
            "colorbar": {
             "outlinewidth": 0,
             "ticks": ""
            },
            "colorscale": [
             [
              0,
              "#0d0887"
             ],
             [
              0.1111111111111111,
              "#46039f"
             ],
             [
              0.2222222222222222,
              "#7201a8"
             ],
             [
              0.3333333333333333,
              "#9c179e"
             ],
             [
              0.4444444444444444,
              "#bd3786"
             ],
             [
              0.5555555555555556,
              "#d8576b"
             ],
             [
              0.6666666666666666,
              "#ed7953"
             ],
             [
              0.7777777777777778,
              "#fb9f3a"
             ],
             [
              0.8888888888888888,
              "#fdca26"
             ],
             [
              1,
              "#f0f921"
             ]
            ],
            "type": "contour"
           }
          ],
          "contourcarpet": [
           {
            "colorbar": {
             "outlinewidth": 0,
             "ticks": ""
            },
            "type": "contourcarpet"
           }
          ],
          "heatmap": [
           {
            "colorbar": {
             "outlinewidth": 0,
             "ticks": ""
            },
            "colorscale": [
             [
              0,
              "#0d0887"
             ],
             [
              0.1111111111111111,
              "#46039f"
             ],
             [
              0.2222222222222222,
              "#7201a8"
             ],
             [
              0.3333333333333333,
              "#9c179e"
             ],
             [
              0.4444444444444444,
              "#bd3786"
             ],
             [
              0.5555555555555556,
              "#d8576b"
             ],
             [
              0.6666666666666666,
              "#ed7953"
             ],
             [
              0.7777777777777778,
              "#fb9f3a"
             ],
             [
              0.8888888888888888,
              "#fdca26"
             ],
             [
              1,
              "#f0f921"
             ]
            ],
            "type": "heatmap"
           }
          ],
          "heatmapgl": [
           {
            "colorbar": {
             "outlinewidth": 0,
             "ticks": ""
            },
            "colorscale": [
             [
              0,
              "#0d0887"
             ],
             [
              0.1111111111111111,
              "#46039f"
             ],
             [
              0.2222222222222222,
              "#7201a8"
             ],
             [
              0.3333333333333333,
              "#9c179e"
             ],
             [
              0.4444444444444444,
              "#bd3786"
             ],
             [
              0.5555555555555556,
              "#d8576b"
             ],
             [
              0.6666666666666666,
              "#ed7953"
             ],
             [
              0.7777777777777778,
              "#fb9f3a"
             ],
             [
              0.8888888888888888,
              "#fdca26"
             ],
             [
              1,
              "#f0f921"
             ]
            ],
            "type": "heatmapgl"
           }
          ],
          "histogram": [
           {
            "marker": {
             "pattern": {
              "fillmode": "overlay",
              "size": 10,
              "solidity": 0.2
             }
            },
            "type": "histogram"
           }
          ],
          "histogram2d": [
           {
            "colorbar": {
             "outlinewidth": 0,
             "ticks": ""
            },
            "colorscale": [
             [
              0,
              "#0d0887"
             ],
             [
              0.1111111111111111,
              "#46039f"
             ],
             [
              0.2222222222222222,
              "#7201a8"
             ],
             [
              0.3333333333333333,
              "#9c179e"
             ],
             [
              0.4444444444444444,
              "#bd3786"
             ],
             [
              0.5555555555555556,
              "#d8576b"
             ],
             [
              0.6666666666666666,
              "#ed7953"
             ],
             [
              0.7777777777777778,
              "#fb9f3a"
             ],
             [
              0.8888888888888888,
              "#fdca26"
             ],
             [
              1,
              "#f0f921"
             ]
            ],
            "type": "histogram2d"
           }
          ],
          "histogram2dcontour": [
           {
            "colorbar": {
             "outlinewidth": 0,
             "ticks": ""
            },
            "colorscale": [
             [
              0,
              "#0d0887"
             ],
             [
              0.1111111111111111,
              "#46039f"
             ],
             [
              0.2222222222222222,
              "#7201a8"
             ],
             [
              0.3333333333333333,
              "#9c179e"
             ],
             [
              0.4444444444444444,
              "#bd3786"
             ],
             [
              0.5555555555555556,
              "#d8576b"
             ],
             [
              0.6666666666666666,
              "#ed7953"
             ],
             [
              0.7777777777777778,
              "#fb9f3a"
             ],
             [
              0.8888888888888888,
              "#fdca26"
             ],
             [
              1,
              "#f0f921"
             ]
            ],
            "type": "histogram2dcontour"
           }
          ],
          "mesh3d": [
           {
            "colorbar": {
             "outlinewidth": 0,
             "ticks": ""
            },
            "type": "mesh3d"
           }
          ],
          "parcoords": [
           {
            "line": {
             "colorbar": {
              "outlinewidth": 0,
              "ticks": ""
             }
            },
            "type": "parcoords"
           }
          ],
          "pie": [
           {
            "automargin": true,
            "type": "pie"
           }
          ],
          "scatter": [
           {
            "marker": {
             "colorbar": {
              "outlinewidth": 0,
              "ticks": ""
             }
            },
            "type": "scatter"
           }
          ],
          "scatter3d": [
           {
            "line": {
             "colorbar": {
              "outlinewidth": 0,
              "ticks": ""
             }
            },
            "marker": {
             "colorbar": {
              "outlinewidth": 0,
              "ticks": ""
             }
            },
            "type": "scatter3d"
           }
          ],
          "scattercarpet": [
           {
            "marker": {
             "colorbar": {
              "outlinewidth": 0,
              "ticks": ""
             }
            },
            "type": "scattercarpet"
           }
          ],
          "scattergeo": [
           {
            "marker": {
             "colorbar": {
              "outlinewidth": 0,
              "ticks": ""
             }
            },
            "type": "scattergeo"
           }
          ],
          "scattergl": [
           {
            "marker": {
             "colorbar": {
              "outlinewidth": 0,
              "ticks": ""
             }
            },
            "type": "scattergl"
           }
          ],
          "scattermapbox": [
           {
            "marker": {
             "colorbar": {
              "outlinewidth": 0,
              "ticks": ""
             }
            },
            "type": "scattermapbox"
           }
          ],
          "scatterpolar": [
           {
            "marker": {
             "colorbar": {
              "outlinewidth": 0,
              "ticks": ""
             }
            },
            "type": "scatterpolar"
           }
          ],
          "scatterpolargl": [
           {
            "marker": {
             "colorbar": {
              "outlinewidth": 0,
              "ticks": ""
             }
            },
            "type": "scatterpolargl"
           }
          ],
          "scatterternary": [
           {
            "marker": {
             "colorbar": {
              "outlinewidth": 0,
              "ticks": ""
             }
            },
            "type": "scatterternary"
           }
          ],
          "surface": [
           {
            "colorbar": {
             "outlinewidth": 0,
             "ticks": ""
            },
            "colorscale": [
             [
              0,
              "#0d0887"
             ],
             [
              0.1111111111111111,
              "#46039f"
             ],
             [
              0.2222222222222222,
              "#7201a8"
             ],
             [
              0.3333333333333333,
              "#9c179e"
             ],
             [
              0.4444444444444444,
              "#bd3786"
             ],
             [
              0.5555555555555556,
              "#d8576b"
             ],
             [
              0.6666666666666666,
              "#ed7953"
             ],
             [
              0.7777777777777778,
              "#fb9f3a"
             ],
             [
              0.8888888888888888,
              "#fdca26"
             ],
             [
              1,
              "#f0f921"
             ]
            ],
            "type": "surface"
           }
          ],
          "table": [
           {
            "cells": {
             "fill": {
              "color": "#EBF0F8"
             },
             "line": {
              "color": "white"
             }
            },
            "header": {
             "fill": {
              "color": "#C8D4E3"
             },
             "line": {
              "color": "white"
             }
            },
            "type": "table"
           }
          ]
         },
         "layout": {
          "annotationdefaults": {
           "arrowcolor": "#2a3f5f",
           "arrowhead": 0,
           "arrowwidth": 1
          },
          "autotypenumbers": "strict",
          "coloraxis": {
           "colorbar": {
            "outlinewidth": 0,
            "ticks": ""
           }
          },
          "colorscale": {
           "diverging": [
            [
             0,
             "#8e0152"
            ],
            [
             0.1,
             "#c51b7d"
            ],
            [
             0.2,
             "#de77ae"
            ],
            [
             0.3,
             "#f1b6da"
            ],
            [
             0.4,
             "#fde0ef"
            ],
            [
             0.5,
             "#f7f7f7"
            ],
            [
             0.6,
             "#e6f5d0"
            ],
            [
             0.7,
             "#b8e186"
            ],
            [
             0.8,
             "#7fbc41"
            ],
            [
             0.9,
             "#4d9221"
            ],
            [
             1,
             "#276419"
            ]
           ],
           "sequential": [
            [
             0,
             "#0d0887"
            ],
            [
             0.1111111111111111,
             "#46039f"
            ],
            [
             0.2222222222222222,
             "#7201a8"
            ],
            [
             0.3333333333333333,
             "#9c179e"
            ],
            [
             0.4444444444444444,
             "#bd3786"
            ],
            [
             0.5555555555555556,
             "#d8576b"
            ],
            [
             0.6666666666666666,
             "#ed7953"
            ],
            [
             0.7777777777777778,
             "#fb9f3a"
            ],
            [
             0.8888888888888888,
             "#fdca26"
            ],
            [
             1,
             "#f0f921"
            ]
           ],
           "sequentialminus": [
            [
             0,
             "#0d0887"
            ],
            [
             0.1111111111111111,
             "#46039f"
            ],
            [
             0.2222222222222222,
             "#7201a8"
            ],
            [
             0.3333333333333333,
             "#9c179e"
            ],
            [
             0.4444444444444444,
             "#bd3786"
            ],
            [
             0.5555555555555556,
             "#d8576b"
            ],
            [
             0.6666666666666666,
             "#ed7953"
            ],
            [
             0.7777777777777778,
             "#fb9f3a"
            ],
            [
             0.8888888888888888,
             "#fdca26"
            ],
            [
             1,
             "#f0f921"
            ]
           ]
          },
          "colorway": [
           "#636efa",
           "#EF553B",
           "#00cc96",
           "#ab63fa",
           "#FFA15A",
           "#19d3f3",
           "#FF6692",
           "#B6E880",
           "#FF97FF",
           "#FECB52"
          ],
          "font": {
           "color": "#2a3f5f"
          },
          "geo": {
           "bgcolor": "white",
           "lakecolor": "white",
           "landcolor": "#E5ECF6",
           "showlakes": true,
           "showland": true,
           "subunitcolor": "white"
          },
          "hoverlabel": {
           "align": "left"
          },
          "hovermode": "closest",
          "mapbox": {
           "style": "light"
          },
          "paper_bgcolor": "white",
          "plot_bgcolor": "#E5ECF6",
          "polar": {
           "angularaxis": {
            "gridcolor": "white",
            "linecolor": "white",
            "ticks": ""
           },
           "bgcolor": "#E5ECF6",
           "radialaxis": {
            "gridcolor": "white",
            "linecolor": "white",
            "ticks": ""
           }
          },
          "scene": {
           "xaxis": {
            "backgroundcolor": "#E5ECF6",
            "gridcolor": "white",
            "gridwidth": 2,
            "linecolor": "white",
            "showbackground": true,
            "ticks": "",
            "zerolinecolor": "white"
           },
           "yaxis": {
            "backgroundcolor": "#E5ECF6",
            "gridcolor": "white",
            "gridwidth": 2,
            "linecolor": "white",
            "showbackground": true,
            "ticks": "",
            "zerolinecolor": "white"
           },
           "zaxis": {
            "backgroundcolor": "#E5ECF6",
            "gridcolor": "white",
            "gridwidth": 2,
            "linecolor": "white",
            "showbackground": true,
            "ticks": "",
            "zerolinecolor": "white"
           }
          },
          "shapedefaults": {
           "line": {
            "color": "#2a3f5f"
           }
          },
          "ternary": {
           "aaxis": {
            "gridcolor": "white",
            "linecolor": "white",
            "ticks": ""
           },
           "baxis": {
            "gridcolor": "white",
            "linecolor": "white",
            "ticks": ""
           },
           "bgcolor": "#E5ECF6",
           "caxis": {
            "gridcolor": "white",
            "linecolor": "white",
            "ticks": ""
           }
          },
          "title": {
           "x": 0.05
          },
          "xaxis": {
           "automargin": true,
           "gridcolor": "white",
           "linecolor": "white",
           "ticks": "",
           "title": {
            "standoff": 15
           },
           "zerolinecolor": "white",
           "zerolinewidth": 2
          },
          "yaxis": {
           "automargin": true,
           "gridcolor": "white",
           "linecolor": "white",
           "ticks": "",
           "title": {
            "standoff": 15
           },
           "zerolinecolor": "white",
           "zerolinewidth": 2
          }
         }
        },
        "width": 1500,
        "xaxis": {
         "type": "category"
        }
       }
      },
      "text/html": [
       "<div>                            <div id=\"09d12525-7400-4cb0-8bc9-5c4645c2e8ae\" class=\"plotly-graph-div\" style=\"height:600px; width:1500px;\"></div>            <script type=\"text/javascript\">                require([\"plotly\"], function(Plotly) {                    window.PLOTLYENV=window.PLOTLYENV || {};                                    if (document.getElementById(\"09d12525-7400-4cb0-8bc9-5c4645c2e8ae\")) {                    Plotly.newPlot(                        \"09d12525-7400-4cb0-8bc9-5c4645c2e8ae\",                        [{\"marker\":{\"color\":[0.0,0.0,31.439088914585774,31.439088914585774,31.439088914585774,31.439088914585774,34.06840225908899,34.06840225908899,34.06840225908899,34.06840225908899,34.06840225908899,34.06840225908899,34.06840225908899,34.06840225908899,44.87817782917155,44.87817782917155,47.068402259088984,47.068402259088984,47.068402259088984,47.068402259088984,47.068402259088984,47.06840225908899,47.06840225908899,47.06840225908899,48.439088914585774,48.439088914585774,48.439088914585774,48.439088914585774,50.13680451817798,50.13680451817798,50.13680451817798,50.13680451817798,54.6977156035922,54.69771560359221,56.507491173674765,56.507491173674765,56.507491173674765,56.507491173674765,56.507491173674765,56.507491173674765,56.507491173674765,56.507491173674765,57.43908891458577,57.43908891458577,57.439088914585774,57.439088914585774,59.13680451817798,59.13680451817798,59.13680451817798,59.13680451817798,60.13680451817798,60.13680451817798,60.13680451817798,60.13680451817798,61.507491173674765,61.507491173674765,61.507491173674765,61.507491173674765,61.507491173674765,61.507491173674765,61.507491173674765,61.507491173674765,83.57589343276375,83.57589343276375],\"colorbar\":{\"title\":{\"text\":\"Cut Value\"}},\"colorscale\":[[0.0,\"#0d0887\"],[0.1111111111111111,\"#46039f\"],[0.2222222222222222,\"#7201a8\"],[0.3333333333333333,\"#9c179e\"],[0.4444444444444444,\"#bd3786\"],[0.5555555555555556,\"#d8576b\"],[0.6666666666666666,\"#ed7953\"],[0.7777777777777778,\"#fb9f3a\"],[0.8888888888888888,\"#fdca26\"],[1.0,\"#f0f921\"]]},\"type\":\"bar\",\"x\":[\"000000\",\"111111\",\"000100\",\"011111\",\"100000\",\"111011\",\"000001\",\"000010\",\"001000\",\"010000\",\"101111\",\"110111\",\"111101\",\"111110\",\"011011\",\"100100\",\"010100\",\"100001\",\"100010\",\"101011\",\"110011\",\"001100\",\"011101\",\"011110\",\"001010\",\"010001\",\"101110\",\"110101\",\"001001\",\"010010\",\"101101\",\"110110\",\"011100\",\"100011\",\"001011\",\"010011\",\"011001\",\"011010\",\"100101\",\"100110\",\"101100\",\"110100\",\"101010\",\"110001\",\"001110\",\"010101\",\"001101\",\"010110\",\"101001\",\"110010\",\"000011\",\"011000\",\"100111\",\"111100\",\"000101\",\"000110\",\"001111\",\"010111\",\"101000\",\"110000\",\"111001\",\"111010\",\"000111\",\"111000\"],\"y\":[0.0,0.0,31.439088914585774,31.439088914585774,31.439088914585774,31.439088914585774,34.06840225908899,34.06840225908899,34.06840225908899,34.06840225908899,34.06840225908899,34.06840225908899,34.06840225908899,34.06840225908899,44.87817782917155,44.87817782917155,47.068402259088984,47.068402259088984,47.068402259088984,47.068402259088984,47.068402259088984,47.06840225908899,47.06840225908899,47.06840225908899,48.439088914585774,48.439088914585774,48.439088914585774,48.439088914585774,50.13680451817798,50.13680451817798,50.13680451817798,50.13680451817798,54.6977156035922,54.69771560359221,56.507491173674765,56.507491173674765,56.507491173674765,56.507491173674765,56.507491173674765,56.507491173674765,56.507491173674765,56.507491173674765,57.43908891458577,57.43908891458577,57.439088914585774,57.439088914585774,59.13680451817798,59.13680451817798,59.13680451817798,59.13680451817798,60.13680451817798,60.13680451817798,60.13680451817798,60.13680451817798,61.507491173674765,61.507491173674765,61.507491173674765,61.507491173674765,61.507491173674765,61.507491173674765,61.507491173674765,61.507491173674765,83.57589343276375,83.57589343276375]}],                        {\"height\":600,\"template\":{\"data\":{\"bar\":[{\"error_x\":{\"color\":\"#2a3f5f\"},\"error_y\":{\"color\":\"#2a3f5f\"},\"marker\":{\"line\":{\"color\":\"#E5ECF6\",\"width\":0.5},\"pattern\":{\"fillmode\":\"overlay\",\"size\":10,\"solidity\":0.2}},\"type\":\"bar\"}],\"barpolar\":[{\"marker\":{\"line\":{\"color\":\"#E5ECF6\",\"width\":0.5},\"pattern\":{\"fillmode\":\"overlay\",\"size\":10,\"solidity\":0.2}},\"type\":\"barpolar\"}],\"carpet\":[{\"aaxis\":{\"endlinecolor\":\"#2a3f5f\",\"gridcolor\":\"white\",\"linecolor\":\"white\",\"minorgridcolor\":\"white\",\"startlinecolor\":\"#2a3f5f\"},\"baxis\":{\"endlinecolor\":\"#2a3f5f\",\"gridcolor\":\"white\",\"linecolor\":\"white\",\"minorgridcolor\":\"white\",\"startlinecolor\":\"#2a3f5f\"},\"type\":\"carpet\"}],\"choropleth\":[{\"colorbar\":{\"outlinewidth\":0,\"ticks\":\"\"},\"type\":\"choropleth\"}],\"contour\":[{\"colorbar\":{\"outlinewidth\":0,\"ticks\":\"\"},\"colorscale\":[[0.0,\"#0d0887\"],[0.1111111111111111,\"#46039f\"],[0.2222222222222222,\"#7201a8\"],[0.3333333333333333,\"#9c179e\"],[0.4444444444444444,\"#bd3786\"],[0.5555555555555556,\"#d8576b\"],[0.6666666666666666,\"#ed7953\"],[0.7777777777777778,\"#fb9f3a\"],[0.8888888888888888,\"#fdca26\"],[1.0,\"#f0f921\"]],\"type\":\"contour\"}],\"contourcarpet\":[{\"colorbar\":{\"outlinewidth\":0,\"ticks\":\"\"},\"type\":\"contourcarpet\"}],\"heatmap\":[{\"colorbar\":{\"outlinewidth\":0,\"ticks\":\"\"},\"colorscale\":[[0.0,\"#0d0887\"],[0.1111111111111111,\"#46039f\"],[0.2222222222222222,\"#7201a8\"],[0.3333333333333333,\"#9c179e\"],[0.4444444444444444,\"#bd3786\"],[0.5555555555555556,\"#d8576b\"],[0.6666666666666666,\"#ed7953\"],[0.7777777777777778,\"#fb9f3a\"],[0.8888888888888888,\"#fdca26\"],[1.0,\"#f0f921\"]],\"type\":\"heatmap\"}],\"heatmapgl\":[{\"colorbar\":{\"outlinewidth\":0,\"ticks\":\"\"},\"colorscale\":[[0.0,\"#0d0887\"],[0.1111111111111111,\"#46039f\"],[0.2222222222222222,\"#7201a8\"],[0.3333333333333333,\"#9c179e\"],[0.4444444444444444,\"#bd3786\"],[0.5555555555555556,\"#d8576b\"],[0.6666666666666666,\"#ed7953\"],[0.7777777777777778,\"#fb9f3a\"],[0.8888888888888888,\"#fdca26\"],[1.0,\"#f0f921\"]],\"type\":\"heatmapgl\"}],\"histogram\":[{\"marker\":{\"pattern\":{\"fillmode\":\"overlay\",\"size\":10,\"solidity\":0.2}},\"type\":\"histogram\"}],\"histogram2d\":[{\"colorbar\":{\"outlinewidth\":0,\"ticks\":\"\"},\"colorscale\":[[0.0,\"#0d0887\"],[0.1111111111111111,\"#46039f\"],[0.2222222222222222,\"#7201a8\"],[0.3333333333333333,\"#9c179e\"],[0.4444444444444444,\"#bd3786\"],[0.5555555555555556,\"#d8576b\"],[0.6666666666666666,\"#ed7953\"],[0.7777777777777778,\"#fb9f3a\"],[0.8888888888888888,\"#fdca26\"],[1.0,\"#f0f921\"]],\"type\":\"histogram2d\"}],\"histogram2dcontour\":[{\"colorbar\":{\"outlinewidth\":0,\"ticks\":\"\"},\"colorscale\":[[0.0,\"#0d0887\"],[0.1111111111111111,\"#46039f\"],[0.2222222222222222,\"#7201a8\"],[0.3333333333333333,\"#9c179e\"],[0.4444444444444444,\"#bd3786\"],[0.5555555555555556,\"#d8576b\"],[0.6666666666666666,\"#ed7953\"],[0.7777777777777778,\"#fb9f3a\"],[0.8888888888888888,\"#fdca26\"],[1.0,\"#f0f921\"]],\"type\":\"histogram2dcontour\"}],\"mesh3d\":[{\"colorbar\":{\"outlinewidth\":0,\"ticks\":\"\"},\"type\":\"mesh3d\"}],\"parcoords\":[{\"line\":{\"colorbar\":{\"outlinewidth\":0,\"ticks\":\"\"}},\"type\":\"parcoords\"}],\"pie\":[{\"automargin\":true,\"type\":\"pie\"}],\"scatter\":[{\"marker\":{\"colorbar\":{\"outlinewidth\":0,\"ticks\":\"\"}},\"type\":\"scatter\"}],\"scatter3d\":[{\"line\":{\"colorbar\":{\"outlinewidth\":0,\"ticks\":\"\"}},\"marker\":{\"colorbar\":{\"outlinewidth\":0,\"ticks\":\"\"}},\"type\":\"scatter3d\"}],\"scattercarpet\":[{\"marker\":{\"colorbar\":{\"outlinewidth\":0,\"ticks\":\"\"}},\"type\":\"scattercarpet\"}],\"scattergeo\":[{\"marker\":{\"colorbar\":{\"outlinewidth\":0,\"ticks\":\"\"}},\"type\":\"scattergeo\"}],\"scattergl\":[{\"marker\":{\"colorbar\":{\"outlinewidth\":0,\"ticks\":\"\"}},\"type\":\"scattergl\"}],\"scattermapbox\":[{\"marker\":{\"colorbar\":{\"outlinewidth\":0,\"ticks\":\"\"}},\"type\":\"scattermapbox\"}],\"scatterpolar\":[{\"marker\":{\"colorbar\":{\"outlinewidth\":0,\"ticks\":\"\"}},\"type\":\"scatterpolar\"}],\"scatterpolargl\":[{\"marker\":{\"colorbar\":{\"outlinewidth\":0,\"ticks\":\"\"}},\"type\":\"scatterpolargl\"}],\"scatterternary\":[{\"marker\":{\"colorbar\":{\"outlinewidth\":0,\"ticks\":\"\"}},\"type\":\"scatterternary\"}],\"surface\":[{\"colorbar\":{\"outlinewidth\":0,\"ticks\":\"\"},\"colorscale\":[[0.0,\"#0d0887\"],[0.1111111111111111,\"#46039f\"],[0.2222222222222222,\"#7201a8\"],[0.3333333333333333,\"#9c179e\"],[0.4444444444444444,\"#bd3786\"],[0.5555555555555556,\"#d8576b\"],[0.6666666666666666,\"#ed7953\"],[0.7777777777777778,\"#fb9f3a\"],[0.8888888888888888,\"#fdca26\"],[1.0,\"#f0f921\"]],\"type\":\"surface\"}],\"table\":[{\"cells\":{\"fill\":{\"color\":\"#EBF0F8\"},\"line\":{\"color\":\"white\"}},\"header\":{\"fill\":{\"color\":\"#C8D4E3\"},\"line\":{\"color\":\"white\"}},\"type\":\"table\"}]},\"layout\":{\"annotationdefaults\":{\"arrowcolor\":\"#2a3f5f\",\"arrowhead\":0,\"arrowwidth\":1},\"autotypenumbers\":\"strict\",\"coloraxis\":{\"colorbar\":{\"outlinewidth\":0,\"ticks\":\"\"}},\"colorscale\":{\"diverging\":[[0,\"#8e0152\"],[0.1,\"#c51b7d\"],[0.2,\"#de77ae\"],[0.3,\"#f1b6da\"],[0.4,\"#fde0ef\"],[0.5,\"#f7f7f7\"],[0.6,\"#e6f5d0\"],[0.7,\"#b8e186\"],[0.8,\"#7fbc41\"],[0.9,\"#4d9221\"],[1,\"#276419\"]],\"sequential\":[[0.0,\"#0d0887\"],[0.1111111111111111,\"#46039f\"],[0.2222222222222222,\"#7201a8\"],[0.3333333333333333,\"#9c179e\"],[0.4444444444444444,\"#bd3786\"],[0.5555555555555556,\"#d8576b\"],[0.6666666666666666,\"#ed7953\"],[0.7777777777777778,\"#fb9f3a\"],[0.8888888888888888,\"#fdca26\"],[1.0,\"#f0f921\"]],\"sequentialminus\":[[0.0,\"#0d0887\"],[0.1111111111111111,\"#46039f\"],[0.2222222222222222,\"#7201a8\"],[0.3333333333333333,\"#9c179e\"],[0.4444444444444444,\"#bd3786\"],[0.5555555555555556,\"#d8576b\"],[0.6666666666666666,\"#ed7953\"],[0.7777777777777778,\"#fb9f3a\"],[0.8888888888888888,\"#fdca26\"],[1.0,\"#f0f921\"]]},\"colorway\":[\"#636efa\",\"#EF553B\",\"#00cc96\",\"#ab63fa\",\"#FFA15A\",\"#19d3f3\",\"#FF6692\",\"#B6E880\",\"#FF97FF\",\"#FECB52\"],\"font\":{\"color\":\"#2a3f5f\"},\"geo\":{\"bgcolor\":\"white\",\"lakecolor\":\"white\",\"landcolor\":\"#E5ECF6\",\"showlakes\":true,\"showland\":true,\"subunitcolor\":\"white\"},\"hoverlabel\":{\"align\":\"left\"},\"hovermode\":\"closest\",\"mapbox\":{\"style\":\"light\"},\"paper_bgcolor\":\"white\",\"plot_bgcolor\":\"#E5ECF6\",\"polar\":{\"angularaxis\":{\"gridcolor\":\"white\",\"linecolor\":\"white\",\"ticks\":\"\"},\"bgcolor\":\"#E5ECF6\",\"radialaxis\":{\"gridcolor\":\"white\",\"linecolor\":\"white\",\"ticks\":\"\"}},\"scene\":{\"xaxis\":{\"backgroundcolor\":\"#E5ECF6\",\"gridcolor\":\"white\",\"gridwidth\":2,\"linecolor\":\"white\",\"showbackground\":true,\"ticks\":\"\",\"zerolinecolor\":\"white\"},\"yaxis\":{\"backgroundcolor\":\"#E5ECF6\",\"gridcolor\":\"white\",\"gridwidth\":2,\"linecolor\":\"white\",\"showbackground\":true,\"ticks\":\"\",\"zerolinecolor\":\"white\"},\"zaxis\":{\"backgroundcolor\":\"#E5ECF6\",\"gridcolor\":\"white\",\"gridwidth\":2,\"linecolor\":\"white\",\"showbackground\":true,\"ticks\":\"\",\"zerolinecolor\":\"white\"}},\"shapedefaults\":{\"line\":{\"color\":\"#2a3f5f\"}},\"ternary\":{\"aaxis\":{\"gridcolor\":\"white\",\"linecolor\":\"white\",\"ticks\":\"\"},\"baxis\":{\"gridcolor\":\"white\",\"linecolor\":\"white\",\"ticks\":\"\"},\"bgcolor\":\"#E5ECF6\",\"caxis\":{\"gridcolor\":\"white\",\"linecolor\":\"white\",\"ticks\":\"\"}},\"title\":{\"x\":0.05},\"xaxis\":{\"automargin\":true,\"gridcolor\":\"white\",\"linecolor\":\"white\",\"ticks\":\"\",\"title\":{\"standoff\":15},\"zerolinecolor\":\"white\",\"zerolinewidth\":2},\"yaxis\":{\"automargin\":true,\"gridcolor\":\"white\",\"linecolor\":\"white\",\"ticks\":\"\",\"title\":{\"standoff\":15},\"zerolinecolor\":\"white\",\"zerolinewidth\":2}}},\"width\":1500,\"xaxis\":{\"type\":\"category\"}},                        {\"responsive\": true}                    ).then(function(){\n",
       "                            \n",
       "var gd = document.getElementById('09d12525-7400-4cb0-8bc9-5c4645c2e8ae');\n",
       "var x = new MutationObserver(function (mutations, observer) {{\n",
       "        var display = window.getComputedStyle(gd).display;\n",
       "        if (!display || display === 'none') {{\n",
       "            console.log([gd, 'removed!']);\n",
       "            Plotly.purge(gd);\n",
       "            observer.disconnect();\n",
       "        }}\n",
       "}});\n",
       "\n",
       "// Listen for the removal of the full notebook cells\n",
       "var notebookContainer = gd.closest('#notebook-container');\n",
       "if (notebookContainer) {{\n",
       "    x.observe(notebookContainer, {childList: true});\n",
       "}}\n",
       "\n",
       "// Listen for the clearing of the current output cell\n",
       "var outputEl = gd.closest('.output');\n",
       "if (outputEl) {{\n",
       "    x.observe(outputEl, {childList: true});\n",
       "}}\n",
       "\n",
       "                        })                };                });            </script>        </div>"
      ]
     },
     "metadata": {},
     "output_type": "display_data"
    }
   ],
   "source": [
    "plot_maxcut_histogram(G)"
   ]
  },
  {
   "cell_type": "code",
   "execution_count": 161,
   "id": "4465061d",
   "metadata": {},
   "outputs": [],
   "source": [
    "def quadratic_program_from_graph(graph: nx.Graph) -> QuadraticProgram:\n",
    "    \"\"\"Constructs a quadratic program from a given graph for a MaxCut problem instance.\n",
    "    Args:\n",
    "        graph: Underlying graph of the problem.\n",
    "    Returns:\n",
    "        QuadraticProgram\n",
    "    \"\"\"\n",
    "    #Get weight matrix of graph\n",
    "    weight_matrix = nx.adjacency_matrix(graph)\n",
    "    shape = weight_matrix.shape\n",
    "    size = shape[0]\n",
    "    #Build qubo matrix Q from weight matrix W\n",
    "    qubo_matrix = np.zeros((size, size))\n",
    "    qubo_vector = np.zeros(size)\n",
    "    for i in range(size):\n",
    "        for j in range(size):\n",
    "            qubo_matrix[i, j] -= weight_matrix[i, j]\n",
    "    for i in range(size):\n",
    "        for j in range(size):\n",
    "            qubo_vector[i] += weight_matrix[i,j]\n",
    "\n",
    "    #INSERT YOUR CODE HERE\n",
    "    quadratic_program = QuadraticProgram('')\n",
    "    for i in range(size):\n",
    "        name = 'x_' + str(i)\n",
    "        quadratic_program.binary_var(name = name)\n",
    "#     print(qubo_vector)\n",
    "    quadratic_program.maximize(quadratic = qubo_matrix, linear = qubo_vector.T, constant=0)\n",
    "    \n",
    "    \n",
    "    return quadratic_program"
   ]
  },
  {
   "cell_type": "code",
   "execution_count": 162,
   "id": "8234a799",
   "metadata": {},
   "outputs": [
    {
     "name": "stdout",
     "output_type": "stream",
     "text": [
      "\\ This file has been generated by DOcplex\n",
      "\\ ENCODING=ISO-8859-1\n",
      "\\Problem name: CPLEX\n",
      "\n",
      "Maximize\n",
      " obj: 31.439088914586 x_0 + 34.068402259089 x_1 + 34.068402259089 x_2\n",
      "      + 31.439088914586 x_3 + 34.068402259089 x_4 + 34.068402259089 x_5 + [\n",
      "      - 8 x_0*x_1 - 8 x_0*x_2 - 36 x_0*x_3 - 36.878177829172 x_0*x_4\n",
      "      - 36.878177829172 x_0*x_5 - 16 x_1*x_2 - 36.878177829172 x_1*x_3\n",
      "      - 36 x_1*x_4 - 39.395431207184 x_1*x_5 - 36.878177829172 x_2*x_3\n",
      "      - 39.395431207184 x_2*x_4 - 36 x_2*x_5 - 8 x_3*x_4 - 8 x_3*x_5\n",
      "      - 16 x_4*x_5 ]/2\n",
      "Subject To\n",
      "\n",
      "Bounds\n",
      " 0 <= x_0 <= 1\n",
      " 0 <= x_1 <= 1\n",
      " 0 <= x_2 <= 1\n",
      " 0 <= x_3 <= 1\n",
      " 0 <= x_4 <= 1\n",
      " 0 <= x_5 <= 1\n",
      "\n",
      "Binaries\n",
      " x_0 x_1 x_2 x_3 x_4 x_5\n",
      "End\n",
      "\n"
     ]
    }
   ],
   "source": [
    "quadratic_program = quadratic_program_from_graph(G)\n",
    "print(quadratic_program.export_as_lp_string())"
   ]
  },
  {
   "cell_type": "code",
   "execution_count": 163,
   "id": "7d70d8e9",
   "metadata": {},
   "outputs": [],
   "source": [
    "def qaoa_circuit(qubo: QuadraticProgram, p: int = 1):\n",
    "    \"\"\"\n",
    "    Given a QUBO instance and the number of layers p, constructs the corresponding parameterized QAOA circuit with p layers.\n",
    "    Args:\n",
    "        qubo: The quadratic program instance\n",
    "        p: The number of layers in the QAOA circuit\n",
    "    Returns:\n",
    "        The parameterized QAOA circuit\n",
    "    \"\"\"\n",
    "    size = len(qubo.variables)\n",
    "    qubo_matrix = qubo.objective.quadratic.to_array(symmetric=True)\n",
    "    qubo_linearity = qubo.objective.linear.to_array()\n",
    "\n",
    "    #Prepare the quantum and classical registers\n",
    "    qaoa_circuit = QuantumCircuit(size,size)\n",
    "    #Apply the initial layer of Hadamard gates to all qubits\n",
    "    qaoa_circuit.h(range(size))\n",
    "\n",
    "    #Create the parameters to be used in the circuit\n",
    "    gammas = ParameterVector('gamma', p)\n",
    "    betas = ParameterVector('beta', p)\n",
    "\n",
    "    #Outer loop to create each layer\n",
    "    for i in range(p):\n",
    "\n",
    "        #Apply R_Z rotational gates from cost layer\n",
    "        #INSERT YOUR CODE HERE\n",
    "        # The rz gates below can be commented out as well. As mentioned above, for Maxcut, single rz gate angle is 0.\n",
    "        for j in range(size):\n",
    "            qaoa_circuit.rz((qubo_linearity[j] + sum(qubo_matrix[j]))*1.0*gammas[i], j)\n",
    "\n",
    "        #Apply R_ZZ rotational gates for entangled qubit rotations from cost layer\n",
    "        #INSERT YOUR CODE HERE\n",
    "        for j in range(size):\n",
    "            for k in range(size):\n",
    "                if (j == k):\n",
    "                    continue\n",
    "                qaoa_circuit.rzz(0.5*qubo_matrix[j,k]*gammas[i], j, k)\n",
    "\n",
    "        # Apply single qubit X - rotations with angle 2*beta_i to all qubits\n",
    "        #INSERT YOUR CODE HERE\n",
    "        for j in range(size):\n",
    "            qaoa_circuit.rx(2.*betas[i], j)\n",
    "\n",
    "    return qaoa_circuit"
   ]
  },
  {
   "cell_type": "code",
   "execution_count": 164,
   "id": "13b01abf",
   "metadata": {},
   "outputs": [],
   "source": [
    "quadratic_program = quadratic_program_from_graph(G)\n",
    "custom_circuit = qaoa_circuit(qubo = quadratic_program)"
   ]
  },
  {
   "cell_type": "code",
   "execution_count": 165,
   "id": "a7904749",
   "metadata": {},
   "outputs": [
    {
     "data": {
      "text/html": [
       "<pre style=\"word-wrap: normal;white-space: pre;background: #fff0;line-height: 1.1;font-family: &quot;Courier New&quot;,Courier,monospace\">     ┌───┐┌─────────┐                                        »\n",
       "q_0: ┤ H ├┤ Rz(0.0) ├─■───────────────────■──────────────────»\n",
       "     ├───┤├─────────┤ │ZZ(-1.0*gamma[0])  │                  »\n",
       "q_1: ┤ H ├┤ Rz(0.0) ├─■───────────────────┼──────────────────»\n",
       "     ├───┤├─────────┤                     │ZZ(-1.0*gamma[0]) »\n",
       "q_2: ┤ H ├┤ Rz(0.0) ├─────────────────────■──────────────────»\n",
       "     ├───┤├─────────┤                                        »\n",
       "q_3: ┤ H ├┤ Rz(0.0) ├────────────────────────────────────────»\n",
       "     ├───┤├─────────┤                                        »\n",
       "q_4: ┤ H ├┤ Rz(0.0) ├────────────────────────────────────────»\n",
       "     ├───┤├─────────┤                                        »\n",
       "q_5: ┤ H ├┤ Rz(0.0) ├────────────────────────────────────────»\n",
       "     └───┘└─────────┘                                        »\n",
       "c: 6/════════════════════════════════════════════════════════»\n",
       "                                                             »\n",
       "«                                                          »\n",
       "«q_0: ─■───────────────────■───────────────────────────────»\n",
       "«      │                   │                               »\n",
       "«q_1: ─┼───────────────────┼───────────────────────────────»\n",
       "«      │                   │                               »\n",
       "«q_2: ─┼───────────────────┼───────────────────────────────»\n",
       "«      │ZZ(-4.5*gamma[0])  │                               »\n",
       "«q_3: ─■───────────────────┼───────────────────────────────»\n",
       "«                          │ZZ(-4.60977222864644*gamma[0]) »\n",
       "«q_4: ─────────────────────■───────────────────────────────»\n",
       "«                                                          »\n",
       "«q_5: ─────────────────────────────────────────────────────»\n",
       "«                                                          »\n",
       "«c: 6/═════════════════════════════════════════════════════»\n",
       "«                                                          »\n",
       "«                                                                              »\n",
       "«q_0: ─■────────────────────────────────■──────────────────────────────────────»\n",
       "«      │                                │ZZ(-1.0*gamma[0])                     »\n",
       "«q_1: ─┼────────────────────────────────■───────────────────■──────────────────»\n",
       "«      │                                                    │ZZ(-2.0*gamma[0]) »\n",
       "«q_2: ─┼────────────────────────────────────────────────────■──────────────────»\n",
       "«      │                                                                       »\n",
       "«q_3: ─┼───────────────────────────────────────────────────────────────────────»\n",
       "«      │                                                                       »\n",
       "«q_4: ─┼───────────────────────────────────────────────────────────────────────»\n",
       "«      │ZZ(-4.60977222864644*gamma[0])                                         »\n",
       "«q_5: ─■───────────────────────────────────────────────────────────────────────»\n",
       "«                                                                              »\n",
       "«c: 6/═════════════════════════════════════════════════════════════════════════»\n",
       "«                                                                              »\n",
       "«                                                                              »\n",
       "«q_0: ──────────────────────────────────■──────────────────────────────────────»\n",
       "«                                       │                                      »\n",
       "«q_1: ─■────────────────────────────────┼───────────────────■──────────────────»\n",
       "«      │                                │ZZ(-1.0*gamma[0])  │                  »\n",
       "«q_2: ─┼────────────────────────────────■───────────────────┼──────────────────»\n",
       "«      │ZZ(-4.60977222864644*gamma[0])                      │                  »\n",
       "«q_3: ─■────────────────────────────────────────────────────┼──────────────────»\n",
       "«                                                           │ZZ(-4.5*gamma[0]) »\n",
       "«q_4: ──────────────────────────────────────────────────────■──────────────────»\n",
       "«                                                                              »\n",
       "«q_5: ─────────────────────────────────────────────────────────────────────────»\n",
       "«                                                                              »\n",
       "«c: 6/═════════════════════════════════════════════════════════════════════════»\n",
       "«                                                                              »\n",
       "«                                                          »\n",
       "«q_0: ─────────────────────────────────────────────────────»\n",
       "«                                                          »\n",
       "«q_1: ─■────────────────────────────────■──────────────────»\n",
       "«      │                                │ZZ(-2.0*gamma[0]) »\n",
       "«q_2: ─┼────────────────────────────────■──────────────────»\n",
       "«      │                                                   »\n",
       "«q_3: ─┼───────────────────────────────────────────────────»\n",
       "«      │                                                   »\n",
       "«q_4: ─┼───────────────────────────────────────────────────»\n",
       "«      │ZZ(-4.92442890089805*gamma[0])                     »\n",
       "«q_5: ─■───────────────────────────────────────────────────»\n",
       "«                                                          »\n",
       "«c: 6/═════════════════════════════════════════════════════»\n",
       "«                                                          »\n",
       "«                                                                       »\n",
       "«q_0: ──────────────────────────────────────────────────────────────────»\n",
       "«                                                                       »\n",
       "«q_1: ──────────────────────────────────────────────────────────────────»\n",
       "«                                                                       »\n",
       "«q_2: ─■────────────────────────────────■───────────────────────────────»\n",
       "«      │ZZ(-4.60977222864644*gamma[0])  │                               »\n",
       "«q_3: ─■────────────────────────────────┼───────────────────────────────»\n",
       "«                                       │ZZ(-4.92442890089805*gamma[0]) »\n",
       "«q_4: ──────────────────────────────────■───────────────────────────────»\n",
       "«                                                                       »\n",
       "«q_5: ──────────────────────────────────────────────────────────────────»\n",
       "«                                                                       »\n",
       "«c: 6/══════════════════════════════════════════════════════════════════»\n",
       "«                                                                       »\n",
       "«                                                                              »\n",
       "«q_0: ─■───────────────────────────────────────────────────────────────────────»\n",
       "«      │                                                                       »\n",
       "«q_1: ─┼───────────────────────────────────────■───────────────────────────────»\n",
       "«      │                                       │                               »\n",
       "«q_2: ─┼───────────────────■───────────────────┼───────────────────────────────»\n",
       "«      │ZZ(-4.5*gamma[0])  │                   │ZZ(-4.60977222864644*gamma[0]) »\n",
       "«q_3: ─■───────────────────┼───────────────────■───────────────────────────────»\n",
       "«                          │                                                   »\n",
       "«q_4: ─────────────────────┼───────────────────────────────────────────────────»\n",
       "«                          │ZZ(-4.5*gamma[0])                                  »\n",
       "«q_5: ─────────────────────■───────────────────────────────────────────────────»\n",
       "«                                                                              »\n",
       "«c: 6/═════════════════════════════════════════════════════════════════════════»\n",
       "«                                                                              »\n",
       "«                                                                              »\n",
       "«q_0: ─────────────────────────────────────────────────────────────────────────»\n",
       "«                                                                              »\n",
       "«q_1: ─────────────────────────────────────────────────────────────────────────»\n",
       "«                                                                              »\n",
       "«q_2: ─■───────────────────────────────────────────────────────────────────────»\n",
       "«      │ZZ(-4.60977222864644*gamma[0])                                         »\n",
       "«q_3: ─■────────────────────────────────■───────────────────■──────────────────»\n",
       "«                                       │ZZ(-1.0*gamma[0])  │                  »\n",
       "«q_4: ──────────────────────────────────■───────────────────┼──────────────────»\n",
       "«                                                           │ZZ(-1.0*gamma[0]) »\n",
       "«q_5: ──────────────────────────────────────────────────────■──────────────────»\n",
       "«                                                                              »\n",
       "«c: 6/═════════════════════════════════════════════════════════════════════════»\n",
       "«                                                                              »\n",
       "«                                                          »\n",
       "«q_0: ─■───────────────────────────────────────────────────»\n",
       "«      │                                                   »\n",
       "«q_1: ─┼────────────────────────────────■──────────────────»\n",
       "«      │                                │                  »\n",
       "«q_2: ─┼────────────────────────────────┼──────────────────»\n",
       "«      │                                │                  »\n",
       "«q_3: ─┼────────────────────────────────┼──────────────────»\n",
       "«      │ZZ(-4.60977222864644*gamma[0])  │ZZ(-4.5*gamma[0]) »\n",
       "«q_4: ─■────────────────────────────────■──────────────────»\n",
       "«                                                          »\n",
       "«q_5: ─────────────────────────────────────────────────────»\n",
       "«                                                          »\n",
       "«c: 6/═════════════════════════════════════════════════════»\n",
       "«                                                          »\n",
       "«                                                                              »\n",
       "«q_0: ─────────────────────────────────────────────────────────────────────────»\n",
       "«                                                                              »\n",
       "«q_1: ─────────────────────────────────────────────────────────────────────────»\n",
       "«                                                                              »\n",
       "«q_2: ─■───────────────────────────────────────────────────────────────────────»\n",
       "«      │                                                                       »\n",
       "«q_3: ─┼────────────────────────────────■──────────────────────────────────────»\n",
       "«      │ZZ(-4.92442890089805*gamma[0])  │ZZ(-1.0*gamma[0])                     »\n",
       "«q_4: ─■────────────────────────────────■───────────────────■──────────────────»\n",
       "«                                                           │ZZ(-2.0*gamma[0]) »\n",
       "«q_5: ──────────────────────────────────────────────────────■──────────────────»\n",
       "«                                                                              »\n",
       "«c: 6/═════════════════════════════════════════════════════════════════════════»\n",
       "«                                                                              »\n",
       "«                                             ┌─────────────────┐       »\n",
       "«q_0: ─■──────────────────────────────────────┤ Rx(2.0*beta[0]) ├───────»\n",
       "«      │                                      └─────────────────┘       »\n",
       "«q_1: ─┼────────────────────────────────■───────────────────────────────»\n",
       "«      │                                │                               »\n",
       "«q_2: ─┼────────────────────────────────┼───────────────────────────────»\n",
       "«      │                                │                               »\n",
       "«q_3: ─┼────────────────────────────────┼───────────────────────────────»\n",
       "«      │                                │                               »\n",
       "«q_4: ─┼────────────────────────────────┼───────────────────────────────»\n",
       "«      │ZZ(-4.60977222864644*gamma[0])  │ZZ(-4.92442890089805*gamma[0]) »\n",
       "«q_5: ─■────────────────────────────────■───────────────────────────────»\n",
       "«                                                                       »\n",
       "«c: 6/══════════════════════════════════════════════════════════════════»\n",
       "«                                                                       »\n",
       "«                                                                 »\n",
       "«q_0: ────────────────────────────────────────────────────────────»\n",
       "«     ┌─────────────────┐                                         »\n",
       "«q_1: ┤ Rx(2.0*beta[0]) ├─────────────────────────────────────────»\n",
       "«     └─────────────────┘ ┌─────────────────┐                     »\n",
       "«q_2: ─■──────────────────┤ Rx(2.0*beta[0]) ├─────────────────────»\n",
       "«      │                  └─────────────────┘ ┌─────────────────┐ »\n",
       "«q_3: ─┼───────────────────■──────────────────┤ Rx(2.0*beta[0]) ├─»\n",
       "«      │                   │                  └─────────────────┘ »\n",
       "«q_4: ─┼───────────────────┼───────────────────■──────────────────»\n",
       "«      │ZZ(-4.5*gamma[0])  │ZZ(-1.0*gamma[0])  │ZZ(-2.0*gamma[0]) »\n",
       "«q_5: ─■───────────────────■───────────────────■──────────────────»\n",
       "«                                                                 »\n",
       "«c: 6/════════════════════════════════════════════════════════════»\n",
       "«                                                                 »\n",
       "«                        \n",
       "«q_0: ───────────────────\n",
       "«                        \n",
       "«q_1: ───────────────────\n",
       "«                        \n",
       "«q_2: ───────────────────\n",
       "«                        \n",
       "«q_3: ───────────────────\n",
       "«     ┌─────────────────┐\n",
       "«q_4: ┤ Rx(2.0*beta[0]) ├\n",
       "«     ├─────────────────┤\n",
       "«q_5: ┤ Rx(2.0*beta[0]) ├\n",
       "«     └─────────────────┘\n",
       "«c: 6/═══════════════════\n",
       "«                        </pre>"
      ],
      "text/plain": [
       "     ┌───┐┌─────────┐                                        »\n",
       "q_0: ┤ H ├┤ Rz(0.0) ├─■───────────────────■──────────────────»\n",
       "     ├───┤├─────────┤ │ZZ(-1.0*gamma[0])  │                  »\n",
       "q_1: ┤ H ├┤ Rz(0.0) ├─■───────────────────┼──────────────────»\n",
       "     ├───┤├─────────┤                     │ZZ(-1.0*gamma[0]) »\n",
       "q_2: ┤ H ├┤ Rz(0.0) ├─────────────────────■──────────────────»\n",
       "     ├───┤├─────────┤                                        »\n",
       "q_3: ┤ H ├┤ Rz(0.0) ├────────────────────────────────────────»\n",
       "     ├───┤├─────────┤                                        »\n",
       "q_4: ┤ H ├┤ Rz(0.0) ├────────────────────────────────────────»\n",
       "     ├───┤├─────────┤                                        »\n",
       "q_5: ┤ H ├┤ Rz(0.0) ├────────────────────────────────────────»\n",
       "     └───┘└─────────┘                                        »\n",
       "c: 6/════════════════════════════════════════════════════════»\n",
       "                                                             »\n",
       "«                                                          »\n",
       "«q_0: ─■───────────────────■───────────────────────────────»\n",
       "«      │                   │                               »\n",
       "«q_1: ─┼───────────────────┼───────────────────────────────»\n",
       "«      │                   │                               »\n",
       "«q_2: ─┼───────────────────┼───────────────────────────────»\n",
       "«      │ZZ(-4.5*gamma[0])  │                               »\n",
       "«q_3: ─■───────────────────┼───────────────────────────────»\n",
       "«                          │ZZ(-4.60977222864644*gamma[0]) »\n",
       "«q_4: ─────────────────────■───────────────────────────────»\n",
       "«                                                          »\n",
       "«q_5: ─────────────────────────────────────────────────────»\n",
       "«                                                          »\n",
       "«c: 6/═════════════════════════════════════════════════════»\n",
       "«                                                          »\n",
       "«                                                                              »\n",
       "«q_0: ─■────────────────────────────────■──────────────────────────────────────»\n",
       "«      │                                │ZZ(-1.0*gamma[0])                     »\n",
       "«q_1: ─┼────────────────────────────────■───────────────────■──────────────────»\n",
       "«      │                                                    │ZZ(-2.0*gamma[0]) »\n",
       "«q_2: ─┼────────────────────────────────────────────────────■──────────────────»\n",
       "«      │                                                                       »\n",
       "«q_3: ─┼───────────────────────────────────────────────────────────────────────»\n",
       "«      │                                                                       »\n",
       "«q_4: ─┼───────────────────────────────────────────────────────────────────────»\n",
       "«      │ZZ(-4.60977222864644*gamma[0])                                         »\n",
       "«q_5: ─■───────────────────────────────────────────────────────────────────────»\n",
       "«                                                                              »\n",
       "«c: 6/═════════════════════════════════════════════════════════════════════════»\n",
       "«                                                                              »\n",
       "«                                                                              »\n",
       "«q_0: ──────────────────────────────────■──────────────────────────────────────»\n",
       "«                                       │                                      »\n",
       "«q_1: ─■────────────────────────────────┼───────────────────■──────────────────»\n",
       "«      │                                │ZZ(-1.0*gamma[0])  │                  »\n",
       "«q_2: ─┼────────────────────────────────■───────────────────┼──────────────────»\n",
       "«      │ZZ(-4.60977222864644*gamma[0])                      │                  »\n",
       "«q_3: ─■────────────────────────────────────────────────────┼──────────────────»\n",
       "«                                                           │ZZ(-4.5*gamma[0]) »\n",
       "«q_4: ──────────────────────────────────────────────────────■──────────────────»\n",
       "«                                                                              »\n",
       "«q_5: ─────────────────────────────────────────────────────────────────────────»\n",
       "«                                                                              »\n",
       "«c: 6/═════════════════════════════════════════════════════════════════════════»\n",
       "«                                                                              »\n",
       "«                                                          »\n",
       "«q_0: ─────────────────────────────────────────────────────»\n",
       "«                                                          »\n",
       "«q_1: ─■────────────────────────────────■──────────────────»\n",
       "«      │                                │ZZ(-2.0*gamma[0]) »\n",
       "«q_2: ─┼────────────────────────────────■──────────────────»\n",
       "«      │                                                   »\n",
       "«q_3: ─┼───────────────────────────────────────────────────»\n",
       "«      │                                                   »\n",
       "«q_4: ─┼───────────────────────────────────────────────────»\n",
       "«      │ZZ(-4.92442890089805*gamma[0])                     »\n",
       "«q_5: ─■───────────────────────────────────────────────────»\n",
       "«                                                          »\n",
       "«c: 6/═════════════════════════════════════════════════════»\n",
       "«                                                          »\n",
       "«                                                                       »\n",
       "«q_0: ──────────────────────────────────────────────────────────────────»\n",
       "«                                                                       »\n",
       "«q_1: ──────────────────────────────────────────────────────────────────»\n",
       "«                                                                       »\n",
       "«q_2: ─■────────────────────────────────■───────────────────────────────»\n",
       "«      │ZZ(-4.60977222864644*gamma[0])  │                               »\n",
       "«q_3: ─■────────────────────────────────┼───────────────────────────────»\n",
       "«                                       │ZZ(-4.92442890089805*gamma[0]) »\n",
       "«q_4: ──────────────────────────────────■───────────────────────────────»\n",
       "«                                                                       »\n",
       "«q_5: ──────────────────────────────────────────────────────────────────»\n",
       "«                                                                       »\n",
       "«c: 6/══════════════════════════════════════════════════════════════════»\n",
       "«                                                                       »\n",
       "«                                                                              »\n",
       "«q_0: ─■───────────────────────────────────────────────────────────────────────»\n",
       "«      │                                                                       »\n",
       "«q_1: ─┼───────────────────────────────────────■───────────────────────────────»\n",
       "«      │                                       │                               »\n",
       "«q_2: ─┼───────────────────■───────────────────┼───────────────────────────────»\n",
       "«      │ZZ(-4.5*gamma[0])  │                   │ZZ(-4.60977222864644*gamma[0]) »\n",
       "«q_3: ─■───────────────────┼───────────────────■───────────────────────────────»\n",
       "«                          │                                                   »\n",
       "«q_4: ─────────────────────┼───────────────────────────────────────────────────»\n",
       "«                          │ZZ(-4.5*gamma[0])                                  »\n",
       "«q_5: ─────────────────────■───────────────────────────────────────────────────»\n",
       "«                                                                              »\n",
       "«c: 6/═════════════════════════════════════════════════════════════════════════»\n",
       "«                                                                              »\n",
       "«                                                                              »\n",
       "«q_0: ─────────────────────────────────────────────────────────────────────────»\n",
       "«                                                                              »\n",
       "«q_1: ─────────────────────────────────────────────────────────────────────────»\n",
       "«                                                                              »\n",
       "«q_2: ─■───────────────────────────────────────────────────────────────────────»\n",
       "«      │ZZ(-4.60977222864644*gamma[0])                                         »\n",
       "«q_3: ─■────────────────────────────────■───────────────────■──────────────────»\n",
       "«                                       │ZZ(-1.0*gamma[0])  │                  »\n",
       "«q_4: ──────────────────────────────────■───────────────────┼──────────────────»\n",
       "«                                                           │ZZ(-1.0*gamma[0]) »\n",
       "«q_5: ──────────────────────────────────────────────────────■──────────────────»\n",
       "«                                                                              »\n",
       "«c: 6/═════════════════════════════════════════════════════════════════════════»\n",
       "«                                                                              »\n",
       "«                                                          »\n",
       "«q_0: ─■───────────────────────────────────────────────────»\n",
       "«      │                                                   »\n",
       "«q_1: ─┼────────────────────────────────■──────────────────»\n",
       "«      │                                │                  »\n",
       "«q_2: ─┼────────────────────────────────┼──────────────────»\n",
       "«      │                                │                  »\n",
       "«q_3: ─┼────────────────────────────────┼──────────────────»\n",
       "«      │ZZ(-4.60977222864644*gamma[0])  │ZZ(-4.5*gamma[0]) »\n",
       "«q_4: ─■────────────────────────────────■──────────────────»\n",
       "«                                                          »\n",
       "«q_5: ─────────────────────────────────────────────────────»\n",
       "«                                                          »\n",
       "«c: 6/═════════════════════════════════════════════════════»\n",
       "«                                                          »\n",
       "«                                                                              »\n",
       "«q_0: ─────────────────────────────────────────────────────────────────────────»\n",
       "«                                                                              »\n",
       "«q_1: ─────────────────────────────────────────────────────────────────────────»\n",
       "«                                                                              »\n",
       "«q_2: ─■───────────────────────────────────────────────────────────────────────»\n",
       "«      │                                                                       »\n",
       "«q_3: ─┼────────────────────────────────■──────────────────────────────────────»\n",
       "«      │ZZ(-4.92442890089805*gamma[0])  │ZZ(-1.0*gamma[0])                     »\n",
       "«q_4: ─■────────────────────────────────■───────────────────■──────────────────»\n",
       "«                                                           │ZZ(-2.0*gamma[0]) »\n",
       "«q_5: ──────────────────────────────────────────────────────■──────────────────»\n",
       "«                                                                              »\n",
       "«c: 6/═════════════════════════════════════════════════════════════════════════»\n",
       "«                                                                              »\n",
       "«                                             ┌─────────────────┐       »\n",
       "«q_0: ─■──────────────────────────────────────┤ Rx(2.0*beta[0]) ├───────»\n",
       "«      │                                      └─────────────────┘       »\n",
       "«q_1: ─┼────────────────────────────────■───────────────────────────────»\n",
       "«      │                                │                               »\n",
       "«q_2: ─┼────────────────────────────────┼───────────────────────────────»\n",
       "«      │                                │                               »\n",
       "«q_3: ─┼────────────────────────────────┼───────────────────────────────»\n",
       "«      │                                │                               »\n",
       "«q_4: ─┼────────────────────────────────┼───────────────────────────────»\n",
       "«      │ZZ(-4.60977222864644*gamma[0])  │ZZ(-4.92442890089805*gamma[0]) »\n",
       "«q_5: ─■────────────────────────────────■───────────────────────────────»\n",
       "«                                                                       »\n",
       "«c: 6/══════════════════════════════════════════════════════════════════»\n",
       "«                                                                       »\n",
       "«                                                                 »\n",
       "«q_0: ────────────────────────────────────────────────────────────»\n",
       "«     ┌─────────────────┐                                         »\n",
       "«q_1: ┤ Rx(2.0*beta[0]) ├─────────────────────────────────────────»\n",
       "«     └─────────────────┘ ┌─────────────────┐                     »\n",
       "«q_2: ─■──────────────────┤ Rx(2.0*beta[0]) ├─────────────────────»\n",
       "«      │                  └─────────────────┘ ┌─────────────────┐ »\n",
       "«q_3: ─┼───────────────────■──────────────────┤ Rx(2.0*beta[0]) ├─»\n",
       "«      │                   │                  └─────────────────┘ »\n",
       "«q_4: ─┼───────────────────┼───────────────────■──────────────────»\n",
       "«      │ZZ(-4.5*gamma[0])  │ZZ(-1.0*gamma[0])  │ZZ(-2.0*gamma[0]) »\n",
       "«q_5: ─■───────────────────■───────────────────■──────────────────»\n",
       "«                                                                 »\n",
       "«c: 6/════════════════════════════════════════════════════════════»\n",
       "«                                                                 »\n",
       "«                        \n",
       "«q_0: ───────────────────\n",
       "«                        \n",
       "«q_1: ───────────────────\n",
       "«                        \n",
       "«q_2: ───────────────────\n",
       "«                        \n",
       "«q_3: ───────────────────\n",
       "«     ┌─────────────────┐\n",
       "«q_4: ┤ Rx(2.0*beta[0]) ├\n",
       "«     ├─────────────────┤\n",
       "«q_5: ┤ Rx(2.0*beta[0]) ├\n",
       "«     └─────────────────┘\n",
       "«c: 6/═══════════════════\n",
       "«                        "
      ]
     },
     "execution_count": 165,
     "metadata": {},
     "output_type": "execute_result"
    }
   ],
   "source": [
    "custom_circuit.draw()"
   ]
  },
  {
   "cell_type": "code",
   "execution_count": 166,
   "id": "f313f33e",
   "metadata": {},
   "outputs": [],
   "source": [
    "def get_qoao_result(G, simulator='statevector_simulator'):\n",
    "    backend = Aer.get_backend(simulator)\n",
    "    qaoa = QAOA(optimizer = ADAM(), quantum_instance = backend, reps=1, initial_point = [0.1,0.1])\n",
    "    eigen_optimizer = MinimumEigenOptimizer(min_eigen_solver = qaoa)\n",
    "    quadratic_program = quadratic_program_from_graph(G)\n",
    "    print(\"succesfully created a quadratic program\")\n",
    "    start_time = time()\n",
    "    result = eigen_optimizer.solve(quadratic_program)\n",
    "    end_time = time()\n",
    "    print(\"Time taken: \", end_time - start_time)\n",
    "    print(result)\n",
    "    return result"
   ]
  },
  {
   "cell_type": "code",
   "execution_count": 113,
   "id": "4ea6dce3",
   "metadata": {
    "scrolled": true
   },
   "outputs": [
    {
     "name": "stdout",
     "output_type": "stream",
     "text": [
      "succesfully created a quadratic program\n",
      "Time taken:  3.998422622680664\n",
      "optimal function value: 83.57589343276376\n",
      "optimal value: [1. 1. 1. 0. 0. 0.]\n",
      "status: SUCCESS\n"
     ]
    }
   ],
   "source": [
    "result = get_qoao_result(G)"
   ]
  },
  {
   "cell_type": "code",
   "execution_count": 114,
   "id": "0922862f",
   "metadata": {
    "scrolled": true
   },
   "outputs": [
    {
     "data": {
      "text/plain": [
       "Text(0.5, 1.0, 'Quantum Prediction')"
      ]
     },
     "execution_count": 114,
     "metadata": {},
     "output_type": "execute_result"
    },
    {
     "data": {
      "image/png": "[encoded data removed]",
      "text/plain": [
       "<Figure size 600x400 with 1 Axes>"
      ]
     },
     "metadata": {
      "needs_background": "light"
     },
     "output_type": "display_data"
    }
   ],
   "source": [
    "y_pred = result.x\n",
    "plt.subplot(221)\n",
    "plt.scatter(X[:, 0], X[:, 1], c=y_pred)\n",
    "plt.title(\"Quantum Prediction\")"
   ]
  },
  {
   "cell_type": "markdown",
   "id": "fff2a3d5",
   "metadata": {},
   "source": [
    "### Performance on Blobs dataset - 2 centers"
   ]
  },
  {
   "cell_type": "code",
   "execution_count": 115,
   "id": "9e970457",
   "metadata": {},
   "outputs": [],
   "source": [
    "from sklearn.datasets import make_blobs"
   ]
  },
  {
   "cell_type": "code",
   "execution_count": 116,
   "id": "5cb2d4a6",
   "metadata": {},
   "outputs": [],
   "source": [
    "n_samples = 10\n",
    "random_state = 170\n",
    "X, y = make_blobs(n_samples=n_samples, random_state=random_state, centers=2)"
   ]
  },
  {
   "cell_type": "code",
   "execution_count": 117,
   "id": "f50d61f2",
   "metadata": {},
   "outputs": [
    {
     "data": {
      "text/plain": [
       "Text(0.5, 1.0, 'Classical K-means')"
      ]
     },
     "execution_count": 117,
     "metadata": {},
     "output_type": "execute_result"
    },
    {
     "data": {
      "image/png": "[encoded data removed]",
      "text/plain": [
       "<Figure size 600x400 with 1 Axes>"
      ]
     },
     "metadata": {
      "needs_background": "light"
     },
     "output_type": "display_data"
    }
   ],
   "source": [
    "y_pred = KMeans(n_clusters=2, random_state=random_state).fit_predict(X)\n",
    "\n",
    "plt.subplot(221)\n",
    "plt.scatter(X[:, 0], X[:, 1], c=y_pred)\n",
    "plt.title(\"Classical K-means\")"
   ]
  },
  {
   "cell_type": "markdown",
   "id": "17c58c28",
   "metadata": {},
   "source": [
    "### Quantum K-means"
   ]
  },
  {
   "cell_type": "code",
   "execution_count": 118,
   "id": "a927f00f",
   "metadata": {},
   "outputs": [
    {
     "name": "stdout",
     "output_type": "stream",
     "text": [
      "succesfully created a quadratic program\n",
      "Time taken:  24.36424684524536\n",
      "optimal function value: 159.50110583469316\n",
      "optimal value: [0. 0. 1. 0. 1. 0. 1. 1. 1. 0.]\n",
      "status: SUCCESS\n"
     ]
    },
    {
     "data": {
      "text/plain": [
       "Text(0.5, 1.0, 'Quantum Prediction')"
      ]
     },
     "execution_count": 118,
     "metadata": {},
     "output_type": "execute_result"
    },
    {
     "data": {
      "image/png": "[encoded data removed]",
      "text/plain": [
       "<Figure size 600x400 with 1 Axes>"
      ]
     },
     "metadata": {
      "needs_background": "light"
     },
     "output_type": "display_data"
    }
   ],
   "source": [
    "points = get_points_dict(X)\n",
    "G = graph_from_points(points)\n",
    "result = get_qoao_result(G, simulator='statevector_simulator')\n",
    "y_pred = result.x\n",
    "plt.subplot(221)\n",
    "plt.scatter(X[:, 0], X[:, 1], c=y_pred)\n",
    "plt.title(\"Quantum Prediction\")"
   ]
  },
  {
   "cell_type": "markdown",
   "id": "24ca9880",
   "metadata": {},
   "source": [
    "### Performance on blobs dataset - 3 centers"
   ]
  },
  {
   "cell_type": "code",
   "execution_count": 119,
   "id": "5722f279",
   "metadata": {},
   "outputs": [],
   "source": [
    "n_samples = 10\n",
    "random_state = 170\n",
    "X, y = make_blobs(n_samples=n_samples, random_state=random_state, centers=3)"
   ]
  },
  {
   "cell_type": "code",
   "execution_count": 120,
   "id": "f70da979",
   "metadata": {},
   "outputs": [
    {
     "data": {
      "text/plain": [
       "Text(0.5, 1.0, 'Incorrect Number of Blobs')"
      ]
     },
     "execution_count": 120,
     "metadata": {},
     "output_type": "execute_result"
    },
    {
     "data": {
      "image/png": "[encoded data removed]",
      "text/plain": [
       "<Figure size 600x400 with 1 Axes>"
      ]
     },
     "metadata": {
      "needs_background": "light"
     },
     "output_type": "display_data"
    }
   ],
   "source": [
    "y_pred = KMeans(n_clusters=2, random_state=random_state).fit_predict(X)\n",
    "plt.subplot(221)\n",
    "plt.scatter(X[:, 0], X[:, 1], c=y_pred)\n",
    "plt.title(\"Incorrect Number of Blobs\")"
   ]
  },
  {
   "cell_type": "code",
   "execution_count": 121,
   "id": "22e3a102",
   "metadata": {},
   "outputs": [
    {
     "data": {
      "text/plain": [
       "Text(0.5, 1.0, 'Correct Number of Blobs')"
      ]
     },
     "execution_count": 121,
     "metadata": {},
     "output_type": "execute_result"
    },
    {
     "data": {
      "image/png": "[encoded data removed]",
      "text/plain": [
       "<Figure size 600x400 with 1 Axes>"
      ]
     },
     "metadata": {
      "needs_background": "light"
     },
     "output_type": "display_data"
    }
   ],
   "source": [
    "y_pred = KMeans(n_clusters=3, random_state=random_state).fit_predict(X)\n",
    "plt.subplot(221)\n",
    "plt.scatter(X[:, 0], X[:, 1], c=y_pred)\n",
    "plt.title(\"Correct Number of Blobs\")"
   ]
  },
  {
   "cell_type": "markdown",
   "id": "0a38c852",
   "metadata": {},
   "source": [
    "### Quantum Prediction"
   ]
  },
  {
   "cell_type": "code",
   "execution_count": 122,
   "id": "024f7a07",
   "metadata": {
    "scrolled": true
   },
   "outputs": [
    {
     "name": "stdout",
     "output_type": "stream",
     "text": [
      "succesfully created a quadratic program\n",
      "Time taken:  21.87635087966919\n",
      "optimal function value: 233.18212870888854\n",
      "optimal value: [1. 1. 1. 1. 1. 0. 0. 0. 0. 0.]\n",
      "status: SUCCESS\n"
     ]
    },
    {
     "data": {
      "text/plain": [
       "Text(0.5, 1.0, 'Quantum Prediction')"
      ]
     },
     "execution_count": 122,
     "metadata": {},
     "output_type": "execute_result"
    },
    {
     "data": {
      "image/png": "[encoded data removed]",
      "text/plain": [
       "<Figure size 600x400 with 1 Axes>"
      ]
     },
     "metadata": {
      "needs_background": "light"
     },
     "output_type": "display_data"
    }
   ],
   "source": [
    "points = get_points_dict(X)\n",
    "G = graph_from_points(points)\n",
    "result = get_qoao_result(G, simulator='statevector_simulator')\n",
    "y_pred = result.x\n",
    "plt.subplot(221)\n",
    "plt.scatter(X[:, 0], X[:, 1], c=y_pred)\n",
    "plt.title(\"Quantum Prediction\")"
   ]
  }
 ],
 "metadata": {
  "kernelspec": {
   "display_name": "Python 3 (ipykernel)",
   "language": "python",
   "name": "python3"
  },
  "language_info": {
   "codemirror_mode": {
    "name": "ipython",
    "version": 3
   },
   "file_extension": ".py",
   "mimetype": "text/x-python",
   "name": "python",
   "nbconvert_exporter": "python",
   "pygments_lexer": "ipython3",
   "version": "3.9.6"
  }
 },
 "nbformat": 4,
 "nbformat_minor": 5
}
